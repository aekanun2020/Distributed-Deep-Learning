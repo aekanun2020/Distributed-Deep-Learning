{
 "cells": [
  {
   "cell_type": "code",
   "execution_count": 1,
   "metadata": {},
   "outputs": [
    {
     "data": {
      "text/html": [
       "\n",
       "        <div>\n",
       "            <p><b>SparkContext</b></p>\n",
       "\n",
       "            <p><a href=\"http://student-aekanun-spark-m-small.c.all-ih.internal:4040\">Spark UI</a></p>\n",
       "\n",
       "            <dl>\n",
       "              <dt>Version</dt>\n",
       "                <dd><code>v2.4.0</code></dd>\n",
       "              <dt>Master</dt>\n",
       "                <dd><code>spark://student-aekanun-spark-m-small:7077</code></dd>\n",
       "              <dt>AppName</dt>\n",
       "                <dd><code>PySparkShell</code></dd>\n",
       "            </dl>\n",
       "        </div>\n",
       "        "
      ],
      "text/plain": [
       "<SparkContext master=spark://student-aekanun-spark-m-small:7077 appName=PySparkShell>"
      ]
     },
     "execution_count": 1,
     "metadata": {},
     "output_type": "execute_result"
    }
   ],
   "source": [
    "sc"
   ]
  },
  {
   "cell_type": "code",
   "execution_count": 2,
   "metadata": {},
   "outputs": [
    {
     "name": "stdout",
     "output_type": "stream",
     "text": [
      "total 280\r\n",
      "drwxr-xr-x 2 aekanun aekanun  69632 Dec 31  2017 NORMAL\r\n",
      "drwxr-xr-x 2 aekanun aekanun 208896 Jan  6  2018 PNEUMONIA\r\n"
     ]
    }
   ],
   "source": [
    "! ls -l /home/aekanun/input/chest_xray/train"
   ]
  },
  {
   "cell_type": "code",
   "execution_count": 3,
   "metadata": {},
   "outputs": [
    {
     "name": "stdout",
     "output_type": "stream",
     "text": [
      "ls: cannot access '/home/aekanun/chestimage/chest_xray': No such file or directory\r\n"
     ]
    }
   ],
   "source": [
    "! ls -l /home/aekanun/chestimage/chest_xray"
   ]
  },
  {
   "cell_type": "code",
   "execution_count": 4,
   "metadata": {},
   "outputs": [
    {
     "name": "stdout",
     "output_type": "stream",
     "text": [
      "1349\r\n"
     ]
    }
   ],
   "source": [
    "! ls /home/aekanun/input/chest_xray/train/NORMAL/*.jpeg | wc -l"
   ]
  },
  {
   "cell_type": "code",
   "execution_count": 5,
   "metadata": {},
   "outputs": [
    {
     "name": "stdout",
     "output_type": "stream",
     "text": [
      "3883\r\n"
     ]
    }
   ],
   "source": [
    "! ls /home/aekanun/input/chest_xray/train/PNEUMONIA/*.jpeg | wc -l"
   ]
  },
  {
   "cell_type": "code",
   "execution_count": 6,
   "metadata": {
    "collapsed": true
   },
   "outputs": [],
   "source": [
    "#! ls /home/aekanun/flower_photos/tulips/*.jpg"
   ]
  },
  {
   "cell_type": "code",
   "execution_count": 7,
   "metadata": {},
   "outputs": [
    {
     "name": "stderr",
     "output_type": "stream",
     "text": [
      "Using TensorFlow backend.\n",
      "/home/aekanun/anaconda3/lib/python3.6/importlib/_bootstrap.py:205: RuntimeWarning: compiletime version 3.5 of module 'tensorflow.python.framework.fast_tensor_util' does not match runtime version 3.6\n",
      "  return f(*args, **kwds)\n"
     ]
    }
   ],
   "source": [
    "import numpy as np # linear algebra\n",
    "import pandas as pd # data processing, CSV file I/O (e.g. pd.read_csv)\n",
    "from matplotlib import pyplot as plt #Ploting charts\n",
    "from glob import glob #retriving an array of files in directories\n",
    "from keras.models import Sequential #for neural network models\n",
    "from keras.layers import Dense, Dropout, Flatten, ZeroPadding2D, Conv2D, MaxPooling2D\n",
    "from keras.preprocessing.image import ImageDataGenerator #Data augmentation and preprocessing\n",
    "from keras.utils import to_categorical #For One-hot Encoding\n",
    "from keras.optimizers import Adam, SGD, RMSprop #For Optimizing the Neural Network\n",
    "from keras.callbacks import EarlyStopping"
   ]
  },
  {
   "cell_type": "code",
   "execution_count": 8,
   "metadata": {},
   "outputs": [
    {
     "name": "stdout",
     "output_type": "stream",
     "text": [
      "['test', 'train', '.DS_Store']\n"
     ]
    }
   ],
   "source": [
    "#Cheking datasets\n",
    "import os\n",
    "paths = os.listdir(path=\"/home/aekanun/input/chest_xray\")\n",
    "print(paths)"
   ]
  },
  {
   "cell_type": "code",
   "execution_count": 9,
   "metadata": {
    "collapsed": true
   },
   "outputs": [],
   "source": [
    "path_train = \"/home/aekanun/input/chest_xray/train\"\n",
    "path_val = \"/home/aekanun/input/chest_xray/val\"\n",
    "path_test = \"/home/aekanun/input/chest_xray/test\""
   ]
  },
  {
   "cell_type": "code",
   "execution_count": 10,
   "metadata": {
    "collapsed": true
   },
   "outputs": [],
   "source": [
    "img = glob(path_train+\"/PNEUMONIA/*.jpeg\") #Getting all images in this folder"
   ]
  },
  {
   "cell_type": "code",
   "execution_count": 11,
   "metadata": {},
   "outputs": [
    {
     "data": {
      "text/plain": [
       "['/home/aekanun/input/chest_xray/train/PNEUMONIA/person1661_bacteria_4406.jpeg',\n",
       " '/home/aekanun/input/chest_xray/train/PNEUMONIA/person759_virus_1387.jpeg',\n",
       " '/home/aekanun/input/chest_xray/train/PNEUMONIA/person546_virus_1085.jpeg',\n",
       " '/home/aekanun/input/chest_xray/train/PNEUMONIA/person276_bacteria_1296.jpeg',\n",
       " '/home/aekanun/input/chest_xray/train/PNEUMONIA/person1454_bacteria_3779.jpeg',\n",
       " '/home/aekanun/input/chest_xray/train/PNEUMONIA/person763_virus_1391.jpeg',\n",
       " '/home/aekanun/input/chest_xray/train/PNEUMONIA/person997_virus_1678.jpeg',\n",
       " '/home/aekanun/input/chest_xray/train/PNEUMONIA/person51_bacteria_246.jpeg',\n",
       " '/home/aekanun/input/chest_xray/train/PNEUMONIA/person992_bacteria_2919.jpeg',\n",
       " '/home/aekanun/input/chest_xray/train/PNEUMONIA/person1019_bacteria_2950.jpeg',\n",
       " '/home/aekanun/input/chest_xray/train/PNEUMONIA/person702_virus_1299.jpeg',\n",
       " '/home/aekanun/input/chest_xray/train/PNEUMONIA/person947_bacteria_2872.jpeg',\n",
       " '/home/aekanun/input/chest_xray/train/PNEUMONIA/person1058_bacteria_2992.jpeg',\n",
       " '/home/aekanun/input/chest_xray/train/PNEUMONIA/person1066_bacteria_3000.jpeg',\n",
       " '/home/aekanun/input/chest_xray/train/PNEUMONIA/person1392_bacteria_3538.jpeg',\n",
       " '/home/aekanun/input/chest_xray/train/PNEUMONIA/person1269_bacteria_3229.jpeg',\n",
       " '/home/aekanun/input/chest_xray/train/PNEUMONIA/person23_bacteria_97.jpeg',\n",
       " '/home/aekanun/input/chest_xray/train/PNEUMONIA/person494_bacteria_2088.jpeg',\n",
       " '/home/aekanun/input/chest_xray/train/PNEUMONIA/person297_bacteria_1400.jpeg',\n",
       " '/home/aekanun/input/chest_xray/train/PNEUMONIA/person655_bacteria_2547.jpeg',\n",
       " '/home/aekanun/input/chest_xray/train/PNEUMONIA/person563_bacteria_2340.jpeg',\n",
       " '/home/aekanun/input/chest_xray/train/PNEUMONIA/person1571_virus_2728.jpeg',\n",
       " '/home/aekanun/input/chest_xray/train/PNEUMONIA/person580_bacteria_2387.jpeg',\n",
       " '/home/aekanun/input/chest_xray/train/PNEUMONIA/person451_virus_932.jpeg',\n",
       " '/home/aekanun/input/chest_xray/train/PNEUMONIA/person480_virus_982.jpeg',\n",
       " '/home/aekanun/input/chest_xray/train/PNEUMONIA/person731_virus_1352.jpeg',\n",
       " '/home/aekanun/input/chest_xray/train/PNEUMONIA/person1482_virus_2573.jpeg',\n",
       " '/home/aekanun/input/chest_xray/train/PNEUMONIA/person1320_bacteria_3351.jpeg',\n",
       " '/home/aekanun/input/chest_xray/train/PNEUMONIA/person537_bacteria_2261.jpeg',\n",
       " '/home/aekanun/input/chest_xray/train/PNEUMONIA/person460_virus_948.jpeg',\n",
       " '/home/aekanun/input/chest_xray/train/PNEUMONIA/person106_virus_194.jpeg',\n",
       " '/home/aekanun/input/chest_xray/train/PNEUMONIA/person442_virus_902.jpeg',\n",
       " '/home/aekanun/input/chest_xray/train/PNEUMONIA/person264_bacteria_1228.jpeg',\n",
       " '/home/aekanun/input/chest_xray/train/PNEUMONIA/person1491_virus_2597.jpeg',\n",
       " '/home/aekanun/input/chest_xray/train/PNEUMONIA/person157_virus_311.jpeg',\n",
       " '/home/aekanun/input/chest_xray/train/PNEUMONIA/person1499_bacteria_3915.jpeg',\n",
       " '/home/aekanun/input/chest_xray/train/PNEUMONIA/person270_virus_555.jpeg',\n",
       " '/home/aekanun/input/chest_xray/train/PNEUMONIA/person118_virus_224.jpeg',\n",
       " '/home/aekanun/input/chest_xray/train/PNEUMONIA/person547_bacteria_2296.jpeg',\n",
       " '/home/aekanun/input/chest_xray/train/PNEUMONIA/person1315_bacteria_3322.jpeg',\n",
       " '/home/aekanun/input/chest_xray/train/PNEUMONIA/person1105_bacteria_3046.jpeg',\n",
       " '/home/aekanun/input/chest_xray/train/PNEUMONIA/person1905_bacteria_4801.jpeg',\n",
       " '/home/aekanun/input/chest_xray/train/PNEUMONIA/person427_bacteria_1864.jpeg',\n",
       " '/home/aekanun/input/chest_xray/train/PNEUMONIA/person1935_bacteria_4849.jpeg',\n",
       " '/home/aekanun/input/chest_xray/train/PNEUMONIA/person319_bacteria_1479.jpeg',\n",
       " '/home/aekanun/input/chest_xray/train/PNEUMONIA/person145_virus_294.jpeg',\n",
       " '/home/aekanun/input/chest_xray/train/PNEUMONIA/person1548_virus_2689.jpeg',\n",
       " '/home/aekanun/input/chest_xray/train/PNEUMONIA/person1700_bacteria_4502.jpeg',\n",
       " '/home/aekanun/input/chest_xray/train/PNEUMONIA/person537_bacteria_2263.jpeg',\n",
       " '/home/aekanun/input/chest_xray/train/PNEUMONIA/person445_bacteria_1929.jpeg',\n",
       " '/home/aekanun/input/chest_xray/train/PNEUMONIA/person18_bacteria_57.jpeg',\n",
       " '/home/aekanun/input/chest_xray/train/PNEUMONIA/person1004_virus_1686.jpeg',\n",
       " '/home/aekanun/input/chest_xray/train/PNEUMONIA/person462_bacteria_1961.jpeg',\n",
       " '/home/aekanun/input/chest_xray/train/PNEUMONIA/person445_virus_919.jpeg',\n",
       " '/home/aekanun/input/chest_xray/train/PNEUMONIA/person1158_virus_1942.jpeg',\n",
       " '/home/aekanun/input/chest_xray/train/PNEUMONIA/person309_bacteria_1447.jpeg',\n",
       " '/home/aekanun/input/chest_xray/train/PNEUMONIA/person913_bacteria_2838.jpeg',\n",
       " '/home/aekanun/input/chest_xray/train/PNEUMONIA/person1883_bacteria_4769.jpeg',\n",
       " '/home/aekanun/input/chest_xray/train/PNEUMONIA/person1018_virus_1706.jpeg',\n",
       " '/home/aekanun/input/chest_xray/train/PNEUMONIA/person308_bacteria_1443.jpeg',\n",
       " '/home/aekanun/input/chest_xray/train/PNEUMONIA/person1636_bacteria_4338.jpeg',\n",
       " '/home/aekanun/input/chest_xray/train/PNEUMONIA/person693_bacteria_2590.jpeg',\n",
       " '/home/aekanun/input/chest_xray/train/PNEUMONIA/person1026_bacteria_2957.jpeg',\n",
       " '/home/aekanun/input/chest_xray/train/PNEUMONIA/person326_virus_668.jpeg',\n",
       " '/home/aekanun/input/chest_xray/train/PNEUMONIA/person1779_bacteria_4626.jpeg',\n",
       " '/home/aekanun/input/chest_xray/train/PNEUMONIA/person263_bacteria_1227.jpeg',\n",
       " '/home/aekanun/input/chest_xray/train/PNEUMONIA/person1317_virus_2273.jpeg',\n",
       " '/home/aekanun/input/chest_xray/train/PNEUMONIA/person554_bacteria_2321.jpeg',\n",
       " '/home/aekanun/input/chest_xray/train/PNEUMONIA/person656_virus_1238.jpeg',\n",
       " '/home/aekanun/input/chest_xray/train/PNEUMONIA/person1737_bacteria_4573.jpeg',\n",
       " '/home/aekanun/input/chest_xray/train/PNEUMONIA/person1488_bacteria_3887.jpeg',\n",
       " '/home/aekanun/input/chest_xray/train/PNEUMONIA/person626_virus_1202.jpeg',\n",
       " '/home/aekanun/input/chest_xray/train/PNEUMONIA/person940_virus_1604.jpeg',\n",
       " '/home/aekanun/input/chest_xray/train/PNEUMONIA/person1617_bacteria_4255.jpeg',\n",
       " '/home/aekanun/input/chest_xray/train/PNEUMONIA/person1446_bacteria_3740.jpeg',\n",
       " '/home/aekanun/input/chest_xray/train/PNEUMONIA/person832_bacteria_2743.jpeg',\n",
       " '/home/aekanun/input/chest_xray/train/PNEUMONIA/person581_bacteria_2392.jpeg',\n",
       " '/home/aekanun/input/chest_xray/train/PNEUMONIA/person1697_bacteria_4496.jpeg',\n",
       " '/home/aekanun/input/chest_xray/train/PNEUMONIA/person3_bacteria_13.jpeg',\n",
       " '/home/aekanun/input/chest_xray/train/PNEUMONIA/person1083_bacteria_3023.jpeg',\n",
       " '/home/aekanun/input/chest_xray/train/PNEUMONIA/person1343_bacteria_3416.jpeg',\n",
       " '/home/aekanun/input/chest_xray/train/PNEUMONIA/person278_virus_573.jpeg',\n",
       " '/home/aekanun/input/chest_xray/train/PNEUMONIA/person133_virus_267.jpeg',\n",
       " '/home/aekanun/input/chest_xray/train/PNEUMONIA/person1104_virus_1826.jpeg',\n",
       " '/home/aekanun/input/chest_xray/train/PNEUMONIA/person1107_virus_1832.jpeg',\n",
       " '/home/aekanun/input/chest_xray/train/PNEUMONIA/person1043_bacteria_2977.jpeg',\n",
       " '/home/aekanun/input/chest_xray/train/PNEUMONIA/person309_bacteria_1449.jpeg',\n",
       " '/home/aekanun/input/chest_xray/train/PNEUMONIA/person394_bacteria_1792.jpeg',\n",
       " '/home/aekanun/input/chest_xray/train/PNEUMONIA/person58_bacteria_276.jpeg',\n",
       " '/home/aekanun/input/chest_xray/train/PNEUMONIA/person382_bacteria_1740.jpeg',\n",
       " '/home/aekanun/input/chest_xray/train/PNEUMONIA/person952_virus_1623.jpeg',\n",
       " '/home/aekanun/input/chest_xray/train/PNEUMONIA/person889_bacteria_2813.jpeg',\n",
       " '/home/aekanun/input/chest_xray/train/PNEUMONIA/person402_bacteria_1813.jpeg',\n",
       " '/home/aekanun/input/chest_xray/train/PNEUMONIA/person1005_virus_1688.jpeg',\n",
       " '/home/aekanun/input/chest_xray/train/PNEUMONIA/person338_bacteria_1568.jpeg',\n",
       " '/home/aekanun/input/chest_xray/train/PNEUMONIA/person26_bacteria_129.jpeg',\n",
       " '/home/aekanun/input/chest_xray/train/PNEUMONIA/person326_bacteria_1504.jpeg',\n",
       " '/home/aekanun/input/chest_xray/train/PNEUMONIA/person382_bacteria_1745.jpeg',\n",
       " '/home/aekanun/input/chest_xray/train/PNEUMONIA/person1312_bacteria_3318.jpeg',\n",
       " '/home/aekanun/input/chest_xray/train/PNEUMONIA/person471_bacteria_2005.jpeg',\n",
       " '/home/aekanun/input/chest_xray/train/PNEUMONIA/person717_bacteria_2618.jpeg',\n",
       " '/home/aekanun/input/chest_xray/train/PNEUMONIA/person621_virus_1194.jpeg',\n",
       " '/home/aekanun/input/chest_xray/train/PNEUMONIA/person533_bacteria_2245.jpeg',\n",
       " '/home/aekanun/input/chest_xray/train/PNEUMONIA/person1133_bacteria_3075.jpeg',\n",
       " '/home/aekanun/input/chest_xray/train/PNEUMONIA/person929_virus_1589.jpeg',\n",
       " '/home/aekanun/input/chest_xray/train/PNEUMONIA/person672_virus_1261.jpeg',\n",
       " '/home/aekanun/input/chest_xray/train/PNEUMONIA/person60_bacteria_287.jpeg',\n",
       " '/home/aekanun/input/chest_xray/train/PNEUMONIA/person969_bacteria_2894.jpeg',\n",
       " '/home/aekanun/input/chest_xray/train/PNEUMONIA/person74_bacteria_363.jpeg',\n",
       " '/home/aekanun/input/chest_xray/train/PNEUMONIA/person3_bacteria_10.jpeg',\n",
       " '/home/aekanun/input/chest_xray/train/PNEUMONIA/person1489_virus_2594.jpeg',\n",
       " '/home/aekanun/input/chest_xray/train/PNEUMONIA/person1320_bacteria_3345.jpeg',\n",
       " '/home/aekanun/input/chest_xray/train/PNEUMONIA/person620_virus_1191.jpeg',\n",
       " '/home/aekanun/input/chest_xray/train/PNEUMONIA/person902_bacteria_2827.jpeg',\n",
       " '/home/aekanun/input/chest_xray/train/PNEUMONIA/person1175_bacteria_3122.jpeg',\n",
       " '/home/aekanun/input/chest_xray/train/PNEUMONIA/person1372_bacteria_3499.jpeg',\n",
       " '/home/aekanun/input/chest_xray/train/PNEUMONIA/person1918_bacteria_4825.jpeg',\n",
       " '/home/aekanun/input/chest_xray/train/PNEUMONIA/person1005_bacteria_2936.jpeg',\n",
       " '/home/aekanun/input/chest_xray/train/PNEUMONIA/person419_virus_857.jpeg',\n",
       " '/home/aekanun/input/chest_xray/train/PNEUMONIA/person1045_bacteria_2979.jpeg',\n",
       " '/home/aekanun/input/chest_xray/train/PNEUMONIA/person1411_bacteria_3591.jpeg',\n",
       " '/home/aekanun/input/chest_xray/train/PNEUMONIA/person1031_bacteria_2963.jpeg',\n",
       " '/home/aekanun/input/chest_xray/train/PNEUMONIA/person886_virus_1536.jpeg',\n",
       " '/home/aekanun/input/chest_xray/train/PNEUMONIA/person547_virus_1086.jpeg',\n",
       " '/home/aekanun/input/chest_xray/train/PNEUMONIA/person1281_virus_2204.jpeg',\n",
       " '/home/aekanun/input/chest_xray/train/PNEUMONIA/person499_bacteria_2104.jpeg',\n",
       " '/home/aekanun/input/chest_xray/train/PNEUMONIA/person562_bacteria_2332.jpeg',\n",
       " '/home/aekanun/input/chest_xray/train/PNEUMONIA/person1017_bacteria_2948.jpeg',\n",
       " '/home/aekanun/input/chest_xray/train/PNEUMONIA/person23_bacteria_80.jpeg',\n",
       " '/home/aekanun/input/chest_xray/train/PNEUMONIA/person456_virus_943.jpeg',\n",
       " '/home/aekanun/input/chest_xray/train/PNEUMONIA/person762_virus_1390.jpeg',\n",
       " '/home/aekanun/input/chest_xray/train/PNEUMONIA/person281_virus_578.jpeg',\n",
       " '/home/aekanun/input/chest_xray/train/PNEUMONIA/person1139_bacteria_3082.jpeg',\n",
       " '/home/aekanun/input/chest_xray/train/PNEUMONIA/person1411_bacteria_3604.jpeg',\n",
       " '/home/aekanun/input/chest_xray/train/PNEUMONIA/person768_virus_1396.jpeg',\n",
       " '/home/aekanun/input/chest_xray/train/PNEUMONIA/person1506_virus_2616.jpeg',\n",
       " '/home/aekanun/input/chest_xray/train/PNEUMONIA/person1106_virus_1829.jpeg',\n",
       " '/home/aekanun/input/chest_xray/train/PNEUMONIA/person472_bacteria_2008.jpeg',\n",
       " '/home/aekanun/input/chest_xray/train/PNEUMONIA/person1259_bacteria_3217.jpeg',\n",
       " '/home/aekanun/input/chest_xray/train/PNEUMONIA/person1859_bacteria_4731.jpeg',\n",
       " '/home/aekanun/input/chest_xray/train/PNEUMONIA/person1089_bacteria_3029.jpeg',\n",
       " '/home/aekanun/input/chest_xray/train/PNEUMONIA/person30_bacteria_157.jpeg',\n",
       " '/home/aekanun/input/chest_xray/train/PNEUMONIA/person1294_virus_2222.jpeg',\n",
       " '/home/aekanun/input/chest_xray/train/PNEUMONIA/person1102_bacteria_3043.jpeg',\n",
       " '/home/aekanun/input/chest_xray/train/PNEUMONIA/person1509_bacteria_3951.jpeg',\n",
       " '/home/aekanun/input/chest_xray/train/PNEUMONIA/person447_bacteria_1932.jpeg',\n",
       " '/home/aekanun/input/chest_xray/train/PNEUMONIA/person429_virus_877.jpeg',\n",
       " '/home/aekanun/input/chest_xray/train/PNEUMONIA/person310_bacteria_1450.jpeg',\n",
       " '/home/aekanun/input/chest_xray/train/PNEUMONIA/person542_virus_1072.jpeg',\n",
       " '/home/aekanun/input/chest_xray/train/PNEUMONIA/person1377_virus_2369.jpeg',\n",
       " '/home/aekanun/input/chest_xray/train/PNEUMONIA/person338_virus_694.jpeg',\n",
       " '/home/aekanun/input/chest_xray/train/PNEUMONIA/person74_bacteria_362.jpeg',\n",
       " '/home/aekanun/input/chest_xray/train/PNEUMONIA/person1880_bacteria_4765.jpeg',\n",
       " '/home/aekanun/input/chest_xray/train/PNEUMONIA/person1345_bacteria_3425.jpeg',\n",
       " '/home/aekanun/input/chest_xray/train/PNEUMONIA/person5_bacteria_19.jpeg',\n",
       " '/home/aekanun/input/chest_xray/train/PNEUMONIA/person688_virus_1282.jpeg',\n",
       " '/home/aekanun/input/chest_xray/train/PNEUMONIA/person579_bacteria_2382.jpeg',\n",
       " '/home/aekanun/input/chest_xray/train/PNEUMONIA/person786_bacteria_2690.jpeg',\n",
       " '/home/aekanun/input/chest_xray/train/PNEUMONIA/person1127_bacteria_3068.jpeg',\n",
       " '/home/aekanun/input/chest_xray/train/PNEUMONIA/person803_bacteria_2710.jpeg',\n",
       " '/home/aekanun/input/chest_xray/train/PNEUMONIA/person675_bacteria_2569.jpeg',\n",
       " '/home/aekanun/input/chest_xray/train/PNEUMONIA/person502_bacteria_2122.jpeg',\n",
       " '/home/aekanun/input/chest_xray/train/PNEUMONIA/person299_bacteria_1419.jpeg',\n",
       " '/home/aekanun/input/chest_xray/train/PNEUMONIA/person1271_virus_2164.jpeg',\n",
       " '/home/aekanun/input/chest_xray/train/PNEUMONIA/person965_virus_1638.jpeg',\n",
       " '/home/aekanun/input/chest_xray/train/PNEUMONIA/person1096_bacteria_3037.jpeg',\n",
       " '/home/aekanun/input/chest_xray/train/PNEUMONIA/person488_virus_992.jpeg',\n",
       " '/home/aekanun/input/chest_xray/train/PNEUMONIA/person488_bacteria_2061.jpeg',\n",
       " '/home/aekanun/input/chest_xray/train/PNEUMONIA/person1847_bacteria_4716.jpeg',\n",
       " '/home/aekanun/input/chest_xray/train/PNEUMONIA/person327_virus_679.jpeg',\n",
       " '/home/aekanun/input/chest_xray/train/PNEUMONIA/person630_bacteria_2514.jpeg',\n",
       " '/home/aekanun/input/chest_xray/train/PNEUMONIA/person421_virus_866.jpeg',\n",
       " '/home/aekanun/input/chest_xray/train/PNEUMONIA/person1637_bacteria_4339.jpeg',\n",
       " '/home/aekanun/input/chest_xray/train/PNEUMONIA/person1267_bacteria_3226.jpeg',\n",
       " '/home/aekanun/input/chest_xray/train/PNEUMONIA/person1093_bacteria_3033.jpeg',\n",
       " '/home/aekanun/input/chest_xray/train/PNEUMONIA/person1159_virus_1946.jpeg',\n",
       " '/home/aekanun/input/chest_xray/train/PNEUMONIA/person296_bacteria_1393.jpeg',\n",
       " '/home/aekanun/input/chest_xray/train/PNEUMONIA/person1167_bacteria_3113.jpeg',\n",
       " '/home/aekanun/input/chest_xray/train/PNEUMONIA/person1100_virus_1820.jpeg',\n",
       " '/home/aekanun/input/chest_xray/train/PNEUMONIA/person446_virus_920.jpeg',\n",
       " '/home/aekanun/input/chest_xray/train/PNEUMONIA/person1165_virus_1959.jpeg',\n",
       " '/home/aekanun/input/chest_xray/train/PNEUMONIA/person445_bacteria_1928.jpeg',\n",
       " '/home/aekanun/input/chest_xray/train/PNEUMONIA/person746_virus_1369.jpeg',\n",
       " '/home/aekanun/input/chest_xray/train/PNEUMONIA/person953_bacteria_2878.jpeg',\n",
       " '/home/aekanun/input/chest_xray/train/PNEUMONIA/person1374_bacteria_3507.jpeg',\n",
       " '/home/aekanun/input/chest_xray/train/PNEUMONIA/person1240_bacteria_3196.jpeg',\n",
       " '/home/aekanun/input/chest_xray/train/PNEUMONIA/person770_bacteria_2674.jpeg',\n",
       " '/home/aekanun/input/chest_xray/train/PNEUMONIA/person297_bacteria_1404.jpeg',\n",
       " '/home/aekanun/input/chest_xray/train/PNEUMONIA/person326_bacteria_1506.jpeg',\n",
       " '/home/aekanun/input/chest_xray/train/PNEUMONIA/person1234_bacteria_3189.jpeg',\n",
       " '/home/aekanun/input/chest_xray/train/PNEUMONIA/person826_bacteria_2737.jpeg',\n",
       " '/home/aekanun/input/chest_xray/train/PNEUMONIA/person1368_virus_2354.jpeg',\n",
       " '/home/aekanun/input/chest_xray/train/PNEUMONIA/person51_bacteria_239.jpeg',\n",
       " '/home/aekanun/input/chest_xray/train/PNEUMONIA/person596_bacteria_2440.jpeg',\n",
       " '/home/aekanun/input/chest_xray/train/PNEUMONIA/person1312_bacteria_3316.jpeg',\n",
       " '/home/aekanun/input/chest_xray/train/PNEUMONIA/person866_virus_1511.jpeg',\n",
       " '/home/aekanun/input/chest_xray/train/PNEUMONIA/person348_virus_714.jpeg',\n",
       " '/home/aekanun/input/chest_xray/train/PNEUMONIA/person67_bacteria_332.jpeg',\n",
       " '/home/aekanun/input/chest_xray/train/PNEUMONIA/person1459_bacteria_3796.jpeg',\n",
       " '/home/aekanun/input/chest_xray/train/PNEUMONIA/person596_bacteria_2441.jpeg',\n",
       " '/home/aekanun/input/chest_xray/train/PNEUMONIA/person1531_virus_2666.jpeg',\n",
       " '/home/aekanun/input/chest_xray/train/PNEUMONIA/person321_bacteria_1486.jpeg',\n",
       " '/home/aekanun/input/chest_xray/train/PNEUMONIA/person1691_bacteria_4479.jpeg',\n",
       " '/home/aekanun/input/chest_xray/train/PNEUMONIA/person23_bacteria_81.jpeg',\n",
       " '/home/aekanun/input/chest_xray/train/PNEUMONIA/person1195_bacteria_3144.jpeg',\n",
       " '/home/aekanun/input/chest_xray/train/PNEUMONIA/person7_bacteria_24.jpeg',\n",
       " '/home/aekanun/input/chest_xray/train/PNEUMONIA/person771_bacteria_2675.jpeg',\n",
       " '/home/aekanun/input/chest_xray/train/PNEUMONIA/person604_bacteria_2462.jpeg',\n",
       " '/home/aekanun/input/chest_xray/train/PNEUMONIA/person1430_virus_2444.jpeg',\n",
       " '/home/aekanun/input/chest_xray/train/PNEUMONIA/person868_virus_1513.jpeg',\n",
       " '/home/aekanun/input/chest_xray/train/PNEUMONIA/person23_bacteria_100.jpeg',\n",
       " '/home/aekanun/input/chest_xray/train/PNEUMONIA/person981_bacteria_2908.jpeg',\n",
       " '/home/aekanun/input/chest_xray/train/PNEUMONIA/person898_bacteria_2823.jpeg',\n",
       " '/home/aekanun/input/chest_xray/train/PNEUMONIA/person1057_virus_1756.jpeg',\n",
       " '/home/aekanun/input/chest_xray/train/PNEUMONIA/person679_virus_1270.jpeg',\n",
       " '/home/aekanun/input/chest_xray/train/PNEUMONIA/person284_virus_582.jpeg',\n",
       " '/home/aekanun/input/chest_xray/train/PNEUMONIA/person1242_bacteria_3198.jpeg',\n",
       " '/home/aekanun/input/chest_xray/train/PNEUMONIA/person1670_bacteria_4430.jpeg',\n",
       " '/home/aekanun/input/chest_xray/train/PNEUMONIA/person46_bacteria_225.jpeg',\n",
       " '/home/aekanun/input/chest_xray/train/PNEUMONIA/person730_bacteria_2632.jpeg',\n",
       " '/home/aekanun/input/chest_xray/train/PNEUMONIA/person1077_bacteria_3017.jpeg',\n",
       " '/home/aekanun/input/chest_xray/train/PNEUMONIA/person487_bacteria_2059.jpeg',\n",
       " '/home/aekanun/input/chest_xray/train/PNEUMONIA/person1668_bacteria_4421.jpeg',\n",
       " '/home/aekanun/input/chest_xray/train/PNEUMONIA/person301_bacteria_1428.jpeg',\n",
       " '/home/aekanun/input/chest_xray/train/PNEUMONIA/person1537_bacteria_4020.jpeg',\n",
       " '/home/aekanun/input/chest_xray/train/PNEUMONIA/person1544_bacteria_4035.jpeg',\n",
       " '/home/aekanun/input/chest_xray/train/PNEUMONIA/person1086_bacteria_3026.jpeg',\n",
       " '/home/aekanun/input/chest_xray/train/PNEUMONIA/person1059_bacteria_2993.jpeg',\n",
       " '/home/aekanun/input/chest_xray/train/PNEUMONIA/person482_virus_984.jpeg',\n",
       " '/home/aekanun/input/chest_xray/train/PNEUMONIA/person364_bacteria_1660.jpeg',\n",
       " '/home/aekanun/input/chest_xray/train/PNEUMONIA/person1155_bacteria_3100.jpeg',\n",
       " '/home/aekanun/input/chest_xray/train/PNEUMONIA/person978_bacteria_2904.jpeg',\n",
       " '/home/aekanun/input/chest_xray/train/PNEUMONIA/person511_virus_1027.jpeg',\n",
       " '/home/aekanun/input/chest_xray/train/PNEUMONIA/person1300_virus_2240.jpeg',\n",
       " '/home/aekanun/input/chest_xray/train/PNEUMONIA/person1306_bacteria_3272.jpeg',\n",
       " '/home/aekanun/input/chest_xray/train/PNEUMONIA/person1438_bacteria_3715.jpeg',\n",
       " '/home/aekanun/input/chest_xray/train/PNEUMONIA/person301_bacteria_1424.jpeg',\n",
       " '/home/aekanun/input/chest_xray/train/PNEUMONIA/person142_virus_288.jpeg',\n",
       " '/home/aekanun/input/chest_xray/train/PNEUMONIA/person94_virus_176.jpeg',\n",
       " '/home/aekanun/input/chest_xray/train/PNEUMONIA/person75_bacteria_368.jpeg',\n",
       " '/home/aekanun/input/chest_xray/train/PNEUMONIA/person1343_bacteria_3411.jpeg',\n",
       " '/home/aekanun/input/chest_xray/train/PNEUMONIA/person647_bacteria_2539.jpeg',\n",
       " '/home/aekanun/input/chest_xray/train/PNEUMONIA/person475_bacteria_2020.jpeg',\n",
       " '/home/aekanun/input/chest_xray/train/PNEUMONIA/person64_bacteria_320.jpeg',\n",
       " '/home/aekanun/input/chest_xray/train/PNEUMONIA/person397_virus_790.jpeg',\n",
       " '/home/aekanun/input/chest_xray/train/PNEUMONIA/person825_bacteria_2736.jpeg',\n",
       " '/home/aekanun/input/chest_xray/train/PNEUMONIA/person1669_bacteria_4424.jpeg',\n",
       " '/home/aekanun/input/chest_xray/train/PNEUMONIA/person500_bacteria_2108.jpeg',\n",
       " '/home/aekanun/input/chest_xray/train/PNEUMONIA/person579_bacteria_2386.jpeg',\n",
       " '/home/aekanun/input/chest_xray/train/PNEUMONIA/person265_bacteria_1235.jpeg',\n",
       " '/home/aekanun/input/chest_xray/train/PNEUMONIA/person809_bacteria_2717.jpeg',\n",
       " '/home/aekanun/input/chest_xray/train/PNEUMONIA/person12_bacteria_48.jpeg',\n",
       " '/home/aekanun/input/chest_xray/train/PNEUMONIA/person1031_bacteria_2964.jpeg',\n",
       " '/home/aekanun/input/chest_xray/train/PNEUMONIA/person162_virus_319.jpeg',\n",
       " '/home/aekanun/input/chest_xray/train/PNEUMONIA/person328_bacteria_1514.jpeg',\n",
       " '/home/aekanun/input/chest_xray/train/PNEUMONIA/person371_bacteria_1695.jpeg',\n",
       " '/home/aekanun/input/chest_xray/train/PNEUMONIA/person392_bacteria_1783.jpeg',\n",
       " '/home/aekanun/input/chest_xray/train/PNEUMONIA/person1409_virus_2413.jpeg',\n",
       " '/home/aekanun/input/chest_xray/train/PNEUMONIA/person402_virus_801.jpeg',\n",
       " '/home/aekanun/input/chest_xray/train/PNEUMONIA/person550_bacteria_2309.jpeg',\n",
       " '/home/aekanun/input/chest_xray/train/PNEUMONIA/person1181_bacteria_3129.jpeg',\n",
       " '/home/aekanun/input/chest_xray/train/PNEUMONIA/person1761_bacteria_4603.jpeg',\n",
       " '/home/aekanun/input/chest_xray/train/PNEUMONIA/person1946_bacteria_4875.jpeg',\n",
       " '/home/aekanun/input/chest_xray/train/PNEUMONIA/person659_bacteria_2551.jpeg',\n",
       " '/home/aekanun/input/chest_xray/train/PNEUMONIA/person1323_bacteria_3362.jpeg',\n",
       " '/home/aekanun/input/chest_xray/train/PNEUMONIA/person1669_bacteria_4422.jpeg',\n",
       " '/home/aekanun/input/chest_xray/train/PNEUMONIA/person1122_bacteria_3063.jpeg',\n",
       " '/home/aekanun/input/chest_xray/train/PNEUMONIA/person724_virus_1343.jpeg',\n",
       " '/home/aekanun/input/chest_xray/train/PNEUMONIA/person687_bacteria_2583.jpeg',\n",
       " '/home/aekanun/input/chest_xray/train/PNEUMONIA/person508_virus_1020.jpeg',\n",
       " '/home/aekanun/input/chest_xray/train/PNEUMONIA/person1266_virus_2158.jpeg',\n",
       " '/home/aekanun/input/chest_xray/train/PNEUMONIA/person489_virus_995.jpeg',\n",
       " '/home/aekanun/input/chest_xray/train/PNEUMONIA/person445_virus_913.jpeg',\n",
       " '/home/aekanun/input/chest_xray/train/PNEUMONIA/person740_virus_1362.jpeg',\n",
       " '/home/aekanun/input/chest_xray/train/PNEUMONIA/person289_virus_593.jpeg',\n",
       " '/home/aekanun/input/chest_xray/train/PNEUMONIA/person1350_virus_2329.jpeg',\n",
       " '/home/aekanun/input/chest_xray/train/PNEUMONIA/person1399_virus_2402.jpeg',\n",
       " '/home/aekanun/input/chest_xray/train/PNEUMONIA/person580_bacteria_2389.jpeg',\n",
       " '/home/aekanun/input/chest_xray/train/PNEUMONIA/person778_virus_1408.jpeg',\n",
       " '/home/aekanun/input/chest_xray/train/PNEUMONIA/person1322_bacteria_3360.jpeg',\n",
       " '/home/aekanun/input/chest_xray/train/PNEUMONIA/person359_bacteria_1645.jpeg',\n",
       " '/home/aekanun/input/chest_xray/train/PNEUMONIA/person492_virus_998.jpeg',\n",
       " '/home/aekanun/input/chest_xray/train/PNEUMONIA/person662_virus_1246.jpeg',\n",
       " '/home/aekanun/input/chest_xray/train/PNEUMONIA/person1067_bacteria_3001.jpeg',\n",
       " '/home/aekanun/input/chest_xray/train/PNEUMONIA/person332_bacteria_1531.jpeg',\n",
       " '/home/aekanun/input/chest_xray/train/PNEUMONIA/person843_virus_1485.jpeg',\n",
       " '/home/aekanun/input/chest_xray/train/PNEUMONIA/person257_bacteria_1196.jpeg',\n",
       " '/home/aekanun/input/chest_xray/train/PNEUMONIA/person1053_bacteria_2987.jpeg',\n",
       " '/home/aekanun/input/chest_xray/train/PNEUMONIA/person1118_bacteria_3059.jpeg',\n",
       " '/home/aekanun/input/chest_xray/train/PNEUMONIA/person1206_bacteria_3158.jpeg',\n",
       " '/home/aekanun/input/chest_xray/train/PNEUMONIA/person361_bacteria_1651.jpeg',\n",
       " '/home/aekanun/input/chest_xray/train/PNEUMONIA/person1478_bacteria_3848.jpeg',\n",
       " '/home/aekanun/input/chest_xray/train/PNEUMONIA/person110_virus_208.jpeg',\n",
       " '/home/aekanun/input/chest_xray/train/PNEUMONIA/person30_bacteria_150.jpeg',\n",
       " '/home/aekanun/input/chest_xray/train/PNEUMONIA/person319_bacteria_1480.jpeg',\n",
       " '/home/aekanun/input/chest_xray/train/PNEUMONIA/person1408_virus_2411.jpeg',\n",
       " '/home/aekanun/input/chest_xray/train/PNEUMONIA/person414_virus_845.jpeg',\n",
       " '/home/aekanun/input/chest_xray/train/PNEUMONIA/person337_bacteria_1563.jpeg',\n",
       " '/home/aekanun/input/chest_xray/train/PNEUMONIA/person315_bacteria_1464.jpeg',\n",
       " '/home/aekanun/input/chest_xray/train/PNEUMONIA/person23_bacteria_95.jpeg',\n",
       " '/home/aekanun/input/chest_xray/train/PNEUMONIA/person610_virus_1177.jpeg',\n",
       " '/home/aekanun/input/chest_xray/train/PNEUMONIA/person266_bacteria_1248.jpeg',\n",
       " '/home/aekanun/input/chest_xray/train/PNEUMONIA/person30_bacteria_158.jpeg',\n",
       " '/home/aekanun/input/chest_xray/train/PNEUMONIA/person1387_virus_2382.jpeg',\n",
       " '/home/aekanun/input/chest_xray/train/PNEUMONIA/person23_bacteria_96.jpeg',\n",
       " '/home/aekanun/input/chest_xray/train/PNEUMONIA/person325_virus_664.jpeg',\n",
       " '/home/aekanun/input/chest_xray/train/PNEUMONIA/person1598_bacteria_4197.jpeg',\n",
       " '/home/aekanun/input/chest_xray/train/PNEUMONIA/person1712_bacteria_4529.jpeg',\n",
       " '/home/aekanun/input/chest_xray/train/PNEUMONIA/person1232_virus_2089.jpeg',\n",
       " '/home/aekanun/input/chest_xray/train/PNEUMONIA/person765_virus_1393.jpeg',\n",
       " '/home/aekanun/input/chest_xray/train/PNEUMONIA/person1484_virus_2577.jpeg',\n",
       " '/home/aekanun/input/chest_xray/train/PNEUMONIA/person1079_virus_1789.jpeg',\n",
       " '/home/aekanun/input/chest_xray/train/PNEUMONIA/person262_bacteria_1226.jpeg',\n",
       " '/home/aekanun/input/chest_xray/train/PNEUMONIA/person355_virus_731.jpeg',\n",
       " '/home/aekanun/input/chest_xray/train/PNEUMONIA/person1066_virus_1769.jpeg',\n",
       " '/home/aekanun/input/chest_xray/train/PNEUMONIA/person1496_bacteria_3906.jpeg',\n",
       " '/home/aekanun/input/chest_xray/train/PNEUMONIA/person841_bacteria_2760.jpeg',\n",
       " '/home/aekanun/input/chest_xray/train/PNEUMONIA/person907_bacteria_2832.jpeg',\n",
       " '/home/aekanun/input/chest_xray/train/PNEUMONIA/person834_bacteria_2747.jpeg',\n",
       " '/home/aekanun/input/chest_xray/train/PNEUMONIA/person426_bacteria_1863.jpeg',\n",
       " '/home/aekanun/input/chest_xray/train/PNEUMONIA/person1465_virus_2532.jpeg',\n",
       " '/home/aekanun/input/chest_xray/train/PNEUMONIA/person1934_bacteria_4846.jpeg',\n",
       " '/home/aekanun/input/chest_xray/train/PNEUMONIA/person820_virus_1456.jpeg',\n",
       " '/home/aekanun/input/chest_xray/train/PNEUMONIA/person298_virus_618.jpeg',\n",
       " '/home/aekanun/input/chest_xray/train/PNEUMONIA/person1448_virus_2468.jpeg',\n",
       " '/home/aekanun/input/chest_xray/train/PNEUMONIA/person419_bacteria_1844.jpeg',\n",
       " '/home/aekanun/input/chest_xray/train/PNEUMONIA/person1602_bacteria_4218.jpeg',\n",
       " '/home/aekanun/input/chest_xray/train/PNEUMONIA/person1366_bacteria_3490.jpeg',\n",
       " '/home/aekanun/input/chest_xray/train/PNEUMONIA/person1414_bacteria_3627.jpeg',\n",
       " '/home/aekanun/input/chest_xray/train/PNEUMONIA/person489_bacteria_2066.jpeg',\n",
       " '/home/aekanun/input/chest_xray/train/PNEUMONIA/person741_virus_1364.jpeg',\n",
       " '/home/aekanun/input/chest_xray/train/PNEUMONIA/person363_bacteria_1653.jpeg',\n",
       " '/home/aekanun/input/chest_xray/train/PNEUMONIA/person1496_bacteria_3908.jpeg',\n",
       " '/home/aekanun/input/chest_xray/train/PNEUMONIA/person31_bacteria_162.jpeg',\n",
       " '/home/aekanun/input/chest_xray/train/PNEUMONIA/person1308_bacteria_3280.jpeg',\n",
       " '/home/aekanun/input/chest_xray/train/PNEUMONIA/person15_bacteria_52.jpeg',\n",
       " '/home/aekanun/input/chest_xray/train/PNEUMONIA/person1626_bacteria_4291.jpeg',\n",
       " '/home/aekanun/input/chest_xray/train/PNEUMONIA/person1602_virus_2780.jpeg',\n",
       " '/home/aekanun/input/chest_xray/train/PNEUMONIA/person773_virus_1402.jpeg',\n",
       " '/home/aekanun/input/chest_xray/train/PNEUMONIA/person955_virus_1627.jpeg',\n",
       " '/home/aekanun/input/chest_xray/train/PNEUMONIA/person123_virus_230.jpeg',\n",
       " '/home/aekanun/input/chest_xray/train/PNEUMONIA/person1619_bacteria_4268.jpeg',\n",
       " '/home/aekanun/input/chest_xray/train/PNEUMONIA/person1482_bacteria_3870.jpeg',\n",
       " '/home/aekanun/input/chest_xray/train/PNEUMONIA/person1517_bacteria_3968.jpeg',\n",
       " '/home/aekanun/input/chest_xray/train/PNEUMONIA/person489_bacteria_2067.jpeg',\n",
       " '/home/aekanun/input/chest_xray/train/PNEUMONIA/person253_bacteria_1156.jpeg',\n",
       " '/home/aekanun/input/chest_xray/train/PNEUMONIA/person339_virus_695.jpeg',\n",
       " '/home/aekanun/input/chest_xray/train/PNEUMONIA/person582_bacteria_2405.jpeg',\n",
       " '/home/aekanun/input/chest_xray/train/PNEUMONIA/person390_bacteria_1781.jpeg',\n",
       " '/home/aekanun/input/chest_xray/train/PNEUMONIA/person1597_bacteria_4187.jpeg',\n",
       " '/home/aekanun/input/chest_xray/train/PNEUMONIA/person1413_virus_2422.jpeg',\n",
       " '/home/aekanun/input/chest_xray/train/PNEUMONIA/person115_virus_219.jpeg',\n",
       " '/home/aekanun/input/chest_xray/train/PNEUMONIA/person1547_virus_2688.jpeg',\n",
       " '/home/aekanun/input/chest_xray/train/PNEUMONIA/person25_bacteria_119.jpeg',\n",
       " '/home/aekanun/input/chest_xray/train/PNEUMONIA/person19_bacteria_59.jpeg',\n",
       " '/home/aekanun/input/chest_xray/train/PNEUMONIA/person353_bacteria_1628.jpeg',\n",
       " '/home/aekanun/input/chest_xray/train/PNEUMONIA/person946_bacteria_2871.jpeg',\n",
       " '/home/aekanun/input/chest_xray/train/PNEUMONIA/person1867_bacteria_4741.jpeg',\n",
       " '/home/aekanun/input/chest_xray/train/PNEUMONIA/person1188_bacteria_3137.jpeg',\n",
       " '/home/aekanun/input/chest_xray/train/PNEUMONIA/person400_virus_794.jpeg',\n",
       " '/home/aekanun/input/chest_xray/train/PNEUMONIA/person326_virus_666.jpeg',\n",
       " '/home/aekanun/input/chest_xray/train/PNEUMONIA/person348_virus_716.jpeg',\n",
       " '/home/aekanun/input/chest_xray/train/PNEUMONIA/person260_bacteria_1222.jpeg',\n",
       " '/home/aekanun/input/chest_xray/train/PNEUMONIA/person7_bacteria_28.jpeg',\n",
       " '/home/aekanun/input/chest_xray/train/PNEUMONIA/person1229_virus_2080.jpeg',\n",
       " '/home/aekanun/input/chest_xray/train/PNEUMONIA/person1426_bacteria_3668.jpeg',\n",
       " '/home/aekanun/input/chest_xray/train/PNEUMONIA/person1077_virus_1787.jpeg',\n",
       " '/home/aekanun/input/chest_xray/train/PNEUMONIA/person506_virus_1018.jpeg',\n",
       " '/home/aekanun/input/chest_xray/train/PNEUMONIA/person1576_bacteria_4127.jpeg',\n",
       " '/home/aekanun/input/chest_xray/train/PNEUMONIA/person839_bacteria_2757.jpeg',\n",
       " '/home/aekanun/input/chest_xray/train/PNEUMONIA/person756_bacteria_2660.jpeg',\n",
       " '/home/aekanun/input/chest_xray/train/PNEUMONIA/person1705_bacteria_4515.jpeg',\n",
       " '/home/aekanun/input/chest_xray/train/PNEUMONIA/person1306_bacteria_3277.jpeg',\n",
       " '/home/aekanun/input/chest_xray/train/PNEUMONIA/person55_bacteria_264.jpeg',\n",
       " '/home/aekanun/input/chest_xray/train/PNEUMONIA/person1052_bacteria_2986.jpeg',\n",
       " '/home/aekanun/input/chest_xray/train/PNEUMONIA/person370_bacteria_1687.jpeg',\n",
       " '/home/aekanun/input/chest_xray/train/PNEUMONIA/person1618_bacteria_4258.jpeg',\n",
       " '/home/aekanun/input/chest_xray/train/PNEUMONIA/person1308_bacteria_3285.jpeg',\n",
       " '/home/aekanun/input/chest_xray/train/PNEUMONIA/person1085_virus_1797.jpeg',\n",
       " '/home/aekanun/input/chest_xray/train/PNEUMONIA/person585_bacteria_2414.jpeg',\n",
       " '/home/aekanun/input/chest_xray/train/PNEUMONIA/person420_bacteria_1851.jpeg',\n",
       " '/home/aekanun/input/chest_xray/train/PNEUMONIA/person1488_virus_2589.jpeg',\n",
       " '/home/aekanun/input/chest_xray/train/PNEUMONIA/person801_virus_1434.jpeg',\n",
       " '/home/aekanun/input/chest_xray/train/PNEUMONIA/person406_bacteria_1818.jpeg',\n",
       " '/home/aekanun/input/chest_xray/train/PNEUMONIA/person1044_bacteria_2978.jpeg',\n",
       " '/home/aekanun/input/chest_xray/train/PNEUMONIA/person672_bacteria_2565.jpeg',\n",
       " '/home/aekanun/input/chest_xray/train/PNEUMONIA/person418_virus_852.jpeg',\n",
       " '/home/aekanun/input/chest_xray/train/PNEUMONIA/person374_bacteria_1710.jpeg',\n",
       " '/home/aekanun/input/chest_xray/train/PNEUMONIA/person1510_virus_2629.jpeg',\n",
       " '/home/aekanun/input/chest_xray/train/PNEUMONIA/person531_bacteria_2239.jpeg',\n",
       " '/home/aekanun/input/chest_xray/train/PNEUMONIA/person740_virus_1363.jpeg',\n",
       " '/home/aekanun/input/chest_xray/train/PNEUMONIA/person1609_bacteria_4237.jpeg',\n",
       " '/home/aekanun/input/chest_xray/train/PNEUMONIA/person81_virus_153.jpeg',\n",
       " '/home/aekanun/input/chest_xray/train/PNEUMONIA/person361_virus_740.jpeg',\n",
       " '/home/aekanun/input/chest_xray/train/PNEUMONIA/person36_bacteria_185.jpeg',\n",
       " '/home/aekanun/input/chest_xray/train/PNEUMONIA/person1080_virus_1791.jpeg',\n",
       " '/home/aekanun/input/chest_xray/train/PNEUMONIA/person23_bacteria_89.jpeg',\n",
       " '/home/aekanun/input/chest_xray/train/PNEUMONIA/person978_virus_1653.jpeg',\n",
       " '/home/aekanun/input/chest_xray/train/PNEUMONIA/person1427_virus_2441.jpeg',\n",
       " '/home/aekanun/input/chest_xray/train/PNEUMONIA/person1029_virus_1721.jpeg',\n",
       " '/home/aekanun/input/chest_xray/train/PNEUMONIA/person1819_bacteria_4677.jpeg',\n",
       " '/home/aekanun/input/chest_xray/train/PNEUMONIA/person960_virus_1633.jpeg',\n",
       " '/home/aekanun/input/chest_xray/train/PNEUMONIA/person1579_bacteria_4133.jpeg',\n",
       " '/home/aekanun/input/chest_xray/train/PNEUMONIA/person813_virus_1449.jpeg',\n",
       " '/home/aekanun/input/chest_xray/train/PNEUMONIA/person590_virus_1138.jpeg',\n",
       " '/home/aekanun/input/chest_xray/train/PNEUMONIA/person482_bacteria_2045.jpeg',\n",
       " '/home/aekanun/input/chest_xray/train/PNEUMONIA/person870_bacteria_2792.jpeg',\n",
       " '/home/aekanun/input/chest_xray/train/PNEUMONIA/person885_bacteria_2809.jpeg',\n",
       " '/home/aekanun/input/chest_xray/train/PNEUMONIA/person1125_bacteria_3066.jpeg',\n",
       " '/home/aekanun/input/chest_xray/train/PNEUMONIA/person1086_virus_1798.jpeg',\n",
       " '/home/aekanun/input/chest_xray/train/PNEUMONIA/person752_virus_1377.jpeg',\n",
       " '/home/aekanun/input/chest_xray/train/PNEUMONIA/person1103_bacteria_3044.jpeg',\n",
       " '/home/aekanun/input/chest_xray/train/PNEUMONIA/person1331_bacteria_3380.jpeg',\n",
       " '/home/aekanun/input/chest_xray/train/PNEUMONIA/person849_virus_1494.jpeg',\n",
       " '/home/aekanun/input/chest_xray/train/PNEUMONIA/person724_bacteria_2626.jpeg',\n",
       " '/home/aekanun/input/chest_xray/train/PNEUMONIA/person554_bacteria_2322.jpeg',\n",
       " '/home/aekanun/input/chest_xray/train/PNEUMONIA/person628_bacteria_2505.jpeg',\n",
       " '/home/aekanun/input/chest_xray/train/PNEUMONIA/person375_virus_758.jpeg',\n",
       " '/home/aekanun/input/chest_xray/train/PNEUMONIA/person1352_bacteria_3443.jpeg',\n",
       " '/home/aekanun/input/chest_xray/train/PNEUMONIA/person598_bacteria_2454.jpeg',\n",
       " '/home/aekanun/input/chest_xray/train/PNEUMONIA/person1353_bacteria_3446.jpeg',\n",
       " '/home/aekanun/input/chest_xray/train/PNEUMONIA/person802_bacteria_2708.jpeg',\n",
       " '/home/aekanun/input/chest_xray/train/PNEUMONIA/person296_bacteria_1395.jpeg',\n",
       " '/home/aekanun/input/chest_xray/train/PNEUMONIA/person312_bacteria_1456.jpeg',\n",
       " '/home/aekanun/input/chest_xray/train/PNEUMONIA/person1383_bacteria_3521.jpeg',\n",
       " '/home/aekanun/input/chest_xray/train/PNEUMONIA/person1504_bacteria_3931.jpeg',\n",
       " '/home/aekanun/input/chest_xray/train/PNEUMONIA/person1507_bacteria_3946.jpeg',\n",
       " '/home/aekanun/input/chest_xray/train/PNEUMONIA/person1176_bacteria_3124.jpeg',\n",
       " '/home/aekanun/input/chest_xray/train/PNEUMONIA/person1193_virus_2034.jpeg',\n",
       " '/home/aekanun/input/chest_xray/train/PNEUMONIA/person1141_virus_1890.jpeg',\n",
       " '/home/aekanun/input/chest_xray/train/PNEUMONIA/person650_bacteria_2542.jpeg',\n",
       " '/home/aekanun/input/chest_xray/train/PNEUMONIA/person1671_bacteria_4432.jpeg',\n",
       " '/home/aekanun/input/chest_xray/train/PNEUMONIA/person1556_bacteria_4062.jpeg',\n",
       " '/home/aekanun/input/chest_xray/train/PNEUMONIA/person931_bacteria_2856.jpeg',\n",
       " '/home/aekanun/input/chest_xray/train/PNEUMONIA/person335_virus_690.jpeg',\n",
       " '/home/aekanun/input/chest_xray/train/PNEUMONIA/person940_virus_1607.jpeg',\n",
       " '/home/aekanun/input/chest_xray/train/PNEUMONIA/person435_bacteria_1879.jpeg',\n",
       " '/home/aekanun/input/chest_xray/train/PNEUMONIA/person277_bacteria_1307.jpeg',\n",
       " '/home/aekanun/input/chest_xray/train/PNEUMONIA/person527_virus_1048.jpeg',\n",
       " '/home/aekanun/input/chest_xray/train/PNEUMONIA/person363_bacteria_1655.jpeg',\n",
       " '/home/aekanun/input/chest_xray/train/PNEUMONIA/person287_bacteria_1355.jpeg',\n",
       " '/home/aekanun/input/chest_xray/train/PNEUMONIA/person893_bacteria_2818.jpeg',\n",
       " '/home/aekanun/input/chest_xray/train/PNEUMONIA/person56_bacteria_268.jpeg',\n",
       " '/home/aekanun/input/chest_xray/train/PNEUMONIA/person1500_bacteria_3916.jpeg',\n",
       " '/home/aekanun/input/chest_xray/train/PNEUMONIA/person1016_virus_1704.jpeg',\n",
       " '/home/aekanun/input/chest_xray/train/PNEUMONIA/person1441_virus_2454.jpeg',\n",
       " '/home/aekanun/input/chest_xray/train/PNEUMONIA/person761_bacteria_2665.jpeg',\n",
       " '/home/aekanun/input/chest_xray/train/PNEUMONIA/person1954_bacteria_4886.jpeg',\n",
       " '/home/aekanun/input/chest_xray/train/PNEUMONIA/person1043_virus_1738.jpeg',\n",
       " '/home/aekanun/input/chest_xray/train/PNEUMONIA/person472_bacteria_2014.jpeg',\n",
       " '/home/aekanun/input/chest_xray/train/PNEUMONIA/person819_virus_1455.jpeg',\n",
       " '/home/aekanun/input/chest_xray/train/PNEUMONIA/person1652_bacteria_4383.jpeg',\n",
       " '/home/aekanun/input/chest_xray/train/PNEUMONIA/person348_virus_711.jpeg',\n",
       " '/home/aekanun/input/chest_xray/train/PNEUMONIA/person880_bacteria_2804.jpeg',\n",
       " '/home/aekanun/input/chest_xray/train/PNEUMONIA/person1444_bacteria_3732.jpeg',\n",
       " '/home/aekanun/input/chest_xray/train/PNEUMONIA/person701_virus_1297.jpeg',\n",
       " '/home/aekanun/input/chest_xray/train/PNEUMONIA/person40_bacteria_205.jpeg',\n",
       " '/home/aekanun/input/chest_xray/train/PNEUMONIA/person298_virus_617.jpeg',\n",
       " '/home/aekanun/input/chest_xray/train/PNEUMONIA/person1588_virus_2762.jpeg',\n",
       " '/home/aekanun/input/chest_xray/train/PNEUMONIA/person1164_virus_1955.jpeg',\n",
       " '/home/aekanun/input/chest_xray/train/PNEUMONIA/person640_virus_1221.jpeg',\n",
       " '/home/aekanun/input/chest_xray/train/PNEUMONIA/person1186_bacteria_3134.jpeg',\n",
       " '/home/aekanun/input/chest_xray/train/PNEUMONIA/person1549_virus_2690.jpeg',\n",
       " '/home/aekanun/input/chest_xray/train/PNEUMONIA/person359_bacteria_1644.jpeg',\n",
       " '/home/aekanun/input/chest_xray/train/PNEUMONIA/person588_bacteria_2422.jpeg',\n",
       " '/home/aekanun/input/chest_xray/train/PNEUMONIA/person572_bacteria_2368.jpeg',\n",
       " '/home/aekanun/input/chest_xray/train/PNEUMONIA/person1522_bacteria_3977.jpeg',\n",
       " '/home/aekanun/input/chest_xray/train/PNEUMONIA/person1039_bacteria_2973.jpeg',\n",
       " '/home/aekanun/input/chest_xray/train/PNEUMONIA/person1405_bacteria_3567.jpeg',\n",
       " '/home/aekanun/input/chest_xray/train/PNEUMONIA/person703_bacteria_2602.jpeg',\n",
       " '/home/aekanun/input/chest_xray/train/PNEUMONIA/person357_bacteria_1639.jpeg',\n",
       " '/home/aekanun/input/chest_xray/train/PNEUMONIA/person917_bacteria_2842.jpeg',\n",
       " '/home/aekanun/input/chest_xray/train/PNEUMONIA/person26_bacteria_133.jpeg',\n",
       " '/home/aekanun/input/chest_xray/train/PNEUMONIA/person1944_bacteria_4869.jpeg',\n",
       " '/home/aekanun/input/chest_xray/train/PNEUMONIA/person359_bacteria_1646.jpeg',\n",
       " '/home/aekanun/input/chest_xray/train/PNEUMONIA/person1345_bacteria_3427.jpeg',\n",
       " '/home/aekanun/input/chest_xray/train/PNEUMONIA/person1477_virus_2561.jpeg',\n",
       " '/home/aekanun/input/chest_xray/train/PNEUMONIA/person435_virus_885.jpeg',\n",
       " '/home/aekanun/input/chest_xray/train/PNEUMONIA/person958_virus_1630.jpeg',\n",
       " '/home/aekanun/input/chest_xray/train/PNEUMONIA/person1268_bacteria_3227.jpeg',\n",
       " '/home/aekanun/input/chest_xray/train/PNEUMONIA/person809_bacteria_2718.jpeg',\n",
       " '/home/aekanun/input/chest_xray/train/PNEUMONIA/person977_bacteria_2902.jpeg',\n",
       " '/home/aekanun/input/chest_xray/train/PNEUMONIA/person407_virus_811.jpeg',\n",
       " '/home/aekanun/input/chest_xray/train/PNEUMONIA/person1317_bacteria_3332.jpeg',\n",
       " '/home/aekanun/input/chest_xray/train/PNEUMONIA/person1055_bacteria_2989.jpeg',\n",
       " '/home/aekanun/input/chest_xray/train/PNEUMONIA/person562_virus_1102.jpeg',\n",
       " '/home/aekanun/input/chest_xray/train/PNEUMONIA/person520_bacteria_2205.jpeg',\n",
       " '/home/aekanun/input/chest_xray/train/PNEUMONIA/person287_virus_586.jpeg',\n",
       " '/home/aekanun/input/chest_xray/train/PNEUMONIA/person1071_virus_1774.jpeg',\n",
       " '/home/aekanun/input/chest_xray/train/PNEUMONIA/person76_bacteria_370.jpeg',\n",
       " '/home/aekanun/input/chest_xray/train/PNEUMONIA/person1132_virus_1863.jpeg',\n",
       " '/home/aekanun/input/chest_xray/train/PNEUMONIA/person1108_bacteria_3049.jpeg',\n",
       " '/home/aekanun/input/chest_xray/train/PNEUMONIA/person608_bacteria_2471.jpeg',\n",
       " '/home/aekanun/input/chest_xray/train/PNEUMONIA/person90_virus_169.jpeg',\n",
       " '/home/aekanun/input/chest_xray/train/PNEUMONIA/person321_bacteria_1484.jpeg',\n",
       " '/home/aekanun/input/chest_xray/train/PNEUMONIA/person407_virus_814.jpeg',\n",
       " '/home/aekanun/input/chest_xray/train/PNEUMONIA/person951_bacteria_2876.jpeg',\n",
       " '/home/aekanun/input/chest_xray/train/PNEUMONIA/person579_virus_1123.jpeg',\n",
       " '/home/aekanun/input/chest_xray/train/PNEUMONIA/person442_virus_905.jpeg',\n",
       " '/home/aekanun/input/chest_xray/train/PNEUMONIA/person105_virus_192.jpeg',\n",
       " '/home/aekanun/input/chest_xray/train/PNEUMONIA/person1308_virus_2252.jpeg',\n",
       " '/home/aekanun/input/chest_xray/train/PNEUMONIA/person279_bacteria_1316.jpeg',\n",
       " '/home/aekanun/input/chest_xray/train/PNEUMONIA/person30_bacteria_145.jpeg',\n",
       " '/home/aekanun/input/chest_xray/train/PNEUMONIA/person1474_virus_2557.jpeg',\n",
       " '/home/aekanun/input/chest_xray/train/PNEUMONIA/person1496_bacteria_3910.jpeg',\n",
       " '/home/aekanun/input/chest_xray/train/PNEUMONIA/person1931_bacteria_4842.jpeg',\n",
       " '/home/aekanun/input/chest_xray/train/PNEUMONIA/person1187_bacteria_3136.jpeg',\n",
       " '/home/aekanun/input/chest_xray/train/PNEUMONIA/person342_virus_702.jpeg',\n",
       " '/home/aekanun/input/chest_xray/train/PNEUMONIA/person1110_bacteria_3051.jpeg',\n",
       " '/home/aekanun/input/chest_xray/train/PNEUMONIA/person1601_bacteria_4212.jpeg',\n",
       " '/home/aekanun/input/chest_xray/train/PNEUMONIA/person322_virus_655.jpeg',\n",
       " '/home/aekanun/input/chest_xray/train/PNEUMONIA/person509_bacteria_2146.jpeg',\n",
       " '/home/aekanun/input/chest_xray/train/PNEUMONIA/person280_bacteria_1321.jpeg',\n",
       " '/home/aekanun/input/chest_xray/train/PNEUMONIA/person1049_virus_1746.jpeg',\n",
       " '/home/aekanun/input/chest_xray/train/PNEUMONIA/person277_bacteria_1302.jpeg',\n",
       " '/home/aekanun/input/chest_xray/train/PNEUMONIA/person1374_bacteria_3506.jpeg',\n",
       " '/home/aekanun/input/chest_xray/train/PNEUMONIA/person969_virus_1643.jpeg',\n",
       " '/home/aekanun/input/chest_xray/train/PNEUMONIA/person813_bacteria_2723.jpeg',\n",
       " '/home/aekanun/input/chest_xray/train/PNEUMONIA/person537_bacteria_2266.jpeg',\n",
       " '/home/aekanun/input/chest_xray/train/PNEUMONIA/person564_bacteria_2346.jpeg',\n",
       " '/home/aekanun/input/chest_xray/train/PNEUMONIA/person1850_bacteria_4721.jpeg',\n",
       " '/home/aekanun/input/chest_xray/train/PNEUMONIA/person1349_bacteria_3434.jpeg',\n",
       " '/home/aekanun/input/chest_xray/train/PNEUMONIA/person276_bacteria_1299.jpeg',\n",
       " '/home/aekanun/input/chest_xray/train/PNEUMONIA/person1318_virus_2274.jpeg',\n",
       " '/home/aekanun/input/chest_xray/train/PNEUMONIA/person996_virus_1677.jpeg',\n",
       " '/home/aekanun/input/chest_xray/train/PNEUMONIA/person525_bacteria_2220.jpeg',\n",
       " '/home/aekanun/input/chest_xray/train/PNEUMONIA/person548_bacteria_2302.jpeg',\n",
       " '/home/aekanun/input/chest_xray/train/PNEUMONIA/person873_bacteria_2796.jpeg',\n",
       " '/home/aekanun/input/chest_xray/train/PNEUMONIA/person1348_virus_2324.jpeg',\n",
       " '/home/aekanun/input/chest_xray/train/PNEUMONIA/person1294_bacteria_3257.jpeg',\n",
       " '/home/aekanun/input/chest_xray/train/PNEUMONIA/person24_bacteria_108.jpeg',\n",
       " '/home/aekanun/input/chest_xray/train/PNEUMONIA/person1691_bacteria_4481.jpeg',\n",
       " '/home/aekanun/input/chest_xray/train/PNEUMONIA/person1217_virus_2063.jpeg',\n",
       " '/home/aekanun/input/chest_xray/train/PNEUMONIA/person1264_bacteria_3222.jpeg',\n",
       " '/home/aekanun/input/chest_xray/train/PNEUMONIA/person1063_virus_1765.jpeg',\n",
       " '/home/aekanun/input/chest_xray/train/PNEUMONIA/person1670_bacteria_4429.jpeg',\n",
       " '/home/aekanun/input/chest_xray/train/PNEUMONIA/person1649_bacteria_4377.jpeg',\n",
       " '/home/aekanun/input/chest_xray/train/PNEUMONIA/person461_virus_949.jpeg',\n",
       " '/home/aekanun/input/chest_xray/train/PNEUMONIA/person1168_bacteria_3115.jpeg',\n",
       " '/home/aekanun/input/chest_xray/train/PNEUMONIA/person348_virus_720.jpeg',\n",
       " '/home/aekanun/input/chest_xray/train/PNEUMONIA/person1011_bacteria_2942.jpeg',\n",
       " '/home/aekanun/input/chest_xray/train/PNEUMONIA/person1186_virus_2022.jpeg',\n",
       " '/home/aekanun/input/chest_xray/train/PNEUMONIA/person551_virus_1091.jpeg',\n",
       " '/home/aekanun/input/chest_xray/train/PNEUMONIA/person375_bacteria_1713.jpeg',\n",
       " '/home/aekanun/input/chest_xray/train/PNEUMONIA/person23_bacteria_93.jpeg',\n",
       " '/home/aekanun/input/chest_xray/train/PNEUMONIA/person1549_bacteria_4050.jpeg',\n",
       " '/home/aekanun/input/chest_xray/train/PNEUMONIA/person525_virus_1046.jpeg',\n",
       " '/home/aekanun/input/chest_xray/train/PNEUMONIA/person615_virus_1184.jpeg',\n",
       " '/home/aekanun/input/chest_xray/train/PNEUMONIA/person1188_virus_2024.jpeg',\n",
       " '/home/aekanun/input/chest_xray/train/PNEUMONIA/person597_bacteria_2451.jpeg',\n",
       " '/home/aekanun/input/chest_xray/train/PNEUMONIA/person578_virus_1122.jpeg',\n",
       " '/home/aekanun/input/chest_xray/train/PNEUMONIA/person1950_bacteria_4881.jpeg',\n",
       " '/home/aekanun/input/chest_xray/train/PNEUMONIA/person1875_bacteria_4756.jpeg',\n",
       " '/home/aekanun/input/chest_xray/train/PNEUMONIA/person462_virus_951.jpeg',\n",
       " '/home/aekanun/input/chest_xray/train/PNEUMONIA/person1130_bacteria_3072.jpeg',\n",
       " '/home/aekanun/input/chest_xray/train/PNEUMONIA/person465_bacteria_1976.jpeg',\n",
       " '/home/aekanun/input/chest_xray/train/PNEUMONIA/person12_bacteria_47.jpeg',\n",
       " '/home/aekanun/input/chest_xray/train/PNEUMONIA/person1338_bacteria_3397.jpeg',\n",
       " '/home/aekanun/input/chest_xray/train/PNEUMONIA/person1507_bacteria_3943.jpeg',\n",
       " '/home/aekanun/input/chest_xray/train/PNEUMONIA/person576_virus_1120.jpeg',\n",
       " '/home/aekanun/input/chest_xray/train/PNEUMONIA/person509_virus_1024.jpeg',\n",
       " '/home/aekanun/input/chest_xray/train/PNEUMONIA/person415_bacteria_1837.jpeg',\n",
       " '/home/aekanun/input/chest_xray/train/PNEUMONIA/person110_virus_205.jpeg',\n",
       " '/home/aekanun/input/chest_xray/train/PNEUMONIA/person1168_virus_1966.jpeg',\n",
       " '/home/aekanun/input/chest_xray/train/PNEUMONIA/person616_bacteria_2487.jpeg',\n",
       " '/home/aekanun/input/chest_xray/train/PNEUMONIA/person1260_virus_2140.jpeg',\n",
       " '/home/aekanun/input/chest_xray/train/PNEUMONIA/person374_bacteria_1712.jpeg',\n",
       " '/home/aekanun/input/chest_xray/train/PNEUMONIA/person1197_bacteria_3147.jpeg',\n",
       " '/home/aekanun/input/chest_xray/train/PNEUMONIA/person403_bacteria_1814.jpeg',\n",
       " '/home/aekanun/input/chest_xray/train/PNEUMONIA/person406_bacteria_1820.jpeg',\n",
       " '/home/aekanun/input/chest_xray/train/PNEUMONIA/person502_bacteria_2120.jpeg',\n",
       " '/home/aekanun/input/chest_xray/train/PNEUMONIA/person1784_bacteria_4631.jpeg',\n",
       " '/home/aekanun/input/chest_xray/train/PNEUMONIA/person383_bacteria_1748.jpeg',\n",
       " '/home/aekanun/input/chest_xray/train/PNEUMONIA/person1449_bacteria_3743.jpeg',\n",
       " '/home/aekanun/input/chest_xray/train/PNEUMONIA/person1430_bacteria_3695.jpeg',\n",
       " '/home/aekanun/input/chest_xray/train/PNEUMONIA/person457_bacteria_1949.jpeg',\n",
       " '/home/aekanun/input/chest_xray/train/PNEUMONIA/person871_virus_1517.jpeg',\n",
       " '/home/aekanun/input/chest_xray/train/PNEUMONIA/person487_virus_991.jpeg',\n",
       " '/home/aekanun/input/chest_xray/train/PNEUMONIA/person311_bacteria_1453.jpeg',\n",
       " '/home/aekanun/input/chest_xray/train/PNEUMONIA/person1730_bacteria_4559.jpeg',\n",
       " '/home/aekanun/input/chest_xray/train/PNEUMONIA/person842_virus_1483.jpeg',\n",
       " '/home/aekanun/input/chest_xray/train/PNEUMONIA/person1463_bacteria_3808.jpeg',\n",
       " '/home/aekanun/input/chest_xray/train/PNEUMONIA/person1639_bacteria_4347.jpeg',\n",
       " '/home/aekanun/input/chest_xray/train/PNEUMONIA/person1098_bacteria_3039.jpeg',\n",
       " '/home/aekanun/input/chest_xray/train/PNEUMONIA/person1391_bacteria_3536.jpeg',\n",
       " '/home/aekanun/input/chest_xray/train/PNEUMONIA/person716_bacteria_2617.jpeg',\n",
       " '/home/aekanun/input/chest_xray/train/PNEUMONIA/person1303_bacteria_3267.jpeg',\n",
       " '/home/aekanun/input/chest_xray/train/PNEUMONIA/person471_virus_968.jpeg',\n",
       " '/home/aekanun/input/chest_xray/train/PNEUMONIA/person1375_bacteria_3509.jpeg',\n",
       " '/home/aekanun/input/chest_xray/train/PNEUMONIA/person577_virus_1121.jpeg',\n",
       " '/home/aekanun/input/chest_xray/train/PNEUMONIA/person527_bacteria_2225.jpeg',\n",
       " '/home/aekanun/input/chest_xray/train/PNEUMONIA/person268_virus_553.jpeg',\n",
       " '/home/aekanun/input/chest_xray/train/PNEUMONIA/person1388_bacteria_3529.jpeg',\n",
       " '/home/aekanun/input/chest_xray/train/PNEUMONIA/person327_bacteria_1508.jpeg',\n",
       " '/home/aekanun/input/chest_xray/train/PNEUMONIA/person623_bacteria_2496.jpeg',\n",
       " '/home/aekanun/input/chest_xray/train/PNEUMONIA/person1927_bacteria_4836.jpeg',\n",
       " '/home/aekanun/input/chest_xray/train/PNEUMONIA/person257_bacteria_1199.jpeg',\n",
       " '/home/aekanun/input/chest_xray/train/PNEUMONIA/person563_bacteria_2336.jpeg',\n",
       " '/home/aekanun/input/chest_xray/train/PNEUMONIA/person1638_bacteria_4342.jpeg',\n",
       " '/home/aekanun/input/chest_xray/train/PNEUMONIA/person124_virus_242.jpeg',\n",
       " '/home/aekanun/input/chest_xray/train/PNEUMONIA/person299_bacteria_1414.jpeg',\n",
       " '/home/aekanun/input/chest_xray/train/PNEUMONIA/person466_bacteria_1984.jpeg',\n",
       " '/home/aekanun/input/chest_xray/train/PNEUMONIA/person301_bacteria_1429.jpeg',\n",
       " '/home/aekanun/input/chest_xray/train/PNEUMONIA/person563_bacteria_2333.jpeg',\n",
       " '/home/aekanun/input/chest_xray/train/PNEUMONIA/person1283_bacteria_3246.jpeg',\n",
       " '/home/aekanun/input/chest_xray/train/PNEUMONIA/person300_bacteria_1423.jpeg',\n",
       " '/home/aekanun/input/chest_xray/train/PNEUMONIA/person1531_bacteria_4003.jpeg',\n",
       " '/home/aekanun/input/chest_xray/train/PNEUMONIA/person1599_bacteria_4201.jpeg',\n",
       " '/home/aekanun/input/chest_xray/train/PNEUMONIA/person1684_bacteria_4462.jpeg',\n",
       " '/home/aekanun/input/chest_xray/train/PNEUMONIA/person491_bacteria_2081.jpeg',\n",
       " '/home/aekanun/input/chest_xray/train/PNEUMONIA/person995_virus_1676.jpeg',\n",
       " '/home/aekanun/input/chest_xray/train/PNEUMONIA/person921_virus_1578.jpeg',\n",
       " '/home/aekanun/input/chest_xray/train/PNEUMONIA/person584_virus_1128.jpeg',\n",
       " '/home/aekanun/input/chest_xray/train/PNEUMONIA/person987_bacteria_2914.jpeg',\n",
       " '/home/aekanun/input/chest_xray/train/PNEUMONIA/person530_virus_1052.jpeg',\n",
       " '/home/aekanun/input/chest_xray/train/PNEUMONIA/person5_bacteria_15.jpeg',\n",
       " '/home/aekanun/input/chest_xray/train/PNEUMONIA/person469_bacteria_1994.jpeg',\n",
       " '/home/aekanun/input/chest_xray/train/PNEUMONIA/person475_bacteria_2023.jpeg',\n",
       " '/home/aekanun/input/chest_xray/train/PNEUMONIA/person1156_bacteria_3101.jpeg',\n",
       " '/home/aekanun/input/chest_xray/train/PNEUMONIA/person400_bacteria_1807.jpeg',\n",
       " '/home/aekanun/input/chest_xray/train/PNEUMONIA/person757_bacteria_2661.jpeg',\n",
       " '/home/aekanun/input/chest_xray/train/PNEUMONIA/person1310_bacteria_3304.jpeg',\n",
       " '/home/aekanun/input/chest_xray/train/PNEUMONIA/person565_bacteria_2348.jpeg',\n",
       " '/home/aekanun/input/chest_xray/train/PNEUMONIA/person1343_bacteria_3417.jpeg',\n",
       " '/home/aekanun/input/chest_xray/train/PNEUMONIA/person492_bacteria_2085.jpeg',\n",
       " '/home/aekanun/input/chest_xray/train/PNEUMONIA/person27_bacteria_138.jpeg',\n",
       " '/home/aekanun/input/chest_xray/train/PNEUMONIA/person1717_bacteria_4536.jpeg',\n",
       " '/home/aekanun/input/chest_xray/train/PNEUMONIA/person1472_bacteria_3833.jpeg',\n",
       " '/home/aekanun/input/chest_xray/train/PNEUMONIA/person469_bacteria_1995.jpeg',\n",
       " '/home/aekanun/input/chest_xray/train/PNEUMONIA/person275_bacteria_1291.jpeg',\n",
       " '/home/aekanun/input/chest_xray/train/PNEUMONIA/person274_virus_563.jpeg',\n",
       " '/home/aekanun/input/chest_xray/train/PNEUMONIA/person517_virus_1034.jpeg',\n",
       " '/home/aekanun/input/chest_xray/train/PNEUMONIA/person374_virus_757.jpeg',\n",
       " '/home/aekanun/input/chest_xray/train/PNEUMONIA/person334_bacteria_1545.jpeg',\n",
       " '/home/aekanun/input/chest_xray/train/PNEUMONIA/person326_virus_670.jpeg',\n",
       " '/home/aekanun/input/chest_xray/train/PNEUMONIA/person644_virus_1225.jpeg',\n",
       " '/home/aekanun/input/chest_xray/train/PNEUMONIA/person1657_bacteria_4398.jpeg',\n",
       " '/home/aekanun/input/chest_xray/train/PNEUMONIA/person1554_virus_2696.jpeg',\n",
       " '/home/aekanun/input/chest_xray/train/PNEUMONIA/person480_virus_981.jpeg',\n",
       " '/home/aekanun/input/chest_xray/train/PNEUMONIA/person1191_virus_2032.jpeg',\n",
       " '/home/aekanun/input/chest_xray/train/PNEUMONIA/person1344_bacteria_3421.jpeg',\n",
       " '/home/aekanun/input/chest_xray/train/PNEUMONIA/person1517_virus_2644.jpeg',\n",
       " '/home/aekanun/input/chest_xray/train/PNEUMONIA/person264_bacteria_1230.jpeg',\n",
       " '/home/aekanun/input/chest_xray/train/PNEUMONIA/person278_bacteria_1313.jpeg',\n",
       " '/home/aekanun/input/chest_xray/train/PNEUMONIA/person637_bacteria_2528.jpeg',\n",
       " '/home/aekanun/input/chest_xray/train/PNEUMONIA/person1674_bacteria_4437.jpeg',\n",
       " '/home/aekanun/input/chest_xray/train/PNEUMONIA/person1591_bacteria_4177.jpeg',\n",
       " '/home/aekanun/input/chest_xray/train/PNEUMONIA/person339_bacteria_1573.jpeg',\n",
       " '/home/aekanun/input/chest_xray/train/PNEUMONIA/person499_bacteria_2103.jpeg',\n",
       " '/home/aekanun/input/chest_xray/train/PNEUMONIA/person298_bacteria_1413.jpeg',\n",
       " '/home/aekanun/input/chest_xray/train/PNEUMONIA/person616_virus_1186.jpeg',\n",
       " '/home/aekanun/input/chest_xray/train/PNEUMONIA/person692_virus_1286.jpeg',\n",
       " '/home/aekanun/input/chest_xray/train/PNEUMONIA/person1400_bacteria_3550.jpeg',\n",
       " '/home/aekanun/input/chest_xray/train/PNEUMONIA/person605_bacteria_2466.jpeg',\n",
       " '/home/aekanun/input/chest_xray/train/PNEUMONIA/person624_bacteria_2497.jpeg',\n",
       " '/home/aekanun/input/chest_xray/train/PNEUMONIA/person1454_bacteria_3778.jpeg',\n",
       " '/home/aekanun/input/chest_xray/train/PNEUMONIA/person1544_bacteria_4033.jpeg',\n",
       " '/home/aekanun/input/chest_xray/train/PNEUMONIA/person417_bacteria_1841.jpeg',\n",
       " '/home/aekanun/input/chest_xray/train/PNEUMONIA/person973_virus_1647.jpeg',\n",
       " '/home/aekanun/input/chest_xray/train/PNEUMONIA/person62_bacteria_298.jpeg',\n",
       " '/home/aekanun/input/chest_xray/train/PNEUMONIA/person359_virus_738.jpeg',\n",
       " '/home/aekanun/input/chest_xray/train/PNEUMONIA/person1717_bacteria_4534.jpeg',\n",
       " '/home/aekanun/input/chest_xray/train/PNEUMONIA/person1312_bacteria_3313.jpeg',\n",
       " '/home/aekanun/input/chest_xray/train/PNEUMONIA/person1935_bacteria_4850.jpeg',\n",
       " '/home/aekanun/input/chest_xray/train/PNEUMONIA/person360_virus_739.jpeg',\n",
       " '/home/aekanun/input/chest_xray/train/PNEUMONIA/person502_virus_1011.jpeg',\n",
       " '/home/aekanun/input/chest_xray/train/PNEUMONIA/person298_bacteria_1410.jpeg',\n",
       " '/home/aekanun/input/chest_xray/train/PNEUMONIA/person41_bacteria_207.jpeg',\n",
       " '/home/aekanun/input/chest_xray/train/PNEUMONIA/person64_bacteria_310.jpeg',\n",
       " '/home/aekanun/input/chest_xray/train/PNEUMONIA/person1424_bacteria_3651.jpeg',\n",
       " '/home/aekanun/input/chest_xray/train/PNEUMONIA/person982_bacteria_2909.jpeg',\n",
       " '/home/aekanun/input/chest_xray/train/PNEUMONIA/person1418_bacteria_3643.jpeg',\n",
       " '/home/aekanun/input/chest_xray/train/PNEUMONIA/person24_bacteria_111.jpeg',\n",
       " '/home/aekanun/input/chest_xray/train/PNEUMONIA/person979_bacteria_2905.jpeg',\n",
       " '/home/aekanun/input/chest_xray/train/PNEUMONIA/person913_virus_1570.jpeg',\n",
       " '/home/aekanun/input/chest_xray/train/PNEUMONIA/person316_bacteria_1470.jpeg',\n",
       " '/home/aekanun/input/chest_xray/train/PNEUMONIA/person417_virus_850.jpeg',\n",
       " '/home/aekanun/input/chest_xray/train/PNEUMONIA/person1910_bacteria_4814.jpeg',\n",
       " '/home/aekanun/input/chest_xray/train/PNEUMONIA/person1488_virus_2585.jpeg',\n",
       " '/home/aekanun/input/chest_xray/train/PNEUMONIA/person267_virus_552.jpeg',\n",
       " '/home/aekanun/input/chest_xray/train/PNEUMONIA/person23_bacteria_103.jpeg',\n",
       " '/home/aekanun/input/chest_xray/train/PNEUMONIA/person991_virus_1669.jpeg',\n",
       " '/home/aekanun/input/chest_xray/train/PNEUMONIA/person95_virus_177.jpeg',\n",
       " '/home/aekanun/input/chest_xray/train/PNEUMONIA/person313_virus_637.jpeg',\n",
       " '/home/aekanun/input/chest_xray/train/PNEUMONIA/person445_virus_914.jpeg',\n",
       " '/home/aekanun/input/chest_xray/train/PNEUMONIA/person299_bacteria_1418.jpeg',\n",
       " '/home/aekanun/input/chest_xray/train/PNEUMONIA/person462_bacteria_1963.jpeg',\n",
       " '/home/aekanun/input/chest_xray/train/PNEUMONIA/person299_bacteria_1417.jpeg',\n",
       " '/home/aekanun/input/chest_xray/train/PNEUMONIA/person46_bacteria_224.jpeg',\n",
       " '/home/aekanun/input/chest_xray/train/PNEUMONIA/person586_bacteria_2417.jpeg',\n",
       " '/home/aekanun/input/chest_xray/train/PNEUMONIA/person337_bacteria_1566.jpeg',\n",
       " '/home/aekanun/input/chest_xray/train/PNEUMONIA/person1719_bacteria_4541.jpeg',\n",
       " '/home/aekanun/input/chest_xray/train/PNEUMONIA/person302_virus_623.jpeg',\n",
       " '/home/aekanun/input/chest_xray/train/PNEUMONIA/person764_virus_1392.jpeg',\n",
       " '/home/aekanun/input/chest_xray/train/PNEUMONIA/person267_bacteria_1253.jpeg',\n",
       " '/home/aekanun/input/chest_xray/train/PNEUMONIA/person1480_virus_2566.jpeg',\n",
       " '/home/aekanun/input/chest_xray/train/PNEUMONIA/person1158_bacteria_3103.jpeg',\n",
       " '/home/aekanun/input/chest_xray/train/PNEUMONIA/person772_virus_1401.jpeg',\n",
       " '/home/aekanun/input/chest_xray/train/PNEUMONIA/person530_bacteria_2233.jpeg',\n",
       " '/home/aekanun/input/chest_xray/train/PNEUMONIA/person612_bacteria_2478.jpeg',\n",
       " '/home/aekanun/input/chest_xray/train/PNEUMONIA/person1530_virus_2664.jpeg',\n",
       " '/home/aekanun/input/chest_xray/train/PNEUMONIA/person585_bacteria_2415.jpeg',\n",
       " '/home/aekanun/input/chest_xray/train/PNEUMONIA/person1216_virus_2062.jpeg',\n",
       " '/home/aekanun/input/chest_xray/train/PNEUMONIA/person59_bacteria_279.jpeg',\n",
       " '/home/aekanun/input/chest_xray/train/PNEUMONIA/person1702_bacteria_4508.jpeg',\n",
       " '/home/aekanun/input/chest_xray/train/PNEUMONIA/person518_bacteria_2199.jpeg',\n",
       " '/home/aekanun/input/chest_xray/train/PNEUMONIA/person502_bacteria_2118.jpeg',\n",
       " '/home/aekanun/input/chest_xray/train/PNEUMONIA/person505_bacteria_2135.jpeg',\n",
       " '/home/aekanun/input/chest_xray/train/PNEUMONIA/person1942_bacteria_4865.jpeg',\n",
       " '/home/aekanun/input/chest_xray/train/PNEUMONIA/person31_bacteria_163.jpeg',\n",
       " '/home/aekanun/input/chest_xray/train/PNEUMONIA/person1598_bacteria_4195.jpeg',\n",
       " '/home/aekanun/input/chest_xray/train/PNEUMONIA/person303_bacteria_1431.jpeg',\n",
       " '/home/aekanun/input/chest_xray/train/PNEUMONIA/person1125_virus_1852.jpeg',\n",
       " '/home/aekanun/input/chest_xray/train/PNEUMONIA/person317_bacteria_1473.jpeg',\n",
       " '/home/aekanun/input/chest_xray/train/PNEUMONIA/person4_bacteria_14.jpeg',\n",
       " '/home/aekanun/input/chest_xray/train/PNEUMONIA/person1313_bacteria_3320.jpeg',\n",
       " '/home/aekanun/input/chest_xray/train/PNEUMONIA/person1440_bacteria_3723.jpeg',\n",
       " '/home/aekanun/input/chest_xray/train/PNEUMONIA/person1306_bacteria_3276.jpeg',\n",
       " '/home/aekanun/input/chest_xray/train/PNEUMONIA/person1071_bacteria_3005.jpeg',\n",
       " '/home/aekanun/input/chest_xray/train/PNEUMONIA/person607_virus_1173.jpeg',\n",
       " '/home/aekanun/input/chest_xray/train/PNEUMONIA/person423_bacteria_1854.jpeg',\n",
       " '/home/aekanun/input/chest_xray/train/PNEUMONIA/person691_bacteria_2588.jpeg',\n",
       " '/home/aekanun/input/chest_xray/train/PNEUMONIA/person255_bacteria_1160.jpeg',\n",
       " '/home/aekanun/input/chest_xray/train/PNEUMONIA/person891_virus_1541.jpeg',\n",
       " '/home/aekanun/input/chest_xray/train/PNEUMONIA/person1164_virus_1957.jpeg',\n",
       " '/home/aekanun/input/chest_xray/train/PNEUMONIA/person449_bacteria_1940.jpeg',\n",
       " '/home/aekanun/input/chest_xray/train/PNEUMONIA/person478_bacteria_2032.jpeg',\n",
       " '/home/aekanun/input/chest_xray/train/PNEUMONIA/person1214_virus_2059.jpeg',\n",
       " '/home/aekanun/input/chest_xray/train/PNEUMONIA/person1252_bacteria_3209.jpeg',\n",
       " '/home/aekanun/input/chest_xray/train/PNEUMONIA/person778_bacteria_2682.jpeg',\n",
       " '/home/aekanun/input/chest_xray/train/PNEUMONIA/person1590_bacteria_4174.jpeg',\n",
       " '/home/aekanun/input/chest_xray/train/PNEUMONIA/person265_bacteria_1236.jpeg',\n",
       " '/home/aekanun/input/chest_xray/train/PNEUMONIA/person636_bacteria_2527.jpeg',\n",
       " '/home/aekanun/input/chest_xray/train/PNEUMONIA/person712_virus_1310.jpeg',\n",
       " '/home/aekanun/input/chest_xray/train/PNEUMONIA/person1535_bacteria_4017.jpeg',\n",
       " '/home/aekanun/input/chest_xray/train/PNEUMONIA/person665_bacteria_2557.jpeg',\n",
       " '/home/aekanun/input/chest_xray/train/PNEUMONIA/person583_bacteria_2408.jpeg',\n",
       " '/home/aekanun/input/chest_xray/train/PNEUMONIA/person593_virus_1142.jpeg',\n",
       " '/home/aekanun/input/chest_xray/train/PNEUMONIA/person596_bacteria_2444.jpeg',\n",
       " '/home/aekanun/input/chest_xray/train/PNEUMONIA/person669_bacteria_2562.jpeg',\n",
       " '/home/aekanun/input/chest_xray/train/PNEUMONIA/person964_bacteria_2889.jpeg',\n",
       " '/home/aekanun/input/chest_xray/train/PNEUMONIA/person1203_bacteria_3155.jpeg',\n",
       " '/home/aekanun/input/chest_xray/train/PNEUMONIA/person162_virus_322.jpeg',\n",
       " '/home/aekanun/input/chest_xray/train/PNEUMONIA/person1253_bacteria_3211.jpeg',\n",
       " '/home/aekanun/input/chest_xray/train/PNEUMONIA/person1186_virus_2021.jpeg',\n",
       " '/home/aekanun/input/chest_xray/train/PNEUMONIA/person434_virus_883.jpeg',\n",
       " '/home/aekanun/input/chest_xray/train/PNEUMONIA/person1685_bacteria_4465.jpeg',\n",
       " '/home/aekanun/input/chest_xray/train/PNEUMONIA/person528_bacteria_2227.jpeg',\n",
       " '/home/aekanun/input/chest_xray/train/PNEUMONIA/person1439_virus_2453.jpeg',\n",
       " '/home/aekanun/input/chest_xray/train/PNEUMONIA/person312_bacteria_1454.jpeg',\n",
       " '/home/aekanun/input/chest_xray/train/PNEUMONIA/person336_bacteria_1549.jpeg',\n",
       " '/home/aekanun/input/chest_xray/train/PNEUMONIA/person732_virus_1353.jpeg',\n",
       " '/home/aekanun/input/chest_xray/train/PNEUMONIA/person927_virus_1584.jpeg',\n",
       " '/home/aekanun/input/chest_xray/train/PNEUMONIA/person504_bacteria_2129.jpeg',\n",
       " '/home/aekanun/input/chest_xray/train/PNEUMONIA/person538_bacteria_2268.jpeg',\n",
       " '/home/aekanun/input/chest_xray/train/PNEUMONIA/person1888_bacteria_4775.jpeg',\n",
       " '/home/aekanun/input/chest_xray/train/PNEUMONIA/person439_virus_890.jpeg',\n",
       " '/home/aekanun/input/chest_xray/train/PNEUMONIA/person1343_virus_2317.jpeg',\n",
       " '/home/aekanun/input/chest_xray/train/PNEUMONIA/person255_bacteria_1175.jpeg',\n",
       " '/home/aekanun/input/chest_xray/train/PNEUMONIA/person1565_bacteria_4095.jpeg',\n",
       " '/home/aekanun/input/chest_xray/train/PNEUMONIA/person1613_bacteria_4247.jpeg',\n",
       " '/home/aekanun/input/chest_xray/train/PNEUMONIA/person337_bacteria_1565.jpeg',\n",
       " '/home/aekanun/input/chest_xray/train/PNEUMONIA/person1073_virus_1776.jpeg',\n",
       " '/home/aekanun/input/chest_xray/train/PNEUMONIA/person630_bacteria_2515.jpeg',\n",
       " '/home/aekanun/input/chest_xray/train/PNEUMONIA/person1058_virus_1757.jpeg',\n",
       " '/home/aekanun/input/chest_xray/train/PNEUMONIA/person1644_bacteria_4360.jpeg',\n",
       " '/home/aekanun/input/chest_xray/train/PNEUMONIA/person54_bacteria_258.jpeg',\n",
       " '/home/aekanun/input/chest_xray/train/PNEUMONIA/person727_bacteria_2629.jpeg',\n",
       " '/home/aekanun/input/chest_xray/train/PNEUMONIA/person1777_bacteria_4622.jpeg',\n",
       " '/home/aekanun/input/chest_xray/train/PNEUMONIA/person264_bacteria_1232.jpeg',\n",
       " '/home/aekanun/input/chest_xray/train/PNEUMONIA/person504_bacteria_2132.jpeg',\n",
       " '/home/aekanun/input/chest_xray/train/PNEUMONIA/person1273_bacteria_3234.jpeg',\n",
       " '/home/aekanun/input/chest_xray/train/PNEUMONIA/person709_bacteria_2608.jpeg',\n",
       " '/home/aekanun/input/chest_xray/train/PNEUMONIA/person292_virus_597.jpeg',\n",
       " '/home/aekanun/input/chest_xray/train/PNEUMONIA/person508_bacteria_2144.jpeg',\n",
       " '/home/aekanun/input/chest_xray/train/PNEUMONIA/person1340_bacteria_3405.jpeg',\n",
       " '/home/aekanun/input/chest_xray/train/PNEUMONIA/person1817_bacteria_4675.jpeg',\n",
       " '/home/aekanun/input/chest_xray/train/PNEUMONIA/person282_virus_579.jpeg',\n",
       " '/home/aekanun/input/chest_xray/train/PNEUMONIA/person124_virus_249.jpeg',\n",
       " '/home/aekanun/input/chest_xray/train/PNEUMONIA/person1796_bacteria_4644.jpeg',\n",
       " '/home/aekanun/input/chest_xray/train/PNEUMONIA/person1582_bacteria_4143.jpeg',\n",
       " '/home/aekanun/input/chest_xray/train/PNEUMONIA/person364_bacteria_1656.jpeg',\n",
       " '/home/aekanun/input/chest_xray/train/PNEUMONIA/person1211_virus_2056.jpeg',\n",
       " '/home/aekanun/input/chest_xray/train/PNEUMONIA/person872_bacteria_2795.jpeg',\n",
       " '/home/aekanun/input/chest_xray/train/PNEUMONIA/person1830_bacteria_4693.jpeg',\n",
       " '/home/aekanun/input/chest_xray/train/PNEUMONIA/person369_bacteria_1680.jpeg',\n",
       " '/home/aekanun/input/chest_xray/train/PNEUMONIA/person1411_bacteria_3601.jpeg',\n",
       " '/home/aekanun/input/chest_xray/train/PNEUMONIA/person1290_virus_2216.jpeg',\n",
       " '/home/aekanun/input/chest_xray/train/PNEUMONIA/person124_virus_250.jpeg',\n",
       " '/home/aekanun/input/chest_xray/train/PNEUMONIA/person255_virus_531.jpeg',\n",
       " '/home/aekanun/input/chest_xray/train/PNEUMONIA/person1758_bacteria_4600.jpeg',\n",
       " '/home/aekanun/input/chest_xray/train/PNEUMONIA/person1551_virus_2692.jpeg',\n",
       " '/home/aekanun/input/chest_xray/train/PNEUMONIA/person1670_bacteria_4427.jpeg',\n",
       " '/home/aekanun/input/chest_xray/train/PNEUMONIA/person351_bacteria_1623.jpeg',\n",
       " '/home/aekanun/input/chest_xray/train/PNEUMONIA/person62_bacteria_299.jpeg',\n",
       " '/home/aekanun/input/chest_xray/train/PNEUMONIA/person266_bacteria_1241.jpeg',\n",
       " '/home/aekanun/input/chest_xray/train/PNEUMONIA/person1538_bacteria_4021.jpeg',\n",
       " '/home/aekanun/input/chest_xray/train/PNEUMONIA/person1413_bacteria_3615.jpeg',\n",
       " '/home/aekanun/input/chest_xray/train/PNEUMONIA/person1040_virus_1735.jpeg',\n",
       " '/home/aekanun/input/chest_xray/train/PNEUMONIA/person1548_bacteria_4048.jpeg',\n",
       " '/home/aekanun/input/chest_xray/train/PNEUMONIA/person82_virus_154.jpeg',\n",
       " '/home/aekanun/input/chest_xray/train/PNEUMONIA/person1411_bacteria_3599.jpeg',\n",
       " '/home/aekanun/input/chest_xray/train/PNEUMONIA/person266_bacteria_1239.jpeg',\n",
       " '/home/aekanun/input/chest_xray/train/PNEUMONIA/person1190_virus_2031.jpeg',\n",
       " '/home/aekanun/input/chest_xray/train/PNEUMONIA/person458_bacteria_1951.jpeg',\n",
       " '/home/aekanun/input/chest_xray/train/PNEUMONIA/person739_bacteria_2642.jpeg',\n",
       " '/home/aekanun/input/chest_xray/train/PNEUMONIA/person522_bacteria_2211.jpeg',\n",
       " '/home/aekanun/input/chest_xray/train/PNEUMONIA/person1838_bacteria_4703.jpeg',\n",
       " '/home/aekanun/input/chest_xray/train/PNEUMONIA/person1646_bacteria_4368.jpeg',\n",
       " '/home/aekanun/input/chest_xray/train/PNEUMONIA/person1230_bacteria_3185.jpeg',\n",
       " '/home/aekanun/input/chest_xray/train/PNEUMONIA/person1876_bacteria_4760.jpeg',\n",
       " '/home/aekanun/input/chest_xray/train/PNEUMONIA/person545_virus_1081.jpeg',\n",
       " '/home/aekanun/input/chest_xray/train/PNEUMONIA/person274_bacteria_1289.jpeg',\n",
       " '/home/aekanun/input/chest_xray/train/PNEUMONIA/person27_bacteria_135.jpeg',\n",
       " '/home/aekanun/input/chest_xray/train/PNEUMONIA/person1600_bacteria_4202.jpeg',\n",
       " '/home/aekanun/input/chest_xray/train/PNEUMONIA/person124_virus_234.jpeg',\n",
       " '/home/aekanun/input/chest_xray/train/PNEUMONIA/person354_bacteria_1632.jpeg',\n",
       " '/home/aekanun/input/chest_xray/train/PNEUMONIA/person1943_bacteria_4868.jpeg',\n",
       " '/home/aekanun/input/chest_xray/train/PNEUMONIA/person1380_bacteria_3515.jpeg',\n",
       " '/home/aekanun/input/chest_xray/train/PNEUMONIA/person1638_bacteria_4341.jpeg',\n",
       " '/home/aekanun/input/chest_xray/train/PNEUMONIA/person629_bacteria_2510.jpeg',\n",
       " '/home/aekanun/input/chest_xray/train/PNEUMONIA/person774_bacteria_2678.jpeg',\n",
       " '/home/aekanun/input/chest_xray/train/PNEUMONIA/person939_bacteria_2864.jpeg',\n",
       " '/home/aekanun/input/chest_xray/train/PNEUMONIA/person823_virus_1459.jpeg',\n",
       " '/home/aekanun/input/chest_xray/train/PNEUMONIA/person66_bacteria_323.jpeg',\n",
       " '/home/aekanun/input/chest_xray/train/PNEUMONIA/person502_bacteria_2121.jpeg',\n",
       " '/home/aekanun/input/chest_xray/train/PNEUMONIA/person563_virus_1103.jpeg',\n",
       " '/home/aekanun/input/chest_xray/train/PNEUMONIA/person1537_bacteria_4019.jpeg',\n",
       " '/home/aekanun/input/chest_xray/train/PNEUMONIA/person1327_bacteria_3374.jpeg',\n",
       " '/home/aekanun/input/chest_xray/train/PNEUMONIA/person1526_bacteria_3986.jpeg',\n",
       " '/home/aekanun/input/chest_xray/train/PNEUMONIA/person1723_bacteria_4548.jpeg',\n",
       " '/home/aekanun/input/chest_xray/train/PNEUMONIA/person1020_bacteria_2951.jpeg',\n",
       " '/home/aekanun/input/chest_xray/train/PNEUMONIA/person1803_bacteria_4651.jpeg',\n",
       " '/home/aekanun/input/chest_xray/train/PNEUMONIA/person352_bacteria_1625.jpeg',\n",
       " '/home/aekanun/input/chest_xray/train/PNEUMONIA/person504_bacteria_2127.jpeg',\n",
       " '/home/aekanun/input/chest_xray/train/PNEUMONIA/person800_bacteria_2706.jpeg',\n",
       " '/home/aekanun/input/chest_xray/train/PNEUMONIA/person967_bacteria_2892.jpeg',\n",
       " '/home/aekanun/input/chest_xray/train/PNEUMONIA/person1034_bacteria_2968.jpeg',\n",
       " '/home/aekanun/input/chest_xray/train/PNEUMONIA/person443_bacteria_1924.jpeg',\n",
       " '/home/aekanun/input/chest_xray/train/PNEUMONIA/person449_bacteria_1938.jpeg',\n",
       " '/home/aekanun/input/chest_xray/train/PNEUMONIA/person754_virus_1379.jpeg',\n",
       " '/home/aekanun/input/chest_xray/train/PNEUMONIA/person294_virus_611.jpeg',\n",
       " '/home/aekanun/input/chest_xray/train/PNEUMONIA/person281_bacteria_1328.jpeg',\n",
       " '/home/aekanun/input/chest_xray/train/PNEUMONIA/person1636_bacteria_4337.jpeg',\n",
       " '/home/aekanun/input/chest_xray/train/PNEUMONIA/person253_bacteria_1157.jpeg',\n",
       " '/home/aekanun/input/chest_xray/train/PNEUMONIA/person328_bacteria_1515.jpeg',\n",
       " '/home/aekanun/input/chest_xray/train/PNEUMONIA/person1445_bacteria_3735.jpeg',\n",
       " '/home/aekanun/input/chest_xray/train/PNEUMONIA/person1113_virus_1838.jpeg',\n",
       " '/home/aekanun/input/chest_xray/train/PNEUMONIA/person1065_virus_1768.jpeg',\n",
       " '/home/aekanun/input/chest_xray/train/PNEUMONIA/person548_bacteria_2299.jpeg',\n",
       " '/home/aekanun/input/chest_xray/train/PNEUMONIA/person1161_virus_1948.jpeg',\n",
       " '/home/aekanun/input/chest_xray/train/PNEUMONIA/person1308_virus_2253.jpeg',\n",
       " '/home/aekanun/input/chest_xray/train/PNEUMONIA/person661_bacteria_2553.jpeg',\n",
       " '/home/aekanun/input/chest_xray/train/PNEUMONIA/person965_bacteria_2890.jpeg',\n",
       " '/home/aekanun/input/chest_xray/train/PNEUMONIA/person1031_virus_1723.jpeg',\n",
       " '/home/aekanun/input/chest_xray/train/PNEUMONIA/person9_bacteria_41.jpeg',\n",
       " '/home/aekanun/input/chest_xray/train/PNEUMONIA/person540_bacteria_2273.jpeg',\n",
       " '/home/aekanun/input/chest_xray/train/PNEUMONIA/person976_virus_1651.jpeg',\n",
       " '/home/aekanun/input/chest_xray/train/PNEUMONIA/person363_virus_742.jpeg',\n",
       " '/home/aekanun/input/chest_xray/train/PNEUMONIA/person1598_bacteria_4198.jpeg',\n",
       " '/home/aekanun/input/chest_xray/train/PNEUMONIA/person681_bacteria_2576.jpeg',\n",
       " '/home/aekanun/input/chest_xray/train/PNEUMONIA/person349_bacteria_1606.jpeg',\n",
       " '/home/aekanun/input/chest_xray/train/PNEUMONIA/person2_bacteria_3.jpeg',\n",
       " '/home/aekanun/input/chest_xray/train/PNEUMONIA/person1447_bacteria_3741.jpeg',\n",
       " '/home/aekanun/input/chest_xray/train/PNEUMONIA/person1561_bacteria_4077.jpeg',\n",
       " '/home/aekanun/input/chest_xray/train/PNEUMONIA/person609_bacteria_2474.jpeg',\n",
       " '/home/aekanun/input/chest_xray/train/PNEUMONIA/person470_bacteria_2002.jpeg',\n",
       " '/home/aekanun/input/chest_xray/train/PNEUMONIA/person1546_bacteria_4044.jpeg',\n",
       " '/home/aekanun/input/chest_xray/train/PNEUMONIA/person76_bacteria_372.jpeg',\n",
       " '/home/aekanun/input/chest_xray/train/PNEUMONIA/person647_virus_1228.jpeg',\n",
       " '/home/aekanun/input/chest_xray/train/PNEUMONIA/person1087_bacteria_3027.jpeg',\n",
       " '/home/aekanun/input/chest_xray/train/PNEUMONIA/person789_virus_1420.jpeg',\n",
       " '/home/aekanun/input/chest_xray/train/PNEUMONIA/person109_virus_203.jpeg',\n",
       " '/home/aekanun/input/chest_xray/train/PNEUMONIA/person1540_bacteria_4023.jpeg',\n",
       " '/home/aekanun/input/chest_xray/train/PNEUMONIA/person859_virus_1504.jpeg',\n",
       " '/home/aekanun/input/chest_xray/train/PNEUMONIA/person465_bacteria_1979.jpeg',\n",
       " '/home/aekanun/input/chest_xray/train/PNEUMONIA/person1940_bacteria_4862.jpeg',\n",
       " '/home/aekanun/input/chest_xray/train/PNEUMONIA/person423_bacteria_1858.jpeg',\n",
       " '/home/aekanun/input/chest_xray/train/PNEUMONIA/person1257_bacteria_3215.jpeg',\n",
       " '/home/aekanun/input/chest_xray/train/PNEUMONIA/person1707_bacteria_4520.jpeg',\n",
       " '/home/aekanun/input/chest_xray/train/PNEUMONIA/person1308_bacteria_3286.jpeg',\n",
       " '/home/aekanun/input/chest_xray/train/PNEUMONIA/person1261_virus_2145.jpeg',\n",
       " '/home/aekanun/input/chest_xray/train/PNEUMONIA/person162_virus_321.jpeg',\n",
       " '/home/aekanun/input/chest_xray/train/PNEUMONIA/person1896_bacteria_4788.jpeg',\n",
       " '/home/aekanun/input/chest_xray/train/PNEUMONIA/person325_bacteria_1497.jpeg',\n",
       " '/home/aekanun/input/chest_xray/train/PNEUMONIA/person274_bacteria_1288.jpeg',\n",
       " '/home/aekanun/input/chest_xray/train/PNEUMONIA/person1689_bacteria_4473.jpeg',\n",
       " '/home/aekanun/input/chest_xray/train/PNEUMONIA/person255_bacteria_1161.jpeg',\n",
       " '/home/aekanun/input/chest_xray/train/PNEUMONIA/person1718_bacteria_4538.jpeg',\n",
       " '/home/aekanun/input/chest_xray/train/PNEUMONIA/person276_virus_569.jpeg',\n",
       " '/home/aekanun/input/chest_xray/train/PNEUMONIA/person862_virus_1507.jpeg',\n",
       " '/home/aekanun/input/chest_xray/train/PNEUMONIA/person564_bacteria_2345.jpeg',\n",
       " '/home/aekanun/input/chest_xray/train/PNEUMONIA/person1525_virus_2659.jpeg',\n",
       " '/home/aekanun/input/chest_xray/train/PNEUMONIA/person1403_bacteria_3559.jpeg',\n",
       " '/home/aekanun/input/chest_xray/train/PNEUMONIA/person1239_bacteria_3195.jpeg',\n",
       " '/home/aekanun/input/chest_xray/train/PNEUMONIA/person1455_virus_2489.jpeg',\n",
       " '/home/aekanun/input/chest_xray/train/PNEUMONIA/person1112_virus_1837.jpeg',\n",
       " '/home/aekanun/input/chest_xray/train/PNEUMONIA/person40_bacteria_204.jpeg',\n",
       " '/home/aekanun/input/chest_xray/train/PNEUMONIA/person28_bacteria_139.jpeg',\n",
       " '/home/aekanun/input/chest_xray/train/PNEUMONIA/person1323_bacteria_3363.jpeg',\n",
       " '/home/aekanun/input/chest_xray/train/PNEUMONIA/person154_virus_305.jpeg',\n",
       " '/home/aekanun/input/chest_xray/train/PNEUMONIA/person575_bacteria_2374.jpeg',\n",
       " '/home/aekanun/input/chest_xray/train/PNEUMONIA/person310_bacteria_1451.jpeg',\n",
       " '/home/aekanun/input/chest_xray/train/PNEUMONIA/person476_virus_973.jpeg',\n",
       " '/home/aekanun/input/chest_xray/train/PNEUMONIA/person1059_virus_1758.jpeg',\n",
       " '/home/aekanun/input/chest_xray/train/PNEUMONIA/person1351_virus_2330.jpeg',\n",
       " '/home/aekanun/input/chest_xray/train/PNEUMONIA/person557_virus_1097.jpeg',\n",
       " '/home/aekanun/input/chest_xray/train/PNEUMONIA/person1663_bacteria_4411.jpeg',\n",
       " '/home/aekanun/input/chest_xray/train/PNEUMONIA/person567_bacteria_2354.jpeg',\n",
       " '/home/aekanun/input/chest_xray/train/PNEUMONIA/person720_virus_1339.jpeg',\n",
       " '/home/aekanun/input/chest_xray/train/PNEUMONIA/person331_bacteria_1528.jpeg',\n",
       " '/home/aekanun/input/chest_xray/train/PNEUMONIA/person1357_virus_2338.jpeg',\n",
       " '/home/aekanun/input/chest_xray/train/PNEUMONIA/person1628_bacteria_4297.jpeg',\n",
       " '/home/aekanun/input/chest_xray/train/PNEUMONIA/person68_bacteria_335.jpeg',\n",
       " '/home/aekanun/input/chest_xray/train/PNEUMONIA/person641_bacteria_2533.jpeg',\n",
       " '/home/aekanun/input/chest_xray/train/PNEUMONIA/person1483_virus_2574.jpeg',\n",
       " '/home/aekanun/input/chest_xray/train/PNEUMONIA/person533_bacteria_2250.jpeg',\n",
       " '/home/aekanun/input/chest_xray/train/PNEUMONIA/person1568_virus_2723.jpeg',\n",
       " '/home/aekanun/input/chest_xray/train/PNEUMONIA/person451_bacteria_1942.jpeg',\n",
       " '/home/aekanun/input/chest_xray/train/PNEUMONIA/person955_bacteria_2880.jpeg',\n",
       " '/home/aekanun/input/chest_xray/train/PNEUMONIA/person968_virus_1642.jpeg',\n",
       " '/home/aekanun/input/chest_xray/train/PNEUMONIA/person3_bacteria_11.jpeg',\n",
       " '/home/aekanun/input/chest_xray/train/PNEUMONIA/person445_virus_915.jpeg',\n",
       " '/home/aekanun/input/chest_xray/train/PNEUMONIA/person25_bacteria_117.jpeg',\n",
       " '/home/aekanun/input/chest_xray/train/PNEUMONIA/person16_bacteria_55.jpeg',\n",
       " '/home/aekanun/input/chest_xray/train/PNEUMONIA/person255_bacteria_1165.jpeg',\n",
       " '/home/aekanun/input/chest_xray/train/PNEUMONIA/person1108_virus_1833.jpeg',\n",
       " '/home/aekanun/input/chest_xray/train/PNEUMONIA/person1528_virus_2662.jpeg',\n",
       " '/home/aekanun/input/chest_xray/train/PNEUMONIA/person1010_virus_1695.jpeg',\n",
       " '/home/aekanun/input/chest_xray/train/PNEUMONIA/person491_bacteria_2071.jpeg',\n",
       " '/home/aekanun/input/chest_xray/train/PNEUMONIA/person40_bacteria_202.jpeg',\n",
       " '/home/aekanun/input/chest_xray/train/PNEUMONIA/person1274_virus_2193.jpeg',\n",
       " '/home/aekanun/input/chest_xray/train/PNEUMONIA/person875_bacteria_2798.jpeg',\n",
       " '/home/aekanun/input/chest_xray/train/PNEUMONIA/person93_virus_175.jpeg',\n",
       " '/home/aekanun/input/chest_xray/train/PNEUMONIA/person1393_virus_2396.jpeg',\n",
       " '/home/aekanun/input/chest_xray/train/PNEUMONIA/person1494_bacteria_3901.jpeg',\n",
       " '/home/aekanun/input/chest_xray/train/PNEUMONIA/person1141_bacteria_3084.jpeg',\n",
       " '/home/aekanun/input/chest_xray/train/PNEUMONIA/person41_bacteria_208.jpeg',\n",
       " '/home/aekanun/input/chest_xray/train/PNEUMONIA/person1610_bacteria_4240.jpeg',\n",
       " '/home/aekanun/input/chest_xray/train/PNEUMONIA/person629_bacteria_2506.jpeg',\n",
       " '/home/aekanun/input/chest_xray/train/PNEUMONIA/person1669_bacteria_4423.jpeg',\n",
       " '/home/aekanun/input/chest_xray/train/PNEUMONIA/person1562_bacteria_4081.jpeg',\n",
       " '/home/aekanun/input/chest_xray/train/PNEUMONIA/person23_bacteria_107.jpeg',\n",
       " '/home/aekanun/input/chest_xray/train/PNEUMONIA/person544_virus_1080.jpeg',\n",
       " '/home/aekanun/input/chest_xray/train/PNEUMONIA/person699_virus_1295.jpeg',\n",
       " '/home/aekanun/input/chest_xray/train/PNEUMONIA/person806_virus_1440.jpeg',\n",
       " '/home/aekanun/input/chest_xray/train/PNEUMONIA/person1183_bacteria_3131.jpeg',\n",
       " '/home/aekanun/input/chest_xray/train/PNEUMONIA/person1097_bacteria_3038.jpeg',\n",
       " '/home/aekanun/input/chest_xray/train/PNEUMONIA/person1170_bacteria_3117.jpeg',\n",
       " '/home/aekanun/input/chest_xray/train/PNEUMONIA/person1177_bacteria_3125.jpeg',\n",
       " '/home/aekanun/input/chest_xray/train/PNEUMONIA/person124_virus_239.jpeg',\n",
       " '/home/aekanun/input/chest_xray/train/PNEUMONIA/person1157_virus_1937.jpeg',\n",
       " '/home/aekanun/input/chest_xray/train/PNEUMONIA/person1449_bacteria_3746.jpeg',\n",
       " '/home/aekanun/input/chest_xray/train/PNEUMONIA/person1481_bacteria_3867.jpeg',\n",
       " '/home/aekanun/input/chest_xray/train/PNEUMONIA/person651_bacteria_2543.jpeg',\n",
       " '/home/aekanun/input/chest_xray/train/PNEUMONIA/person441_bacteria_1902.jpeg',\n",
       " '/home/aekanun/input/chest_xray/train/PNEUMONIA/person1328_bacteria_3376.jpeg',\n",
       " '/home/aekanun/input/chest_xray/train/PNEUMONIA/person1273_bacteria_3233.jpeg',\n",
       " '/home/aekanun/input/chest_xray/train/PNEUMONIA/person581_bacteria_2393.jpeg',\n",
       " '/home/aekanun/input/chest_xray/train/PNEUMONIA/person841_bacteria_2761.jpeg',\n",
       " '/home/aekanun/input/chest_xray/train/PNEUMONIA/person1616_bacteria_4251.jpeg',\n",
       " '/home/aekanun/input/chest_xray/train/PNEUMONIA/person724_virus_1344.jpeg',\n",
       " '/home/aekanun/input/chest_xray/train/PNEUMONIA/person1136_bacteria_3078.jpeg',\n",
       " '/home/aekanun/input/chest_xray/train/PNEUMONIA/person589_bacteria_2425.jpeg',\n",
       " '/home/aekanun/input/chest_xray/train/PNEUMONIA/person945_virus_1616.jpeg',\n",
       " '/home/aekanun/input/chest_xray/train/PNEUMONIA/person890_bacteria_2814.jpeg',\n",
       " '/home/aekanun/input/chest_xray/train/PNEUMONIA/person1248_virus_2117.jpeg',\n",
       " '/home/aekanun/input/chest_xray/train/PNEUMONIA/person376_bacteria_1715.jpeg',\n",
       " '/home/aekanun/input/chest_xray/train/PNEUMONIA/person1597_bacteria_4189.jpeg',\n",
       " '/home/aekanun/input/chest_xray/train/PNEUMONIA/person349_virus_724.jpeg',\n",
       " '/home/aekanun/input/chest_xray/train/PNEUMONIA/person1574_bacteria_4118.jpeg',\n",
       " '/home/aekanun/input/chest_xray/train/PNEUMONIA/person23_bacteria_101.jpeg',\n",
       " '/home/aekanun/input/chest_xray/train/PNEUMONIA/person1491_bacteria_3893.jpeg',\n",
       " '/home/aekanun/input/chest_xray/train/PNEUMONIA/person8_bacteria_37.jpeg',\n",
       " '/home/aekanun/input/chest_xray/train/PNEUMONIA/person1242_virus_2108.jpeg',\n",
       " '/home/aekanun/input/chest_xray/train/PNEUMONIA/person661_virus_1245.jpeg',\n",
       " '/home/aekanun/input/chest_xray/train/PNEUMONIA/person277_bacteria_1304.jpeg',\n",
       " '/home/aekanun/input/chest_xray/train/PNEUMONIA/person1139_virus_1882.jpeg',\n",
       " '/home/aekanun/input/chest_xray/train/PNEUMONIA/person1318_bacteria_3335.jpeg',\n",
       " '/home/aekanun/input/chest_xray/train/PNEUMONIA/person1121_virus_1846.jpeg',\n",
       " '/home/aekanun/input/chest_xray/train/PNEUMONIA/person1903_bacteria_4797.jpeg',\n",
       " '/home/aekanun/input/chest_xray/train/PNEUMONIA/person847_bacteria_2767.jpeg',\n",
       " '/home/aekanun/input/chest_xray/train/PNEUMONIA/person493_bacteria_2086.jpeg',\n",
       " '/home/aekanun/input/chest_xray/train/PNEUMONIA/person487_bacteria_2060.jpeg',\n",
       " '/home/aekanun/input/chest_xray/train/PNEUMONIA/person75_bacteria_365.jpeg',\n",
       " '/home/aekanun/input/chest_xray/train/PNEUMONIA/person287_bacteria_1354.jpeg',\n",
       " '/home/aekanun/input/chest_xray/train/PNEUMONIA/person1453_bacteria_3772.jpeg',\n",
       " '/home/aekanun/input/chest_xray/train/PNEUMONIA/person1745_bacteria_4584.jpeg',\n",
       " '/home/aekanun/input/chest_xray/train/PNEUMONIA/person1689_bacteria_4474.jpeg',\n",
       " '/home/aekanun/input/chest_xray/train/PNEUMONIA/person664_virus_1249.jpeg',\n",
       " '/home/aekanun/input/chest_xray/train/PNEUMONIA/person974_virus_1649.jpeg',\n",
       " '/home/aekanun/input/chest_xray/train/PNEUMONIA/person23_bacteria_79.jpeg',\n",
       " '/home/aekanun/input/chest_xray/train/PNEUMONIA/person294_virus_606.jpeg',\n",
       " '/home/aekanun/input/chest_xray/train/PNEUMONIA/person1648_bacteria_4376.jpeg',\n",
       " '/home/aekanun/input/chest_xray/train/PNEUMONIA/person276_bacteria_1298.jpeg',\n",
       " '/home/aekanun/input/chest_xray/train/PNEUMONIA/person341_bacteria_1577.jpeg',\n",
       " '/home/aekanun/input/chest_xray/train/PNEUMONIA/person402_bacteria_1811.jpeg',\n",
       " '/home/aekanun/input/chest_xray/train/PNEUMONIA/person1716_bacteria_4533.jpeg',\n",
       " '/home/aekanun/input/chest_xray/train/PNEUMONIA/person519_virus_1038.jpeg',\n",
       " '/home/aekanun/input/chest_xray/train/PNEUMONIA/person1411_bacteria_3593.jpeg',\n",
       " ...]"
      ]
     },
     "execution_count": 11,
     "metadata": {},
     "output_type": "execute_result"
    }
   ],
   "source": [
    "img"
   ]
  },
  {
   "cell_type": "code",
   "execution_count": 12,
   "metadata": {
    "collapsed": true
   },
   "outputs": [],
   "source": [
    "img = np.asarray(plt.imread(img[0]))"
   ]
  },
  {
   "cell_type": "code",
   "execution_count": 13,
   "metadata": {},
   "outputs": [
    {
     "data": {
      "text/plain": [
       "'module://ipykernel.pylab.backend_inline'"
      ]
     },
     "execution_count": 13,
     "metadata": {},
     "output_type": "execute_result"
    }
   ],
   "source": [
    "plt.get_backend()"
   ]
  },
  {
   "cell_type": "code",
   "execution_count": 14,
   "metadata": {},
   "outputs": [
    {
     "data": {
      "text/plain": [
       "<matplotlib.image.AxesImage at 0x7f6d148bd748>"
      ]
     },
     "execution_count": 14,
     "metadata": {},
     "output_type": "execute_result"
    }
   ],
   "source": [
    "plt.imshow(img)"
   ]
  },
  {
   "cell_type": "code",
   "execution_count": 15,
   "metadata": {},
   "outputs": [
    {
     "data": {
      "image/png": "[encoded data removed]",
      "text/plain": [
       "<matplotlib.figure.Figure at 0x7f6d3e8cceb8>"
      ]
     },
     "metadata": {},
     "output_type": "display_data"
    }
   ],
   "source": [
    "plt.show()"
   ]
  },
  {
   "cell_type": "code",
   "execution_count": 16,
   "metadata": {},
   "outputs": [
    {
     "data": {
      "text/plain": [
       "(347, 607, 3)"
      ]
     },
     "execution_count": 16,
     "metadata": {},
     "output_type": "execute_result"
    }
   ],
   "source": [
    "img.shape"
   ]
  },
  {
   "cell_type": "code",
   "execution_count": 17,
   "metadata": {
    "collapsed": true
   },
   "outputs": [],
   "source": [
    "img = glob(path_train+\"/NORMAL/*.jpeg\") #Getting all images in this folder"
   ]
  },
  {
   "cell_type": "code",
   "execution_count": 18,
   "metadata": {
    "collapsed": true
   },
   "outputs": [],
   "source": [
    "img = np.asarray(plt.imread(img[0]))"
   ]
  },
  {
   "cell_type": "code",
   "execution_count": 19,
   "metadata": {},
   "outputs": [
    {
     "data": {
      "text/plain": [
       "<matplotlib.image.AxesImage at 0x7f6d147af898>"
      ]
     },
     "execution_count": 19,
     "metadata": {},
     "output_type": "execute_result"
    }
   ],
   "source": [
    "plt.imshow(img)"
   ]
  },
  {
   "cell_type": "code",
   "execution_count": 20,
   "metadata": {},
   "outputs": [
    {
     "data": {
      "image/png": "[encoded data removed]",
      "text/plain": [
       "<matplotlib.figure.Figure at 0x7f6d14824438>"
      ]
     },
     "metadata": {},
     "output_type": "display_data"
    }
   ],
   "source": [
    "plt.show()"
   ]
  },
  {
   "cell_type": "code",
   "execution_count": 21,
   "metadata": {},
   "outputs": [
    {
     "data": {
      "text/plain": [
       "(1062, 1350)"
      ]
     },
     "execution_count": 21,
     "metadata": {},
     "output_type": "execute_result"
    }
   ],
   "source": [
    "img.shape"
   ]
  },
  {
   "cell_type": "code",
   "execution_count": null,
   "metadata": {
    "collapsed": true
   },
   "outputs": [],
   "source": []
  },
  {
   "cell_type": "code",
   "execution_count": null,
   "metadata": {
    "collapsed": true
   },
   "outputs": [],
   "source": []
  },
  {
   "cell_type": "code",
   "execution_count": 22,
   "metadata": {
    "collapsed": true
   },
   "outputs": [],
   "source": [
    "from pyspark.serializers import PickleSerializer"
   ]
  },
  {
   "cell_type": "code",
   "execution_count": 23,
   "metadata": {
    "collapsed": true
   },
   "outputs": [],
   "source": [
    "spark = SparkSession.builder.master(\"yarn\").appName(\"AppName\").\\\n",
    "config(\"spark.serializer\",\"PickleSerializer\").\\\n",
    "config(\"spark.driver.maxResultSize\", \"7g\").\\\n",
    "getOrCreate()"
   ]
  },
  {
   "cell_type": "raw",
   "metadata": {},
   "source": [
    "! curl -O http://download.tensorflow.org/example_images/flower_photos.tgz\n",
    "! tar xzf flower_photos.tgz &>/dev/null"
   ]
  },
  {
   "cell_type": "code",
   "execution_count": 24,
   "metadata": {
    "collapsed": true
   },
   "outputs": [],
   "source": [
    "normal_files = !ls /home/aekanun/input/chest_xray/train/NORMAL/*.jpeg"
   ]
  },
  {
   "cell_type": "code",
   "execution_count": 25,
   "metadata": {
    "collapsed": true
   },
   "outputs": [],
   "source": [
    "pneumonia_files = !ls /home/aekanun/input/chest_xray/train/PNEUMONIA/*.jpeg"
   ]
  },
  {
   "cell_type": "code",
   "execution_count": 26,
   "metadata": {},
   "outputs": [
    {
     "data": {
      "text/plain": [
       "['/home/aekanun/input/chest_xray/train/NORMAL/IM-0115-0001.jpeg',\n",
       " '/home/aekanun/input/chest_xray/train/NORMAL/IM-0117-0001.jpeg',\n",
       " '/home/aekanun/input/chest_xray/train/NORMAL/IM-0119-0001.jpeg',\n",
       " '/home/aekanun/input/chest_xray/train/NORMAL/IM-0122-0001.jpeg',\n",
       " '/home/aekanun/input/chest_xray/train/NORMAL/IM-0125-0001.jpeg',\n",
       " '/home/aekanun/input/chest_xray/train/NORMAL/IM-0127-0001.jpeg',\n",
       " '/home/aekanun/input/chest_xray/train/NORMAL/IM-0128-0001.jpeg',\n",
       " '/home/aekanun/input/chest_xray/train/NORMAL/IM-0129-0001.jpeg',\n",
       " '/home/aekanun/input/chest_xray/train/NORMAL/IM-0131-0001.jpeg',\n",
       " '/home/aekanun/input/chest_xray/train/NORMAL/IM-0133-0001.jpeg',\n",
       " '/home/aekanun/input/chest_xray/train/NORMAL/IM-0135-0001.jpeg',\n",
       " '/home/aekanun/input/chest_xray/train/NORMAL/IM-0137-0001.jpeg',\n",
       " '/home/aekanun/input/chest_xray/train/NORMAL/IM-0140-0001.jpeg',\n",
       " '/home/aekanun/input/chest_xray/train/NORMAL/IM-0141-0001.jpeg',\n",
       " '/home/aekanun/input/chest_xray/train/NORMAL/IM-0143-0001.jpeg',\n",
       " '/home/aekanun/input/chest_xray/train/NORMAL/IM-0145-0001.jpeg',\n",
       " '/home/aekanun/input/chest_xray/train/NORMAL/IM-0147-0001.jpeg',\n",
       " '/home/aekanun/input/chest_xray/train/NORMAL/IM-0149-0001.jpeg',\n",
       " '/home/aekanun/input/chest_xray/train/NORMAL/IM-0151-0001.jpeg',\n",
       " '/home/aekanun/input/chest_xray/train/NORMAL/IM-0152-0001.jpeg',\n",
       " '/home/aekanun/input/chest_xray/train/NORMAL/IM-0154-0001.jpeg',\n",
       " '/home/aekanun/input/chest_xray/train/NORMAL/IM-0156-0001.jpeg',\n",
       " '/home/aekanun/input/chest_xray/train/NORMAL/IM-0158-0001.jpeg',\n",
       " '/home/aekanun/input/chest_xray/train/NORMAL/IM-0160-0001.jpeg',\n",
       " '/home/aekanun/input/chest_xray/train/NORMAL/IM-0162-0001.jpeg',\n",
       " '/home/aekanun/input/chest_xray/train/NORMAL/IM-0164-0001.jpeg',\n",
       " '/home/aekanun/input/chest_xray/train/NORMAL/IM-0166-0001.jpeg',\n",
       " '/home/aekanun/input/chest_xray/train/NORMAL/IM-0168-0001.jpeg',\n",
       " '/home/aekanun/input/chest_xray/train/NORMAL/IM-0170-0001.jpeg',\n",
       " '/home/aekanun/input/chest_xray/train/NORMAL/IM-0172-0001.jpeg',\n",
       " '/home/aekanun/input/chest_xray/train/NORMAL/IM-0176-0001.jpeg',\n",
       " '/home/aekanun/input/chest_xray/train/NORMAL/IM-0177-0001.jpeg',\n",
       " '/home/aekanun/input/chest_xray/train/NORMAL/IM-0178-0001.jpeg',\n",
       " '/home/aekanun/input/chest_xray/train/NORMAL/IM-0180-0001.jpeg',\n",
       " '/home/aekanun/input/chest_xray/train/NORMAL/IM-0182-0001.jpeg',\n",
       " '/home/aekanun/input/chest_xray/train/NORMAL/IM-0183-0001.jpeg',\n",
       " '/home/aekanun/input/chest_xray/train/NORMAL/IM-0185-0001.jpeg',\n",
       " '/home/aekanun/input/chest_xray/train/NORMAL/IM-0187-0001.jpeg',\n",
       " '/home/aekanun/input/chest_xray/train/NORMAL/IM-0189-0001.jpeg',\n",
       " '/home/aekanun/input/chest_xray/train/NORMAL/IM-0191-0001.jpeg',\n",
       " '/home/aekanun/input/chest_xray/train/NORMAL/IM-0193-0001.jpeg',\n",
       " '/home/aekanun/input/chest_xray/train/NORMAL/IM-0195-0001.jpeg',\n",
       " '/home/aekanun/input/chest_xray/train/NORMAL/IM-0199-0001.jpeg',\n",
       " '/home/aekanun/input/chest_xray/train/NORMAL/IM-0201-0001.jpeg',\n",
       " '/home/aekanun/input/chest_xray/train/NORMAL/IM-0203-0001.jpeg',\n",
       " '/home/aekanun/input/chest_xray/train/NORMAL/IM-0205-0001.jpeg',\n",
       " '/home/aekanun/input/chest_xray/train/NORMAL/IM-0206-0001.jpeg',\n",
       " '/home/aekanun/input/chest_xray/train/NORMAL/IM-0207-0001.jpeg',\n",
       " '/home/aekanun/input/chest_xray/train/NORMAL/IM-0209-0001.jpeg',\n",
       " '/home/aekanun/input/chest_xray/train/NORMAL/IM-0210-0001.jpeg',\n",
       " '/home/aekanun/input/chest_xray/train/NORMAL/IM-0211-0001.jpeg',\n",
       " '/home/aekanun/input/chest_xray/train/NORMAL/IM-0213-0001.jpeg',\n",
       " '/home/aekanun/input/chest_xray/train/NORMAL/IM-0214-0001.jpeg',\n",
       " '/home/aekanun/input/chest_xray/train/NORMAL/IM-0215-0001.jpeg',\n",
       " '/home/aekanun/input/chest_xray/train/NORMAL/IM-0216-0001.jpeg',\n",
       " '/home/aekanun/input/chest_xray/train/NORMAL/IM-0217-0001.jpeg',\n",
       " '/home/aekanun/input/chest_xray/train/NORMAL/IM-0218-0001.jpeg',\n",
       " '/home/aekanun/input/chest_xray/train/NORMAL/IM-0219-0001.jpeg',\n",
       " '/home/aekanun/input/chest_xray/train/NORMAL/IM-0220-0001.jpeg',\n",
       " '/home/aekanun/input/chest_xray/train/NORMAL/IM-0221-0001.jpeg',\n",
       " '/home/aekanun/input/chest_xray/train/NORMAL/IM-0222-0001.jpeg',\n",
       " '/home/aekanun/input/chest_xray/train/NORMAL/IM-0223-0001.jpeg',\n",
       " '/home/aekanun/input/chest_xray/train/NORMAL/IM-0224-0001.jpeg',\n",
       " '/home/aekanun/input/chest_xray/train/NORMAL/IM-0225-0001.jpeg',\n",
       " '/home/aekanun/input/chest_xray/train/NORMAL/IM-0226-0001.jpeg',\n",
       " '/home/aekanun/input/chest_xray/train/NORMAL/IM-0227-0001.jpeg',\n",
       " '/home/aekanun/input/chest_xray/train/NORMAL/IM-0228-0001.jpeg',\n",
       " '/home/aekanun/input/chest_xray/train/NORMAL/IM-0229-0001.jpeg',\n",
       " '/home/aekanun/input/chest_xray/train/NORMAL/IM-0230-0001.jpeg',\n",
       " '/home/aekanun/input/chest_xray/train/NORMAL/IM-0231-0001.jpeg',\n",
       " '/home/aekanun/input/chest_xray/train/NORMAL/IM-0234-0001.jpeg',\n",
       " '/home/aekanun/input/chest_xray/train/NORMAL/IM-0235-0001.jpeg',\n",
       " '/home/aekanun/input/chest_xray/train/NORMAL/IM-0236-0001.jpeg',\n",
       " '/home/aekanun/input/chest_xray/train/NORMAL/IM-0237-0001.jpeg',\n",
       " '/home/aekanun/input/chest_xray/train/NORMAL/IM-0238-0001.jpeg',\n",
       " '/home/aekanun/input/chest_xray/train/NORMAL/IM-0239-0001.jpeg',\n",
       " '/home/aekanun/input/chest_xray/train/NORMAL/IM-0240-0001.jpeg',\n",
       " '/home/aekanun/input/chest_xray/train/NORMAL/IM-0241-0001.jpeg',\n",
       " '/home/aekanun/input/chest_xray/train/NORMAL/IM-0242-0001.jpeg',\n",
       " '/home/aekanun/input/chest_xray/train/NORMAL/IM-0243-0001.jpeg',\n",
       " '/home/aekanun/input/chest_xray/train/NORMAL/IM-0244-0001.jpeg',\n",
       " '/home/aekanun/input/chest_xray/train/NORMAL/IM-0245-0001.jpeg',\n",
       " '/home/aekanun/input/chest_xray/train/NORMAL/IM-0248-0001.jpeg',\n",
       " '/home/aekanun/input/chest_xray/train/NORMAL/IM-0249-0001.jpeg',\n",
       " '/home/aekanun/input/chest_xray/train/NORMAL/IM-0250-0001.jpeg',\n",
       " '/home/aekanun/input/chest_xray/train/NORMAL/IM-0251-0001.jpeg',\n",
       " '/home/aekanun/input/chest_xray/train/NORMAL/IM-0253-0001.jpeg',\n",
       " '/home/aekanun/input/chest_xray/train/NORMAL/IM-0255-0001.jpeg',\n",
       " '/home/aekanun/input/chest_xray/train/NORMAL/IM-0256-0001.jpeg',\n",
       " '/home/aekanun/input/chest_xray/train/NORMAL/IM-0257-0001.jpeg',\n",
       " '/home/aekanun/input/chest_xray/train/NORMAL/IM-0261-0001.jpeg',\n",
       " '/home/aekanun/input/chest_xray/train/NORMAL/IM-0262-0001.jpeg',\n",
       " '/home/aekanun/input/chest_xray/train/NORMAL/IM-0264-0001.jpeg',\n",
       " '/home/aekanun/input/chest_xray/train/NORMAL/IM-0265-0001.jpeg',\n",
       " '/home/aekanun/input/chest_xray/train/NORMAL/IM-0266-0001.jpeg',\n",
       " '/home/aekanun/input/chest_xray/train/NORMAL/IM-0268-0001.jpeg',\n",
       " '/home/aekanun/input/chest_xray/train/NORMAL/IM-0269-0001.jpeg',\n",
       " '/home/aekanun/input/chest_xray/train/NORMAL/IM-0270-0001.jpeg',\n",
       " '/home/aekanun/input/chest_xray/train/NORMAL/IM-0272-0001.jpeg',\n",
       " '/home/aekanun/input/chest_xray/train/NORMAL/IM-0273-0001.jpeg',\n",
       " '/home/aekanun/input/chest_xray/train/NORMAL/IM-0274-0001.jpeg',\n",
       " '/home/aekanun/input/chest_xray/train/NORMAL/IM-0275-0001.jpeg',\n",
       " '/home/aekanun/input/chest_xray/train/NORMAL/IM-0276-0001.jpeg',\n",
       " '/home/aekanun/input/chest_xray/train/NORMAL/IM-0277-0001.jpeg',\n",
       " '/home/aekanun/input/chest_xray/train/NORMAL/IM-0278-0001.jpeg',\n",
       " '/home/aekanun/input/chest_xray/train/NORMAL/IM-0279-0001.jpeg',\n",
       " '/home/aekanun/input/chest_xray/train/NORMAL/IM-0280-0001.jpeg',\n",
       " '/home/aekanun/input/chest_xray/train/NORMAL/IM-0282-0001.jpeg',\n",
       " '/home/aekanun/input/chest_xray/train/NORMAL/IM-0283-0001.jpeg',\n",
       " '/home/aekanun/input/chest_xray/train/NORMAL/IM-0285-0001.jpeg',\n",
       " '/home/aekanun/input/chest_xray/train/NORMAL/IM-0286-0001.jpeg',\n",
       " '/home/aekanun/input/chest_xray/train/NORMAL/IM-0288-0001.jpeg',\n",
       " '/home/aekanun/input/chest_xray/train/NORMAL/IM-0289-0001.jpeg',\n",
       " '/home/aekanun/input/chest_xray/train/NORMAL/IM-0290-0001.jpeg',\n",
       " '/home/aekanun/input/chest_xray/train/NORMAL/IM-0291-0001.jpeg',\n",
       " '/home/aekanun/input/chest_xray/train/NORMAL/IM-0292-0001.jpeg',\n",
       " '/home/aekanun/input/chest_xray/train/NORMAL/IM-0293-0001.jpeg',\n",
       " '/home/aekanun/input/chest_xray/train/NORMAL/IM-0294-0001.jpeg',\n",
       " '/home/aekanun/input/chest_xray/train/NORMAL/IM-0295-0001.jpeg',\n",
       " '/home/aekanun/input/chest_xray/train/NORMAL/IM-0297-0001.jpeg',\n",
       " '/home/aekanun/input/chest_xray/train/NORMAL/IM-0298-0001.jpeg',\n",
       " '/home/aekanun/input/chest_xray/train/NORMAL/IM-0299-0001.jpeg',\n",
       " '/home/aekanun/input/chest_xray/train/NORMAL/IM-0300-0001.jpeg',\n",
       " '/home/aekanun/input/chest_xray/train/NORMAL/IM-0301-0001.jpeg',\n",
       " '/home/aekanun/input/chest_xray/train/NORMAL/IM-0302-0001.jpeg',\n",
       " '/home/aekanun/input/chest_xray/train/NORMAL/IM-0303-0001.jpeg',\n",
       " '/home/aekanun/input/chest_xray/train/NORMAL/IM-0304-0001.jpeg',\n",
       " '/home/aekanun/input/chest_xray/train/NORMAL/IM-0305-0001.jpeg',\n",
       " '/home/aekanun/input/chest_xray/train/NORMAL/IM-0306-0001.jpeg',\n",
       " '/home/aekanun/input/chest_xray/train/NORMAL/IM-0307-0001.jpeg',\n",
       " '/home/aekanun/input/chest_xray/train/NORMAL/IM-0308-0001.jpeg',\n",
       " '/home/aekanun/input/chest_xray/train/NORMAL/IM-0309-0001.jpeg',\n",
       " '/home/aekanun/input/chest_xray/train/NORMAL/IM-0311-0001.jpeg',\n",
       " '/home/aekanun/input/chest_xray/train/NORMAL/IM-0312-0001.jpeg',\n",
       " '/home/aekanun/input/chest_xray/train/NORMAL/IM-0313-0001.jpeg',\n",
       " '/home/aekanun/input/chest_xray/train/NORMAL/IM-0314-0001.jpeg',\n",
       " '/home/aekanun/input/chest_xray/train/NORMAL/IM-0315-0001.jpeg',\n",
       " '/home/aekanun/input/chest_xray/train/NORMAL/IM-0316-0001.jpeg',\n",
       " '/home/aekanun/input/chest_xray/train/NORMAL/IM-0317-0001.jpeg',\n",
       " '/home/aekanun/input/chest_xray/train/NORMAL/IM-0318-0001.jpeg',\n",
       " '/home/aekanun/input/chest_xray/train/NORMAL/IM-0319-0001.jpeg',\n",
       " '/home/aekanun/input/chest_xray/train/NORMAL/IM-0320-0001.jpeg',\n",
       " '/home/aekanun/input/chest_xray/train/NORMAL/IM-0323-0001.jpeg',\n",
       " '/home/aekanun/input/chest_xray/train/NORMAL/IM-0324-0001.jpeg',\n",
       " '/home/aekanun/input/chest_xray/train/NORMAL/IM-0325-0001.jpeg',\n",
       " '/home/aekanun/input/chest_xray/train/NORMAL/IM-0326-0001.jpeg',\n",
       " '/home/aekanun/input/chest_xray/train/NORMAL/IM-0327-0001.jpeg',\n",
       " '/home/aekanun/input/chest_xray/train/NORMAL/IM-0329-0001.jpeg',\n",
       " '/home/aekanun/input/chest_xray/train/NORMAL/IM-0330-0001.jpeg',\n",
       " '/home/aekanun/input/chest_xray/train/NORMAL/IM-0331-0001.jpeg',\n",
       " '/home/aekanun/input/chest_xray/train/NORMAL/IM-0332-0001.jpeg',\n",
       " '/home/aekanun/input/chest_xray/train/NORMAL/IM-0333-0001.jpeg',\n",
       " '/home/aekanun/input/chest_xray/train/NORMAL/IM-0335-0001.jpeg',\n",
       " '/home/aekanun/input/chest_xray/train/NORMAL/IM-0337-0001.jpeg',\n",
       " '/home/aekanun/input/chest_xray/train/NORMAL/IM-0338-0001.jpeg',\n",
       " '/home/aekanun/input/chest_xray/train/NORMAL/IM-0339-0001.jpeg',\n",
       " '/home/aekanun/input/chest_xray/train/NORMAL/IM-0340-0001.jpeg',\n",
       " '/home/aekanun/input/chest_xray/train/NORMAL/IM-0341-0001.jpeg',\n",
       " '/home/aekanun/input/chest_xray/train/NORMAL/IM-0343-0001.jpeg',\n",
       " '/home/aekanun/input/chest_xray/train/NORMAL/IM-0345-0001.jpeg',\n",
       " '/home/aekanun/input/chest_xray/train/NORMAL/IM-0346-0001.jpeg',\n",
       " '/home/aekanun/input/chest_xray/train/NORMAL/IM-0347-0001.jpeg',\n",
       " '/home/aekanun/input/chest_xray/train/NORMAL/IM-0348-0001.jpeg',\n",
       " '/home/aekanun/input/chest_xray/train/NORMAL/IM-0349-0001.jpeg',\n",
       " '/home/aekanun/input/chest_xray/train/NORMAL/IM-0350-0001.jpeg',\n",
       " '/home/aekanun/input/chest_xray/train/NORMAL/IM-0351-0001.jpeg',\n",
       " '/home/aekanun/input/chest_xray/train/NORMAL/IM-0353-0001.jpeg',\n",
       " '/home/aekanun/input/chest_xray/train/NORMAL/IM-0354-0001.jpeg',\n",
       " '/home/aekanun/input/chest_xray/train/NORMAL/IM-0355-0001.jpeg',\n",
       " '/home/aekanun/input/chest_xray/train/NORMAL/IM-0356-0001.jpeg',\n",
       " '/home/aekanun/input/chest_xray/train/NORMAL/IM-0357-0001.jpeg',\n",
       " '/home/aekanun/input/chest_xray/train/NORMAL/IM-0358-0001.jpeg',\n",
       " '/home/aekanun/input/chest_xray/train/NORMAL/IM-0359-0001.jpeg',\n",
       " '/home/aekanun/input/chest_xray/train/NORMAL/IM-0361-0001.jpeg',\n",
       " '/home/aekanun/input/chest_xray/train/NORMAL/IM-0362-0001.jpeg',\n",
       " '/home/aekanun/input/chest_xray/train/NORMAL/IM-0363-0001.jpeg',\n",
       " '/home/aekanun/input/chest_xray/train/NORMAL/IM-0364-0001.jpeg',\n",
       " '/home/aekanun/input/chest_xray/train/NORMAL/IM-0365-0001.jpeg',\n",
       " '/home/aekanun/input/chest_xray/train/NORMAL/IM-0367-0001.jpeg',\n",
       " '/home/aekanun/input/chest_xray/train/NORMAL/IM-0368-0001.jpeg',\n",
       " '/home/aekanun/input/chest_xray/train/NORMAL/IM-0369-0001.jpeg',\n",
       " '/home/aekanun/input/chest_xray/train/NORMAL/IM-0370-0001.jpeg',\n",
       " '/home/aekanun/input/chest_xray/train/NORMAL/IM-0371-0001.jpeg',\n",
       " '/home/aekanun/input/chest_xray/train/NORMAL/IM-0372-0001.jpeg',\n",
       " '/home/aekanun/input/chest_xray/train/NORMAL/IM-0374-0001.jpeg',\n",
       " '/home/aekanun/input/chest_xray/train/NORMAL/IM-0375-0001.jpeg',\n",
       " '/home/aekanun/input/chest_xray/train/NORMAL/IM-0377-0001.jpeg',\n",
       " '/home/aekanun/input/chest_xray/train/NORMAL/IM-0379-0001.jpeg',\n",
       " '/home/aekanun/input/chest_xray/train/NORMAL/IM-0381-0001.jpeg',\n",
       " '/home/aekanun/input/chest_xray/train/NORMAL/IM-0382-0001.jpeg',\n",
       " '/home/aekanun/input/chest_xray/train/NORMAL/IM-0383-0001.jpeg',\n",
       " '/home/aekanun/input/chest_xray/train/NORMAL/IM-0384-0001.jpeg',\n",
       " '/home/aekanun/input/chest_xray/train/NORMAL/IM-0385-0001.jpeg',\n",
       " '/home/aekanun/input/chest_xray/train/NORMAL/IM-0386-0001.jpeg',\n",
       " '/home/aekanun/input/chest_xray/train/NORMAL/IM-0387-0001.jpeg',\n",
       " '/home/aekanun/input/chest_xray/train/NORMAL/IM-0388-0001.jpeg',\n",
       " '/home/aekanun/input/chest_xray/train/NORMAL/IM-0389-0001.jpeg',\n",
       " '/home/aekanun/input/chest_xray/train/NORMAL/IM-0391-0001.jpeg',\n",
       " '/home/aekanun/input/chest_xray/train/NORMAL/IM-0392-0001.jpeg',\n",
       " '/home/aekanun/input/chest_xray/train/NORMAL/IM-0393-0001.jpeg',\n",
       " '/home/aekanun/input/chest_xray/train/NORMAL/IM-0394-0001.jpeg',\n",
       " '/home/aekanun/input/chest_xray/train/NORMAL/IM-0395-0001.jpeg',\n",
       " '/home/aekanun/input/chest_xray/train/NORMAL/IM-0399-0001.jpeg',\n",
       " '/home/aekanun/input/chest_xray/train/NORMAL/IM-0400-0001.jpeg',\n",
       " '/home/aekanun/input/chest_xray/train/NORMAL/IM-0401-0001.jpeg',\n",
       " '/home/aekanun/input/chest_xray/train/NORMAL/IM-0403-0001.jpeg',\n",
       " '/home/aekanun/input/chest_xray/train/NORMAL/IM-0404-0001.jpeg',\n",
       " '/home/aekanun/input/chest_xray/train/NORMAL/IM-0405-0001.jpeg',\n",
       " '/home/aekanun/input/chest_xray/train/NORMAL/IM-0408-0001.jpeg',\n",
       " '/home/aekanun/input/chest_xray/train/NORMAL/IM-0409-0001.jpeg',\n",
       " '/home/aekanun/input/chest_xray/train/NORMAL/IM-0410-0001.jpeg',\n",
       " '/home/aekanun/input/chest_xray/train/NORMAL/IM-0411-0001.jpeg',\n",
       " '/home/aekanun/input/chest_xray/train/NORMAL/IM-0413-0001.jpeg',\n",
       " '/home/aekanun/input/chest_xray/train/NORMAL/IM-0414-0001.jpeg',\n",
       " '/home/aekanun/input/chest_xray/train/NORMAL/IM-0416-0001.jpeg',\n",
       " '/home/aekanun/input/chest_xray/train/NORMAL/IM-0417-0001.jpeg',\n",
       " '/home/aekanun/input/chest_xray/train/NORMAL/IM-0419-0001.jpeg',\n",
       " '/home/aekanun/input/chest_xray/train/NORMAL/IM-0420-0001.jpeg',\n",
       " '/home/aekanun/input/chest_xray/train/NORMAL/IM-0421-0001.jpeg',\n",
       " '/home/aekanun/input/chest_xray/train/NORMAL/IM-0423-0001.jpeg',\n",
       " '/home/aekanun/input/chest_xray/train/NORMAL/IM-0424-0001.jpeg',\n",
       " '/home/aekanun/input/chest_xray/train/NORMAL/IM-0425-0001.jpeg',\n",
       " '/home/aekanun/input/chest_xray/train/NORMAL/IM-0427-0001.jpeg',\n",
       " '/home/aekanun/input/chest_xray/train/NORMAL/IM-0428-0001.jpeg',\n",
       " '/home/aekanun/input/chest_xray/train/NORMAL/IM-0429-0001-0001.jpeg',\n",
       " '/home/aekanun/input/chest_xray/train/NORMAL/IM-0429-0001-0002.jpeg',\n",
       " '/home/aekanun/input/chest_xray/train/NORMAL/IM-0429-0001.jpeg',\n",
       " '/home/aekanun/input/chest_xray/train/NORMAL/IM-0430-0001.jpeg',\n",
       " '/home/aekanun/input/chest_xray/train/NORMAL/IM-0431-0001.jpeg',\n",
       " '/home/aekanun/input/chest_xray/train/NORMAL/IM-0432-0001.jpeg',\n",
       " '/home/aekanun/input/chest_xray/train/NORMAL/IM-0433-0001.jpeg',\n",
       " '/home/aekanun/input/chest_xray/train/NORMAL/IM-0434-0001.jpeg',\n",
       " '/home/aekanun/input/chest_xray/train/NORMAL/IM-0435-0001-0001.jpeg',\n",
       " '/home/aekanun/input/chest_xray/train/NORMAL/IM-0435-0001.jpeg',\n",
       " '/home/aekanun/input/chest_xray/train/NORMAL/IM-0437-0001-0001.jpeg',\n",
       " '/home/aekanun/input/chest_xray/train/NORMAL/IM-0437-0001-0002.jpeg',\n",
       " '/home/aekanun/input/chest_xray/train/NORMAL/IM-0437-0001.jpeg',\n",
       " '/home/aekanun/input/chest_xray/train/NORMAL/IM-0438-0001.jpeg',\n",
       " '/home/aekanun/input/chest_xray/train/NORMAL/IM-0439-0001-0001.jpeg',\n",
       " '/home/aekanun/input/chest_xray/train/NORMAL/IM-0439-0001-0002.jpeg',\n",
       " '/home/aekanun/input/chest_xray/train/NORMAL/IM-0439-0001.jpeg',\n",
       " '/home/aekanun/input/chest_xray/train/NORMAL/IM-0440-0001.jpeg',\n",
       " '/home/aekanun/input/chest_xray/train/NORMAL/IM-0441-0001.jpeg',\n",
       " '/home/aekanun/input/chest_xray/train/NORMAL/IM-0442-0001.jpeg',\n",
       " '/home/aekanun/input/chest_xray/train/NORMAL/IM-0444-0001.jpeg',\n",
       " '/home/aekanun/input/chest_xray/train/NORMAL/IM-0445-0001.jpeg',\n",
       " '/home/aekanun/input/chest_xray/train/NORMAL/IM-0446-0001.jpeg',\n",
       " '/home/aekanun/input/chest_xray/train/NORMAL/IM-0447-0001.jpeg',\n",
       " '/home/aekanun/input/chest_xray/train/NORMAL/IM-0448-0001.jpeg',\n",
       " '/home/aekanun/input/chest_xray/train/NORMAL/IM-0449-0001.jpeg',\n",
       " '/home/aekanun/input/chest_xray/train/NORMAL/IM-0450-0001.jpeg',\n",
       " '/home/aekanun/input/chest_xray/train/NORMAL/IM-0451-0001.jpeg',\n",
       " '/home/aekanun/input/chest_xray/train/NORMAL/IM-0452-0001.jpeg',\n",
       " '/home/aekanun/input/chest_xray/train/NORMAL/IM-0453-0001-0002.jpeg',\n",
       " '/home/aekanun/input/chest_xray/train/NORMAL/IM-0453-0001.jpeg',\n",
       " '/home/aekanun/input/chest_xray/train/NORMAL/IM-0455-0001.jpeg',\n",
       " '/home/aekanun/input/chest_xray/train/NORMAL/IM-0456-0001.jpeg',\n",
       " '/home/aekanun/input/chest_xray/train/NORMAL/IM-0457-0001.jpeg',\n",
       " '/home/aekanun/input/chest_xray/train/NORMAL/IM-0458-0001.jpeg',\n",
       " '/home/aekanun/input/chest_xray/train/NORMAL/IM-0459-0001.jpeg',\n",
       " '/home/aekanun/input/chest_xray/train/NORMAL/IM-0460-0001.jpeg',\n",
       " '/home/aekanun/input/chest_xray/train/NORMAL/IM-0461-0001.jpeg',\n",
       " '/home/aekanun/input/chest_xray/train/NORMAL/IM-0463-0001.jpeg',\n",
       " '/home/aekanun/input/chest_xray/train/NORMAL/IM-0464-0001.jpeg',\n",
       " '/home/aekanun/input/chest_xray/train/NORMAL/IM-0465-0001.jpeg',\n",
       " '/home/aekanun/input/chest_xray/train/NORMAL/IM-0466-0001.jpeg',\n",
       " '/home/aekanun/input/chest_xray/train/NORMAL/IM-0467-0001-0001.jpeg',\n",
       " '/home/aekanun/input/chest_xray/train/NORMAL/IM-0467-0001-0002.jpeg',\n",
       " '/home/aekanun/input/chest_xray/train/NORMAL/IM-0467-0001.jpeg',\n",
       " '/home/aekanun/input/chest_xray/train/NORMAL/IM-0469-0001.jpeg',\n",
       " '/home/aekanun/input/chest_xray/train/NORMAL/IM-0471-0001.jpeg',\n",
       " '/home/aekanun/input/chest_xray/train/NORMAL/IM-0472-0001.jpeg',\n",
       " '/home/aekanun/input/chest_xray/train/NORMAL/IM-0473-0001.jpeg',\n",
       " '/home/aekanun/input/chest_xray/train/NORMAL/IM-0474-0001.jpeg',\n",
       " '/home/aekanun/input/chest_xray/train/NORMAL/IM-0475-0001.jpeg',\n",
       " '/home/aekanun/input/chest_xray/train/NORMAL/IM-0476-0001.jpeg',\n",
       " '/home/aekanun/input/chest_xray/train/NORMAL/IM-0477-0001.jpeg',\n",
       " '/home/aekanun/input/chest_xray/train/NORMAL/IM-0478-0001.jpeg',\n",
       " '/home/aekanun/input/chest_xray/train/NORMAL/IM-0479-0001.jpeg',\n",
       " '/home/aekanun/input/chest_xray/train/NORMAL/IM-0480-0001.jpeg',\n",
       " '/home/aekanun/input/chest_xray/train/NORMAL/IM-0481-0001.jpeg',\n",
       " '/home/aekanun/input/chest_xray/train/NORMAL/IM-0482-0001.jpeg',\n",
       " '/home/aekanun/input/chest_xray/train/NORMAL/IM-0483-0001.jpeg',\n",
       " '/home/aekanun/input/chest_xray/train/NORMAL/IM-0484-0001.jpeg',\n",
       " '/home/aekanun/input/chest_xray/train/NORMAL/IM-0485-0001.jpeg',\n",
       " '/home/aekanun/input/chest_xray/train/NORMAL/IM-0486-0001.jpeg',\n",
       " '/home/aekanun/input/chest_xray/train/NORMAL/IM-0487-0001.jpeg',\n",
       " '/home/aekanun/input/chest_xray/train/NORMAL/IM-0488-0001.jpeg',\n",
       " '/home/aekanun/input/chest_xray/train/NORMAL/IM-0489-0001.jpeg',\n",
       " '/home/aekanun/input/chest_xray/train/NORMAL/IM-0490-0001.jpeg',\n",
       " '/home/aekanun/input/chest_xray/train/NORMAL/IM-0491-0001-0001.jpeg',\n",
       " '/home/aekanun/input/chest_xray/train/NORMAL/IM-0491-0001-0002.jpeg',\n",
       " '/home/aekanun/input/chest_xray/train/NORMAL/IM-0491-0001.jpeg',\n",
       " '/home/aekanun/input/chest_xray/train/NORMAL/IM-0492-0001.jpeg',\n",
       " '/home/aekanun/input/chest_xray/train/NORMAL/IM-0493-0001.jpeg',\n",
       " '/home/aekanun/input/chest_xray/train/NORMAL/IM-0494-0001.jpeg',\n",
       " '/home/aekanun/input/chest_xray/train/NORMAL/IM-0495-0001.jpeg',\n",
       " '/home/aekanun/input/chest_xray/train/NORMAL/IM-0496-0001.jpeg',\n",
       " '/home/aekanun/input/chest_xray/train/NORMAL/IM-0497-0001-0001.jpeg',\n",
       " '/home/aekanun/input/chest_xray/train/NORMAL/IM-0497-0001-0002.jpeg',\n",
       " '/home/aekanun/input/chest_xray/train/NORMAL/IM-0497-0001.jpeg',\n",
       " '/home/aekanun/input/chest_xray/train/NORMAL/IM-0499-0001-0001.jpeg',\n",
       " '/home/aekanun/input/chest_xray/train/NORMAL/IM-0499-0001-0002.jpeg',\n",
       " '/home/aekanun/input/chest_xray/train/NORMAL/IM-0499-0001.jpeg',\n",
       " '/home/aekanun/input/chest_xray/train/NORMAL/IM-0500-0001.jpeg',\n",
       " '/home/aekanun/input/chest_xray/train/NORMAL/IM-0501-0001-0001.jpeg',\n",
       " '/home/aekanun/input/chest_xray/train/NORMAL/IM-0501-0001-0002.jpeg',\n",
       " '/home/aekanun/input/chest_xray/train/NORMAL/IM-0501-0001.jpeg',\n",
       " '/home/aekanun/input/chest_xray/train/NORMAL/IM-0502-0001.jpeg',\n",
       " '/home/aekanun/input/chest_xray/train/NORMAL/IM-0503-0001.jpeg',\n",
       " '/home/aekanun/input/chest_xray/train/NORMAL/IM-0504-0001.jpeg',\n",
       " '/home/aekanun/input/chest_xray/train/NORMAL/IM-0505-0001-0001.jpeg',\n",
       " '/home/aekanun/input/chest_xray/train/NORMAL/IM-0505-0001-0002.jpeg',\n",
       " '/home/aekanun/input/chest_xray/train/NORMAL/IM-0505-0001.jpeg',\n",
       " '/home/aekanun/input/chest_xray/train/NORMAL/IM-0506-0001.jpeg',\n",
       " '/home/aekanun/input/chest_xray/train/NORMAL/IM-0507-0001.jpeg',\n",
       " '/home/aekanun/input/chest_xray/train/NORMAL/IM-0508-0001.jpeg',\n",
       " '/home/aekanun/input/chest_xray/train/NORMAL/IM-0509-0001-0001.jpeg',\n",
       " '/home/aekanun/input/chest_xray/train/NORMAL/IM-0509-0001-0002.jpeg',\n",
       " '/home/aekanun/input/chest_xray/train/NORMAL/IM-0509-0001.jpeg',\n",
       " '/home/aekanun/input/chest_xray/train/NORMAL/IM-0510-0001.jpeg',\n",
       " '/home/aekanun/input/chest_xray/train/NORMAL/IM-0511-0001-0001.jpeg',\n",
       " '/home/aekanun/input/chest_xray/train/NORMAL/IM-0511-0001-0002.jpeg',\n",
       " '/home/aekanun/input/chest_xray/train/NORMAL/IM-0511-0001.jpeg',\n",
       " '/home/aekanun/input/chest_xray/train/NORMAL/IM-0512-0001.jpeg',\n",
       " '/home/aekanun/input/chest_xray/train/NORMAL/IM-0513-0001.jpeg',\n",
       " '/home/aekanun/input/chest_xray/train/NORMAL/IM-0514-0001.jpeg',\n",
       " '/home/aekanun/input/chest_xray/train/NORMAL/IM-0515-0001.jpeg',\n",
       " '/home/aekanun/input/chest_xray/train/NORMAL/IM-0516-0001.jpeg',\n",
       " '/home/aekanun/input/chest_xray/train/NORMAL/IM-0517-0001-0001.jpeg',\n",
       " '/home/aekanun/input/chest_xray/train/NORMAL/IM-0517-0001.jpeg',\n",
       " '/home/aekanun/input/chest_xray/train/NORMAL/IM-0519-0001-0001.jpeg',\n",
       " '/home/aekanun/input/chest_xray/train/NORMAL/IM-0519-0001-0002.jpeg',\n",
       " '/home/aekanun/input/chest_xray/train/NORMAL/IM-0519-0001.jpeg',\n",
       " '/home/aekanun/input/chest_xray/train/NORMAL/IM-0520-0001.jpeg',\n",
       " '/home/aekanun/input/chest_xray/train/NORMAL/IM-0521-0001.jpeg',\n",
       " '/home/aekanun/input/chest_xray/train/NORMAL/IM-0522-0001.jpeg',\n",
       " '/home/aekanun/input/chest_xray/train/NORMAL/IM-0523-0001-0001.jpeg',\n",
       " '/home/aekanun/input/chest_xray/train/NORMAL/IM-0523-0001-0002.jpeg',\n",
       " '/home/aekanun/input/chest_xray/train/NORMAL/IM-0523-0001-0003.jpeg',\n",
       " '/home/aekanun/input/chest_xray/train/NORMAL/IM-0523-0001.jpeg',\n",
       " '/home/aekanun/input/chest_xray/train/NORMAL/IM-0524-0001.jpeg',\n",
       " '/home/aekanun/input/chest_xray/train/NORMAL/IM-0525-0001-0001.jpeg',\n",
       " '/home/aekanun/input/chest_xray/train/NORMAL/IM-0525-0001-0002.jpeg',\n",
       " '/home/aekanun/input/chest_xray/train/NORMAL/IM-0525-0001.jpeg',\n",
       " '/home/aekanun/input/chest_xray/train/NORMAL/IM-0526-0001.jpeg',\n",
       " '/home/aekanun/input/chest_xray/train/NORMAL/IM-0527-0001.jpeg',\n",
       " '/home/aekanun/input/chest_xray/train/NORMAL/IM-0528-0001.jpeg',\n",
       " '/home/aekanun/input/chest_xray/train/NORMAL/IM-0529-0001.jpeg',\n",
       " '/home/aekanun/input/chest_xray/train/NORMAL/IM-0530-0001.jpeg',\n",
       " '/home/aekanun/input/chest_xray/train/NORMAL/IM-0531-0001-0001.jpeg',\n",
       " '/home/aekanun/input/chest_xray/train/NORMAL/IM-0531-0001.jpeg',\n",
       " '/home/aekanun/input/chest_xray/train/NORMAL/IM-0532-0001.jpeg',\n",
       " '/home/aekanun/input/chest_xray/train/NORMAL/IM-0533-0001-0001.jpeg',\n",
       " '/home/aekanun/input/chest_xray/train/NORMAL/IM-0533-0001-0002.jpeg',\n",
       " '/home/aekanun/input/chest_xray/train/NORMAL/IM-0533-0001.jpeg',\n",
       " '/home/aekanun/input/chest_xray/train/NORMAL/IM-0534-0001.jpeg',\n",
       " '/home/aekanun/input/chest_xray/train/NORMAL/IM-0535-0001.jpeg',\n",
       " '/home/aekanun/input/chest_xray/train/NORMAL/IM-0536-0001.jpeg',\n",
       " '/home/aekanun/input/chest_xray/train/NORMAL/IM-0537-0001.jpeg',\n",
       " '/home/aekanun/input/chest_xray/train/NORMAL/IM-0538-0001.jpeg',\n",
       " '/home/aekanun/input/chest_xray/train/NORMAL/IM-0539-0001-0001.jpeg',\n",
       " '/home/aekanun/input/chest_xray/train/NORMAL/IM-0539-0001-0002.jpeg',\n",
       " '/home/aekanun/input/chest_xray/train/NORMAL/IM-0539-0001.jpeg',\n",
       " '/home/aekanun/input/chest_xray/train/NORMAL/IM-0540-0001.jpeg',\n",
       " '/home/aekanun/input/chest_xray/train/NORMAL/IM-0541-0001.jpeg',\n",
       " '/home/aekanun/input/chest_xray/train/NORMAL/IM-0542-0001.jpeg',\n",
       " '/home/aekanun/input/chest_xray/train/NORMAL/IM-0543-0001-0002.jpeg',\n",
       " '/home/aekanun/input/chest_xray/train/NORMAL/IM-0543-0001.jpeg',\n",
       " '/home/aekanun/input/chest_xray/train/NORMAL/IM-0544-0001.jpeg',\n",
       " '/home/aekanun/input/chest_xray/train/NORMAL/IM-0545-0001-0001.jpeg',\n",
       " '/home/aekanun/input/chest_xray/train/NORMAL/IM-0545-0001-0002.jpeg',\n",
       " '/home/aekanun/input/chest_xray/train/NORMAL/IM-0545-0001.jpeg',\n",
       " '/home/aekanun/input/chest_xray/train/NORMAL/IM-0546-0001.jpeg',\n",
       " '/home/aekanun/input/chest_xray/train/NORMAL/IM-0547-0001.jpeg',\n",
       " '/home/aekanun/input/chest_xray/train/NORMAL/IM-0548-0001.jpeg',\n",
       " '/home/aekanun/input/chest_xray/train/NORMAL/IM-0549-0001-0001.jpeg',\n",
       " '/home/aekanun/input/chest_xray/train/NORMAL/IM-0549-0001-0002.jpeg',\n",
       " '/home/aekanun/input/chest_xray/train/NORMAL/IM-0549-0001.jpeg',\n",
       " '/home/aekanun/input/chest_xray/train/NORMAL/IM-0551-0001-0001.jpeg',\n",
       " '/home/aekanun/input/chest_xray/train/NORMAL/IM-0551-0001-0002.jpeg',\n",
       " '/home/aekanun/input/chest_xray/train/NORMAL/IM-0551-0001.jpeg',\n",
       " '/home/aekanun/input/chest_xray/train/NORMAL/IM-0552-0001.jpeg',\n",
       " '/home/aekanun/input/chest_xray/train/NORMAL/IM-0553-0001-0001.jpeg',\n",
       " '/home/aekanun/input/chest_xray/train/NORMAL/IM-0553-0001-0002.jpeg',\n",
       " '/home/aekanun/input/chest_xray/train/NORMAL/IM-0553-0001-0003.jpeg',\n",
       " '/home/aekanun/input/chest_xray/train/NORMAL/IM-0553-0001.jpeg',\n",
       " '/home/aekanun/input/chest_xray/train/NORMAL/IM-0554-0001.jpeg',\n",
       " '/home/aekanun/input/chest_xray/train/NORMAL/IM-0555-0001-0001.jpeg',\n",
       " '/home/aekanun/input/chest_xray/train/NORMAL/IM-0555-0001-0002.jpeg',\n",
       " '/home/aekanun/input/chest_xray/train/NORMAL/IM-0555-0001.jpeg',\n",
       " '/home/aekanun/input/chest_xray/train/NORMAL/IM-0556-0001.jpeg',\n",
       " '/home/aekanun/input/chest_xray/train/NORMAL/IM-0557-0001.jpeg',\n",
       " '/home/aekanun/input/chest_xray/train/NORMAL/IM-0559-0001.jpeg',\n",
       " '/home/aekanun/input/chest_xray/train/NORMAL/IM-0560-0001.jpeg',\n",
       " '/home/aekanun/input/chest_xray/train/NORMAL/IM-0561-0001.jpeg',\n",
       " '/home/aekanun/input/chest_xray/train/NORMAL/IM-0562-0001.jpeg',\n",
       " '/home/aekanun/input/chest_xray/train/NORMAL/IM-0563-0001.jpeg',\n",
       " '/home/aekanun/input/chest_xray/train/NORMAL/IM-0564-0001.jpeg',\n",
       " '/home/aekanun/input/chest_xray/train/NORMAL/IM-0565-0001.jpeg',\n",
       " '/home/aekanun/input/chest_xray/train/NORMAL/IM-0566-0001.jpeg',\n",
       " '/home/aekanun/input/chest_xray/train/NORMAL/IM-0568-0001.jpeg',\n",
       " '/home/aekanun/input/chest_xray/train/NORMAL/IM-0569-0001.jpeg',\n",
       " '/home/aekanun/input/chest_xray/train/NORMAL/IM-0570-0001.jpeg',\n",
       " '/home/aekanun/input/chest_xray/train/NORMAL/IM-0571-0001.jpeg',\n",
       " '/home/aekanun/input/chest_xray/train/NORMAL/IM-0574-0001.jpeg',\n",
       " '/home/aekanun/input/chest_xray/train/NORMAL/IM-0575-0001.jpeg',\n",
       " '/home/aekanun/input/chest_xray/train/NORMAL/IM-0577-0001.jpeg',\n",
       " '/home/aekanun/input/chest_xray/train/NORMAL/IM-0578-0001.jpeg',\n",
       " '/home/aekanun/input/chest_xray/train/NORMAL/IM-0579-0001.jpeg',\n",
       " '/home/aekanun/input/chest_xray/train/NORMAL/IM-0580-0001.jpeg',\n",
       " '/home/aekanun/input/chest_xray/train/NORMAL/IM-0581-0001.jpeg',\n",
       " '/home/aekanun/input/chest_xray/train/NORMAL/IM-0582-0001.jpeg',\n",
       " '/home/aekanun/input/chest_xray/train/NORMAL/IM-0583-0001.jpeg',\n",
       " '/home/aekanun/input/chest_xray/train/NORMAL/IM-0584-0001.jpeg',\n",
       " '/home/aekanun/input/chest_xray/train/NORMAL/IM-0586-0001.jpeg',\n",
       " '/home/aekanun/input/chest_xray/train/NORMAL/IM-0588-0001.jpeg',\n",
       " '/home/aekanun/input/chest_xray/train/NORMAL/IM-0590-0001.jpeg',\n",
       " '/home/aekanun/input/chest_xray/train/NORMAL/IM-0591-0001.jpeg',\n",
       " '/home/aekanun/input/chest_xray/train/NORMAL/IM-0592-0001.jpeg',\n",
       " '/home/aekanun/input/chest_xray/train/NORMAL/IM-0593-0001.jpeg',\n",
       " '/home/aekanun/input/chest_xray/train/NORMAL/IM-0595-0001.jpeg',\n",
       " '/home/aekanun/input/chest_xray/train/NORMAL/IM-0596-0001.jpeg',\n",
       " '/home/aekanun/input/chest_xray/train/NORMAL/IM-0598-0001.jpeg',\n",
       " '/home/aekanun/input/chest_xray/train/NORMAL/IM-0599-0001.jpeg',\n",
       " '/home/aekanun/input/chest_xray/train/NORMAL/IM-0600-0001.jpeg',\n",
       " '/home/aekanun/input/chest_xray/train/NORMAL/IM-0601-0001.jpeg',\n",
       " '/home/aekanun/input/chest_xray/train/NORMAL/IM-0602-0001.jpeg',\n",
       " '/home/aekanun/input/chest_xray/train/NORMAL/IM-0604-0001.jpeg',\n",
       " '/home/aekanun/input/chest_xray/train/NORMAL/IM-0605-0001.jpeg',\n",
       " '/home/aekanun/input/chest_xray/train/NORMAL/IM-0606-0001.jpeg',\n",
       " '/home/aekanun/input/chest_xray/train/NORMAL/IM-0607-0001.jpeg',\n",
       " '/home/aekanun/input/chest_xray/train/NORMAL/IM-0608-0001-0001.jpeg',\n",
       " '/home/aekanun/input/chest_xray/train/NORMAL/IM-0608-0001-0002.jpeg',\n",
       " '/home/aekanun/input/chest_xray/train/NORMAL/IM-0608-0001.jpeg',\n",
       " '/home/aekanun/input/chest_xray/train/NORMAL/IM-0609-0001.jpeg',\n",
       " '/home/aekanun/input/chest_xray/train/NORMAL/IM-0612-0001-0001.jpeg',\n",
       " '/home/aekanun/input/chest_xray/train/NORMAL/IM-0612-0001-0002.jpeg',\n",
       " '/home/aekanun/input/chest_xray/train/NORMAL/IM-0612-0001.jpeg',\n",
       " '/home/aekanun/input/chest_xray/train/NORMAL/IM-0613-0001.jpeg',\n",
       " '/home/aekanun/input/chest_xray/train/NORMAL/IM-0614-0001.jpeg',\n",
       " '/home/aekanun/input/chest_xray/train/NORMAL/IM-0615-0001.jpeg',\n",
       " '/home/aekanun/input/chest_xray/train/NORMAL/IM-0616-0001.jpeg',\n",
       " '/home/aekanun/input/chest_xray/train/NORMAL/IM-0617-0001.jpeg',\n",
       " '/home/aekanun/input/chest_xray/train/NORMAL/IM-0618-0001-0001.jpeg',\n",
       " '/home/aekanun/input/chest_xray/train/NORMAL/IM-0618-0001-0002.jpeg',\n",
       " '/home/aekanun/input/chest_xray/train/NORMAL/IM-0618-0001.jpeg',\n",
       " '/home/aekanun/input/chest_xray/train/NORMAL/IM-0619-0001.jpeg',\n",
       " '/home/aekanun/input/chest_xray/train/NORMAL/IM-0620-0001-0001.jpeg',\n",
       " '/home/aekanun/input/chest_xray/train/NORMAL/IM-0620-0001-0002.jpeg',\n",
       " '/home/aekanun/input/chest_xray/train/NORMAL/IM-0620-0001.jpeg',\n",
       " '/home/aekanun/input/chest_xray/train/NORMAL/IM-0621-0001.jpeg',\n",
       " '/home/aekanun/input/chest_xray/train/NORMAL/IM-0622-0001-0001.jpeg',\n",
       " '/home/aekanun/input/chest_xray/train/NORMAL/IM-0622-0001-0002.jpeg',\n",
       " '/home/aekanun/input/chest_xray/train/NORMAL/IM-0622-0001.jpeg',\n",
       " '/home/aekanun/input/chest_xray/train/NORMAL/IM-0623-0001.jpeg',\n",
       " '/home/aekanun/input/chest_xray/train/NORMAL/IM-0624-0001-0002.jpeg',\n",
       " '/home/aekanun/input/chest_xray/train/NORMAL/IM-0624-0001.jpeg',\n",
       " '/home/aekanun/input/chest_xray/train/NORMAL/IM-0625-0001.jpeg',\n",
       " '/home/aekanun/input/chest_xray/train/NORMAL/IM-0626-0001-0001.jpeg',\n",
       " '/home/aekanun/input/chest_xray/train/NORMAL/IM-0626-0001-0002.jpeg',\n",
       " '/home/aekanun/input/chest_xray/train/NORMAL/IM-0627-0001.jpeg',\n",
       " '/home/aekanun/input/chest_xray/train/NORMAL/IM-0628-0001.jpeg',\n",
       " '/home/aekanun/input/chest_xray/train/NORMAL/IM-0629-0001-0001.jpeg',\n",
       " '/home/aekanun/input/chest_xray/train/NORMAL/IM-0629-0001-0002.jpeg',\n",
       " '/home/aekanun/input/chest_xray/train/NORMAL/IM-0629-0001-0003.jpeg',\n",
       " '/home/aekanun/input/chest_xray/train/NORMAL/IM-0629-0001.jpeg',\n",
       " '/home/aekanun/input/chest_xray/train/NORMAL/IM-0630-0001.jpeg',\n",
       " '/home/aekanun/input/chest_xray/train/NORMAL/IM-0631-0001-0001.jpeg',\n",
       " '/home/aekanun/input/chest_xray/train/NORMAL/IM-0631-0001-0002.jpeg',\n",
       " '/home/aekanun/input/chest_xray/train/NORMAL/IM-0631-0001.jpeg',\n",
       " '/home/aekanun/input/chest_xray/train/NORMAL/IM-0632-0001.jpeg',\n",
       " '/home/aekanun/input/chest_xray/train/NORMAL/IM-0633-0001.jpeg',\n",
       " '/home/aekanun/input/chest_xray/train/NORMAL/IM-0634-0001.jpeg',\n",
       " '/home/aekanun/input/chest_xray/train/NORMAL/IM-0635-0001.jpeg',\n",
       " '/home/aekanun/input/chest_xray/train/NORMAL/IM-0636-0001.jpeg',\n",
       " '/home/aekanun/input/chest_xray/train/NORMAL/IM-0637-0001.jpeg',\n",
       " '/home/aekanun/input/chest_xray/train/NORMAL/IM-0640-0001-0001.jpeg',\n",
       " '/home/aekanun/input/chest_xray/train/NORMAL/IM-0640-0001-0002.jpeg',\n",
       " '/home/aekanun/input/chest_xray/train/NORMAL/IM-0640-0001.jpeg',\n",
       " '/home/aekanun/input/chest_xray/train/NORMAL/IM-0641-0001.jpeg',\n",
       " '/home/aekanun/input/chest_xray/train/NORMAL/IM-0642-0001.jpeg',\n",
       " '/home/aekanun/input/chest_xray/train/NORMAL/IM-0643-0001.jpeg',\n",
       " '/home/aekanun/input/chest_xray/train/NORMAL/IM-0644-0001-0001.jpeg',\n",
       " '/home/aekanun/input/chest_xray/train/NORMAL/IM-0644-0001-0002.jpeg',\n",
       " '/home/aekanun/input/chest_xray/train/NORMAL/IM-0644-0001.jpeg',\n",
       " '/home/aekanun/input/chest_xray/train/NORMAL/IM-0645-0001.jpeg',\n",
       " '/home/aekanun/input/chest_xray/train/NORMAL/IM-0646-0001.jpeg',\n",
       " '/home/aekanun/input/chest_xray/train/NORMAL/IM-0647-0001.jpeg',\n",
       " '/home/aekanun/input/chest_xray/train/NORMAL/IM-0648-0001.jpeg',\n",
       " '/home/aekanun/input/chest_xray/train/NORMAL/IM-0649-0001.jpeg',\n",
       " '/home/aekanun/input/chest_xray/train/NORMAL/IM-0650-0001-0001.jpeg',\n",
       " '/home/aekanun/input/chest_xray/train/NORMAL/IM-0650-0001-0002.jpeg',\n",
       " '/home/aekanun/input/chest_xray/train/NORMAL/IM-0650-0001.jpeg',\n",
       " '/home/aekanun/input/chest_xray/train/NORMAL/IM-0651-0001.jpeg',\n",
       " '/home/aekanun/input/chest_xray/train/NORMAL/IM-0652-0001-0002.jpeg',\n",
       " '/home/aekanun/input/chest_xray/train/NORMAL/IM-0652-0001.jpeg',\n",
       " '/home/aekanun/input/chest_xray/train/NORMAL/IM-0654-0001.jpeg',\n",
       " '/home/aekanun/input/chest_xray/train/NORMAL/IM-0655-0001.jpeg',\n",
       " '/home/aekanun/input/chest_xray/train/NORMAL/IM-0656-0001-0001.jpeg',\n",
       " '/home/aekanun/input/chest_xray/train/NORMAL/IM-0656-0001-0002.jpeg',\n",
       " '/home/aekanun/input/chest_xray/train/NORMAL/IM-0656-0001.jpeg',\n",
       " '/home/aekanun/input/chest_xray/train/NORMAL/IM-0657-0001.jpeg',\n",
       " '/home/aekanun/input/chest_xray/train/NORMAL/IM-0658-0001.jpeg',\n",
       " '/home/aekanun/input/chest_xray/train/NORMAL/IM-0659-0001.jpeg',\n",
       " '/home/aekanun/input/chest_xray/train/NORMAL/IM-0660-0001-0001.jpeg',\n",
       " '/home/aekanun/input/chest_xray/train/NORMAL/IM-0660-0001-0002.jpeg',\n",
       " '/home/aekanun/input/chest_xray/train/NORMAL/IM-0660-0001.jpeg',\n",
       " '/home/aekanun/input/chest_xray/train/NORMAL/IM-0661-0001.jpeg',\n",
       " '/home/aekanun/input/chest_xray/train/NORMAL/IM-0662-0001.jpeg',\n",
       " '/home/aekanun/input/chest_xray/train/NORMAL/IM-0663-0001.jpeg',\n",
       " '/home/aekanun/input/chest_xray/train/NORMAL/IM-0664-0001.jpeg',\n",
       " '/home/aekanun/input/chest_xray/train/NORMAL/IM-0665-0001.jpeg',\n",
       " '/home/aekanun/input/chest_xray/train/NORMAL/IM-0666-0001-0001.jpeg',\n",
       " '/home/aekanun/input/chest_xray/train/NORMAL/IM-0666-0001-0002.jpeg',\n",
       " '/home/aekanun/input/chest_xray/train/NORMAL/IM-0666-0001.jpeg',\n",
       " '/home/aekanun/input/chest_xray/train/NORMAL/IM-0667-0001.jpeg',\n",
       " '/home/aekanun/input/chest_xray/train/NORMAL/IM-0668-0001.jpeg',\n",
       " '/home/aekanun/input/chest_xray/train/NORMAL/IM-0669-0001.jpeg',\n",
       " '/home/aekanun/input/chest_xray/train/NORMAL/IM-0670-0001.jpeg',\n",
       " '/home/aekanun/input/chest_xray/train/NORMAL/IM-0671-0001.jpeg',\n",
       " '/home/aekanun/input/chest_xray/train/NORMAL/IM-0672-0001.jpeg',\n",
       " '/home/aekanun/input/chest_xray/train/NORMAL/IM-0673-0001.jpeg',\n",
       " '/home/aekanun/input/chest_xray/train/NORMAL/IM-0674-0001.jpeg',\n",
       " '/home/aekanun/input/chest_xray/train/NORMAL/IM-0675-0001.jpeg',\n",
       " '/home/aekanun/input/chest_xray/train/NORMAL/IM-0676-0001.jpeg',\n",
       " '/home/aekanun/input/chest_xray/train/NORMAL/IM-0677-0001.jpeg',\n",
       " '/home/aekanun/input/chest_xray/train/NORMAL/IM-0678-0001.jpeg',\n",
       " '/home/aekanun/input/chest_xray/train/NORMAL/IM-0679-0001.jpeg',\n",
       " '/home/aekanun/input/chest_xray/train/NORMAL/IM-0680-0001.jpeg',\n",
       " '/home/aekanun/input/chest_xray/train/NORMAL/IM-0681-0001.jpeg',\n",
       " '/home/aekanun/input/chest_xray/train/NORMAL/IM-0682-0001.jpeg',\n",
       " '/home/aekanun/input/chest_xray/train/NORMAL/IM-0683-0001.jpeg',\n",
       " '/home/aekanun/input/chest_xray/train/NORMAL/IM-0684-0001.jpeg',\n",
       " '/home/aekanun/input/chest_xray/train/NORMAL/IM-0685-0001.jpeg',\n",
       " '/home/aekanun/input/chest_xray/train/NORMAL/IM-0686-0001.jpeg',\n",
       " '/home/aekanun/input/chest_xray/train/NORMAL/IM-0687-0001.jpeg',\n",
       " '/home/aekanun/input/chest_xray/train/NORMAL/IM-0688-0001.jpeg',\n",
       " '/home/aekanun/input/chest_xray/train/NORMAL/IM-0689-0001.jpeg',\n",
       " '/home/aekanun/input/chest_xray/train/NORMAL/IM-0691-0001.jpeg',\n",
       " '/home/aekanun/input/chest_xray/train/NORMAL/IM-0692-0001.jpeg',\n",
       " '/home/aekanun/input/chest_xray/train/NORMAL/IM-0693-0001.jpeg',\n",
       " '/home/aekanun/input/chest_xray/train/NORMAL/IM-0694-0001.jpeg',\n",
       " '/home/aekanun/input/chest_xray/train/NORMAL/IM-0695-0001.jpeg',\n",
       " '/home/aekanun/input/chest_xray/train/NORMAL/IM-0696-0001.jpeg',\n",
       " '/home/aekanun/input/chest_xray/train/NORMAL/IM-0697-0001.jpeg',\n",
       " '/home/aekanun/input/chest_xray/train/NORMAL/IM-0698-0001.jpeg',\n",
       " '/home/aekanun/input/chest_xray/train/NORMAL/IM-0700-0001.jpeg',\n",
       " '/home/aekanun/input/chest_xray/train/NORMAL/IM-0701-0001.jpeg',\n",
       " '/home/aekanun/input/chest_xray/train/NORMAL/IM-0702-0001.jpeg',\n",
       " '/home/aekanun/input/chest_xray/train/NORMAL/IM-0703-0001.jpeg',\n",
       " '/home/aekanun/input/chest_xray/train/NORMAL/IM-0704-0001.jpeg',\n",
       " '/home/aekanun/input/chest_xray/train/NORMAL/IM-0705-0001.jpeg',\n",
       " '/home/aekanun/input/chest_xray/train/NORMAL/IM-0706-0001.jpeg',\n",
       " '/home/aekanun/input/chest_xray/train/NORMAL/IM-0707-0001.jpeg',\n",
       " '/home/aekanun/input/chest_xray/train/NORMAL/IM-0709-0001.jpeg',\n",
       " '/home/aekanun/input/chest_xray/train/NORMAL/IM-0710-0001.jpeg',\n",
       " '/home/aekanun/input/chest_xray/train/NORMAL/IM-0711-0001.jpeg',\n",
       " '/home/aekanun/input/chest_xray/train/NORMAL/IM-0712-0001.jpeg',\n",
       " '/home/aekanun/input/chest_xray/train/NORMAL/IM-0713-0001.jpeg',\n",
       " '/home/aekanun/input/chest_xray/train/NORMAL/IM-0714-0001.jpeg',\n",
       " '/home/aekanun/input/chest_xray/train/NORMAL/IM-0715-0001.jpeg',\n",
       " '/home/aekanun/input/chest_xray/train/NORMAL/IM-0716-0001.jpeg',\n",
       " '/home/aekanun/input/chest_xray/train/NORMAL/IM-0717-0001.jpeg',\n",
       " '/home/aekanun/input/chest_xray/train/NORMAL/IM-0718-0001.jpeg',\n",
       " '/home/aekanun/input/chest_xray/train/NORMAL/IM-0719-0001.jpeg',\n",
       " '/home/aekanun/input/chest_xray/train/NORMAL/IM-0721-0001.jpeg',\n",
       " '/home/aekanun/input/chest_xray/train/NORMAL/IM-0722-0001.jpeg',\n",
       " '/home/aekanun/input/chest_xray/train/NORMAL/IM-0724-0001.jpeg',\n",
       " '/home/aekanun/input/chest_xray/train/NORMAL/IM-0727-0001.jpeg',\n",
       " '/home/aekanun/input/chest_xray/train/NORMAL/IM-0728-0001.jpeg',\n",
       " '/home/aekanun/input/chest_xray/train/NORMAL/IM-0729-0001.jpeg',\n",
       " '/home/aekanun/input/chest_xray/train/NORMAL/IM-0730-0001.jpeg',\n",
       " '/home/aekanun/input/chest_xray/train/NORMAL/IM-0732-0001.jpeg',\n",
       " '/home/aekanun/input/chest_xray/train/NORMAL/IM-0733-0001.jpeg',\n",
       " '/home/aekanun/input/chest_xray/train/NORMAL/IM-0734-0001.jpeg',\n",
       " '/home/aekanun/input/chest_xray/train/NORMAL/IM-0735-0001.jpeg',\n",
       " '/home/aekanun/input/chest_xray/train/NORMAL/IM-0736-0001.jpeg',\n",
       " '/home/aekanun/input/chest_xray/train/NORMAL/IM-0737-0001.jpeg',\n",
       " '/home/aekanun/input/chest_xray/train/NORMAL/IM-0738-0001.jpeg',\n",
       " '/home/aekanun/input/chest_xray/train/NORMAL/IM-0739-0001.jpeg',\n",
       " '/home/aekanun/input/chest_xray/train/NORMAL/IM-0740-0001.jpeg',\n",
       " '/home/aekanun/input/chest_xray/train/NORMAL/IM-0741-0001.jpeg',\n",
       " '/home/aekanun/input/chest_xray/train/NORMAL/IM-0742-0001.jpeg',\n",
       " '/home/aekanun/input/chest_xray/train/NORMAL/IM-0746-0001.jpeg',\n",
       " '/home/aekanun/input/chest_xray/train/NORMAL/IM-0747-0001.jpeg',\n",
       " '/home/aekanun/input/chest_xray/train/NORMAL/IM-0748-0001.jpeg',\n",
       " '/home/aekanun/input/chest_xray/train/NORMAL/IM-0750-0001.jpeg',\n",
       " '/home/aekanun/input/chest_xray/train/NORMAL/IM-0751-0001.jpeg',\n",
       " '/home/aekanun/input/chest_xray/train/NORMAL/IM-0752-0001.jpeg',\n",
       " '/home/aekanun/input/chest_xray/train/NORMAL/IM-0753-0001.jpeg',\n",
       " '/home/aekanun/input/chest_xray/train/NORMAL/IM-0754-0001.jpeg',\n",
       " '/home/aekanun/input/chest_xray/train/NORMAL/IM-0755-0001.jpeg',\n",
       " '/home/aekanun/input/chest_xray/train/NORMAL/IM-0757-0001.jpeg',\n",
       " '/home/aekanun/input/chest_xray/train/NORMAL/IM-0761-0001.jpeg',\n",
       " '/home/aekanun/input/chest_xray/train/NORMAL/IM-0764-0001.jpeg',\n",
       " '/home/aekanun/input/chest_xray/train/NORMAL/IM-0766-0001.jpeg',\n",
       " '/home/aekanun/input/chest_xray/train/NORMAL/NORMAL2-IM-0383-0001.jpeg',\n",
       " '/home/aekanun/input/chest_xray/train/NORMAL/NORMAL2-IM-0384-0001.jpeg',\n",
       " '/home/aekanun/input/chest_xray/train/NORMAL/NORMAL2-IM-0385-0001.jpeg',\n",
       " '/home/aekanun/input/chest_xray/train/NORMAL/NORMAL2-IM-0386-0001.jpeg',\n",
       " '/home/aekanun/input/chest_xray/train/NORMAL/NORMAL2-IM-0388-0001.jpeg',\n",
       " '/home/aekanun/input/chest_xray/train/NORMAL/NORMAL2-IM-0389-0001.jpeg',\n",
       " '/home/aekanun/input/chest_xray/train/NORMAL/NORMAL2-IM-0390-0001.jpeg',\n",
       " '/home/aekanun/input/chest_xray/train/NORMAL/NORMAL2-IM-0391-0001.jpeg',\n",
       " '/home/aekanun/input/chest_xray/train/NORMAL/NORMAL2-IM-0392-0001.jpeg',\n",
       " '/home/aekanun/input/chest_xray/train/NORMAL/NORMAL2-IM-0393-0001.jpeg',\n",
       " '/home/aekanun/input/chest_xray/train/NORMAL/NORMAL2-IM-0394-0001.jpeg',\n",
       " '/home/aekanun/input/chest_xray/train/NORMAL/NORMAL2-IM-0395-0001-0001.jpeg',\n",
       " '/home/aekanun/input/chest_xray/train/NORMAL/NORMAL2-IM-0395-0001-0002.jpeg',\n",
       " '/home/aekanun/input/chest_xray/train/NORMAL/NORMAL2-IM-0395-0001.jpeg',\n",
       " '/home/aekanun/input/chest_xray/train/NORMAL/NORMAL2-IM-0396-0001.jpeg',\n",
       " '/home/aekanun/input/chest_xray/train/NORMAL/NORMAL2-IM-0397-0001.jpeg',\n",
       " '/home/aekanun/input/chest_xray/train/NORMAL/NORMAL2-IM-0399-0001.jpeg',\n",
       " '/home/aekanun/input/chest_xray/train/NORMAL/NORMAL2-IM-0401-0001.jpeg',\n",
       " '/home/aekanun/input/chest_xray/train/NORMAL/NORMAL2-IM-0402-0001.jpeg',\n",
       " '/home/aekanun/input/chest_xray/train/NORMAL/NORMAL2-IM-0403-0001.jpeg',\n",
       " '/home/aekanun/input/chest_xray/train/NORMAL/NORMAL2-IM-0404-0001.jpeg',\n",
       " '/home/aekanun/input/chest_xray/train/NORMAL/NORMAL2-IM-0406-0001.jpeg',\n",
       " '/home/aekanun/input/chest_xray/train/NORMAL/NORMAL2-IM-0407-0001.jpeg',\n",
       " '/home/aekanun/input/chest_xray/train/NORMAL/NORMAL2-IM-0408-0001.jpeg',\n",
       " '/home/aekanun/input/chest_xray/train/NORMAL/NORMAL2-IM-0409-0001.jpeg',\n",
       " '/home/aekanun/input/chest_xray/train/NORMAL/NORMAL2-IM-0410-0001.jpeg',\n",
       " '/home/aekanun/input/chest_xray/train/NORMAL/NORMAL2-IM-0412-0001.jpeg',\n",
       " '/home/aekanun/input/chest_xray/train/NORMAL/NORMAL2-IM-0413-0001.jpeg',\n",
       " '/home/aekanun/input/chest_xray/train/NORMAL/NORMAL2-IM-0414-0001.jpeg',\n",
       " '/home/aekanun/input/chest_xray/train/NORMAL/NORMAL2-IM-0415-0001.jpeg',\n",
       " '/home/aekanun/input/chest_xray/train/NORMAL/NORMAL2-IM-0416-0001-0001.jpeg',\n",
       " '/home/aekanun/input/chest_xray/train/NORMAL/NORMAL2-IM-0416-0001-0002.jpeg',\n",
       " '/home/aekanun/input/chest_xray/train/NORMAL/NORMAL2-IM-0416-0001.jpeg',\n",
       " '/home/aekanun/input/chest_xray/train/NORMAL/NORMAL2-IM-0417-0001.jpeg',\n",
       " '/home/aekanun/input/chest_xray/train/NORMAL/NORMAL2-IM-0418-0001.jpeg',\n",
       " '/home/aekanun/input/chest_xray/train/NORMAL/NORMAL2-IM-0419-0001.jpeg',\n",
       " '/home/aekanun/input/chest_xray/train/NORMAL/NORMAL2-IM-0421-0001.jpeg',\n",
       " '/home/aekanun/input/chest_xray/train/NORMAL/NORMAL2-IM-0423-0001.jpeg',\n",
       " '/home/aekanun/input/chest_xray/train/NORMAL/NORMAL2-IM-0424-0001.jpeg',\n",
       " '/home/aekanun/input/chest_xray/train/NORMAL/NORMAL2-IM-0425-0001.jpeg',\n",
       " '/home/aekanun/input/chest_xray/train/NORMAL/NORMAL2-IM-0427-0001.jpeg',\n",
       " '/home/aekanun/input/chest_xray/train/NORMAL/NORMAL2-IM-0428-0001.jpeg',\n",
       " '/home/aekanun/input/chest_xray/train/NORMAL/NORMAL2-IM-0429-0001.jpeg',\n",
       " '/home/aekanun/input/chest_xray/train/NORMAL/NORMAL2-IM-0433-0001.jpeg',\n",
       " '/home/aekanun/input/chest_xray/train/NORMAL/NORMAL2-IM-0435-0001.jpeg',\n",
       " '/home/aekanun/input/chest_xray/train/NORMAL/NORMAL2-IM-0437-0001.jpeg',\n",
       " '/home/aekanun/input/chest_xray/train/NORMAL/NORMAL2-IM-0439-0001.jpeg',\n",
       " '/home/aekanun/input/chest_xray/train/NORMAL/NORMAL2-IM-0440-0001.jpeg',\n",
       " '/home/aekanun/input/chest_xray/train/NORMAL/NORMAL2-IM-0441-0001.jpeg',\n",
       " '/home/aekanun/input/chest_xray/train/NORMAL/NORMAL2-IM-0443-0001.jpeg',\n",
       " '/home/aekanun/input/chest_xray/train/NORMAL/NORMAL2-IM-0445-0001.jpeg',\n",
       " '/home/aekanun/input/chest_xray/train/NORMAL/NORMAL2-IM-0447-0001.jpeg',\n",
       " '/home/aekanun/input/chest_xray/train/NORMAL/NORMAL2-IM-0448-0001.jpeg',\n",
       " '/home/aekanun/input/chest_xray/train/NORMAL/NORMAL2-IM-0449-0001.jpeg',\n",
       " '/home/aekanun/input/chest_xray/train/NORMAL/NORMAL2-IM-0450-0001.jpeg',\n",
       " '/home/aekanun/input/chest_xray/train/NORMAL/NORMAL2-IM-0451-0001.jpeg',\n",
       " '/home/aekanun/input/chest_xray/train/NORMAL/NORMAL2-IM-0452-0001.jpeg',\n",
       " '/home/aekanun/input/chest_xray/train/NORMAL/NORMAL2-IM-0453-0001.jpeg',\n",
       " '/home/aekanun/input/chest_xray/train/NORMAL/NORMAL2-IM-0454-0001.jpeg',\n",
       " '/home/aekanun/input/chest_xray/train/NORMAL/NORMAL2-IM-0455-0001.jpeg',\n",
       " '/home/aekanun/input/chest_xray/train/NORMAL/NORMAL2-IM-0456-0001.jpeg',\n",
       " '/home/aekanun/input/chest_xray/train/NORMAL/NORMAL2-IM-0458-0001.jpeg',\n",
       " '/home/aekanun/input/chest_xray/train/NORMAL/NORMAL2-IM-0460-0001.jpeg',\n",
       " '/home/aekanun/input/chest_xray/train/NORMAL/NORMAL2-IM-0462-0001.jpeg',\n",
       " '/home/aekanun/input/chest_xray/train/NORMAL/NORMAL2-IM-0463-0001.jpeg',\n",
       " '/home/aekanun/input/chest_xray/train/NORMAL/NORMAL2-IM-0464-0001.jpeg',\n",
       " '/home/aekanun/input/chest_xray/train/NORMAL/NORMAL2-IM-0465-0001.jpeg',\n",
       " '/home/aekanun/input/chest_xray/train/NORMAL/NORMAL2-IM-0466-0001.jpeg',\n",
       " '/home/aekanun/input/chest_xray/train/NORMAL/NORMAL2-IM-0468-0001.jpeg',\n",
       " '/home/aekanun/input/chest_xray/train/NORMAL/NORMAL2-IM-0472-0001.jpeg',\n",
       " '/home/aekanun/input/chest_xray/train/NORMAL/NORMAL2-IM-0473-0001.jpeg',\n",
       " '/home/aekanun/input/chest_xray/train/NORMAL/NORMAL2-IM-0474-0001.jpeg',\n",
       " '/home/aekanun/input/chest_xray/train/NORMAL/NORMAL2-IM-0475-0001.jpeg',\n",
       " '/home/aekanun/input/chest_xray/train/NORMAL/NORMAL2-IM-0476-0001.jpeg',\n",
       " '/home/aekanun/input/chest_xray/train/NORMAL/NORMAL2-IM-0478-0001.jpeg',\n",
       " '/home/aekanun/input/chest_xray/train/NORMAL/NORMAL2-IM-0479-0001.jpeg',\n",
       " '/home/aekanun/input/chest_xray/train/NORMAL/NORMAL2-IM-0480-0001.jpeg',\n",
       " '/home/aekanun/input/chest_xray/train/NORMAL/NORMAL2-IM-0481-0001.jpeg',\n",
       " '/home/aekanun/input/chest_xray/train/NORMAL/NORMAL2-IM-0482-0001.jpeg',\n",
       " '/home/aekanun/input/chest_xray/train/NORMAL/NORMAL2-IM-0485-0001.jpeg',\n",
       " '/home/aekanun/input/chest_xray/train/NORMAL/NORMAL2-IM-0486-0001.jpeg',\n",
       " '/home/aekanun/input/chest_xray/train/NORMAL/NORMAL2-IM-0487-0001.jpeg',\n",
       " '/home/aekanun/input/chest_xray/train/NORMAL/NORMAL2-IM-0488-0001.jpeg',\n",
       " '/home/aekanun/input/chest_xray/train/NORMAL/NORMAL2-IM-0489-0001.jpeg',\n",
       " '/home/aekanun/input/chest_xray/train/NORMAL/NORMAL2-IM-0490-0001.jpeg',\n",
       " '/home/aekanun/input/chest_xray/train/NORMAL/NORMAL2-IM-0491-0001.jpeg',\n",
       " '/home/aekanun/input/chest_xray/train/NORMAL/NORMAL2-IM-0493-0001.jpeg',\n",
       " '/home/aekanun/input/chest_xray/train/NORMAL/NORMAL2-IM-0496-0001.jpeg',\n",
       " '/home/aekanun/input/chest_xray/train/NORMAL/NORMAL2-IM-0497-0001.jpeg',\n",
       " '/home/aekanun/input/chest_xray/train/NORMAL/NORMAL2-IM-0499-0001.jpeg',\n",
       " '/home/aekanun/input/chest_xray/train/NORMAL/NORMAL2-IM-0500-0001.jpeg',\n",
       " '/home/aekanun/input/chest_xray/train/NORMAL/NORMAL2-IM-0501-0001.jpeg',\n",
       " '/home/aekanun/input/chest_xray/train/NORMAL/NORMAL2-IM-0502-0001.jpeg',\n",
       " '/home/aekanun/input/chest_xray/train/NORMAL/NORMAL2-IM-0503-0001.jpeg',\n",
       " '/home/aekanun/input/chest_xray/train/NORMAL/NORMAL2-IM-0506-0001.jpeg',\n",
       " '/home/aekanun/input/chest_xray/train/NORMAL/NORMAL2-IM-0507-0001.jpeg',\n",
       " '/home/aekanun/input/chest_xray/train/NORMAL/NORMAL2-IM-0508-0001.jpeg',\n",
       " '/home/aekanun/input/chest_xray/train/NORMAL/NORMAL2-IM-0509-0001.jpeg',\n",
       " '/home/aekanun/input/chest_xray/train/NORMAL/NORMAL2-IM-0511-0001.jpeg',\n",
       " '/home/aekanun/input/chest_xray/train/NORMAL/NORMAL2-IM-0512-0001.jpeg',\n",
       " '/home/aekanun/input/chest_xray/train/NORMAL/NORMAL2-IM-0513-0001.jpeg',\n",
       " '/home/aekanun/input/chest_xray/train/NORMAL/NORMAL2-IM-0515-0001.jpeg',\n",
       " '/home/aekanun/input/chest_xray/train/NORMAL/NORMAL2-IM-0516-0001.jpeg',\n",
       " '/home/aekanun/input/chest_xray/train/NORMAL/NORMAL2-IM-0517-0001.jpeg',\n",
       " '/home/aekanun/input/chest_xray/train/NORMAL/NORMAL2-IM-0518-0001.jpeg',\n",
       " '/home/aekanun/input/chest_xray/train/NORMAL/NORMAL2-IM-0520-0001.jpeg',\n",
       " '/home/aekanun/input/chest_xray/train/NORMAL/NORMAL2-IM-0521-0001.jpeg',\n",
       " '/home/aekanun/input/chest_xray/train/NORMAL/NORMAL2-IM-0522-0001.jpeg',\n",
       " '/home/aekanun/input/chest_xray/train/NORMAL/NORMAL2-IM-0523-0001.jpeg',\n",
       " '/home/aekanun/input/chest_xray/train/NORMAL/NORMAL2-IM-0525-0001.jpeg',\n",
       " '/home/aekanun/input/chest_xray/train/NORMAL/NORMAL2-IM-0526-0001.jpeg',\n",
       " '/home/aekanun/input/chest_xray/train/NORMAL/NORMAL2-IM-0528-0001.jpeg',\n",
       " '/home/aekanun/input/chest_xray/train/NORMAL/NORMAL2-IM-0529-0001.jpeg',\n",
       " '/home/aekanun/input/chest_xray/train/NORMAL/NORMAL2-IM-0530-0001.jpeg',\n",
       " '/home/aekanun/input/chest_xray/train/NORMAL/NORMAL2-IM-0531-0001.jpeg',\n",
       " '/home/aekanun/input/chest_xray/train/NORMAL/NORMAL2-IM-0533-0001.jpeg',\n",
       " '/home/aekanun/input/chest_xray/train/NORMAL/NORMAL2-IM-0535-0001-0002.jpeg',\n",
       " '/home/aekanun/input/chest_xray/train/NORMAL/NORMAL2-IM-0535-0001.jpeg',\n",
       " '/home/aekanun/input/chest_xray/train/NORMAL/NORMAL2-IM-0536-0001.jpeg',\n",
       " '/home/aekanun/input/chest_xray/train/NORMAL/NORMAL2-IM-0537-0001.jpeg',\n",
       " '/home/aekanun/input/chest_xray/train/NORMAL/NORMAL2-IM-0539-0001.jpeg',\n",
       " '/home/aekanun/input/chest_xray/train/NORMAL/NORMAL2-IM-0540-0001.jpeg',\n",
       " '/home/aekanun/input/chest_xray/train/NORMAL/NORMAL2-IM-0541-0001.jpeg',\n",
       " '/home/aekanun/input/chest_xray/train/NORMAL/NORMAL2-IM-0543-0001.jpeg',\n",
       " '/home/aekanun/input/chest_xray/train/NORMAL/NORMAL2-IM-0545-0001.jpeg',\n",
       " '/home/aekanun/input/chest_xray/train/NORMAL/NORMAL2-IM-0547-0001.jpeg',\n",
       " '/home/aekanun/input/chest_xray/train/NORMAL/NORMAL2-IM-0550-0001.jpeg',\n",
       " '/home/aekanun/input/chest_xray/train/NORMAL/NORMAL2-IM-0551-0001.jpeg',\n",
       " '/home/aekanun/input/chest_xray/train/NORMAL/NORMAL2-IM-0552-0001.jpeg',\n",
       " '/home/aekanun/input/chest_xray/train/NORMAL/NORMAL2-IM-0553-0001.jpeg',\n",
       " '/home/aekanun/input/chest_xray/train/NORMAL/NORMAL2-IM-0554-0001.jpeg',\n",
       " '/home/aekanun/input/chest_xray/train/NORMAL/NORMAL2-IM-0555-0001-0001.jpeg',\n",
       " '/home/aekanun/input/chest_xray/train/NORMAL/NORMAL2-IM-0555-0001-0002.jpeg',\n",
       " '/home/aekanun/input/chest_xray/train/NORMAL/NORMAL2-IM-0555-0001.jpeg',\n",
       " '/home/aekanun/input/chest_xray/train/NORMAL/NORMAL2-IM-0557-0001.jpeg',\n",
       " '/home/aekanun/input/chest_xray/train/NORMAL/NORMAL2-IM-0558-0001.jpeg',\n",
       " '/home/aekanun/input/chest_xray/train/NORMAL/NORMAL2-IM-0559-0001.jpeg',\n",
       " '/home/aekanun/input/chest_xray/train/NORMAL/NORMAL2-IM-0561-0001.jpeg',\n",
       " '/home/aekanun/input/chest_xray/train/NORMAL/NORMAL2-IM-0563-0001.jpeg',\n",
       " '/home/aekanun/input/chest_xray/train/NORMAL/NORMAL2-IM-0564-0001.jpeg',\n",
       " '/home/aekanun/input/chest_xray/train/NORMAL/NORMAL2-IM-0566-0001.jpeg',\n",
       " '/home/aekanun/input/chest_xray/train/NORMAL/NORMAL2-IM-0567-0001.jpeg',\n",
       " '/home/aekanun/input/chest_xray/train/NORMAL/NORMAL2-IM-0568-0001.jpeg',\n",
       " '/home/aekanun/input/chest_xray/train/NORMAL/NORMAL2-IM-0569-0001.jpeg',\n",
       " '/home/aekanun/input/chest_xray/train/NORMAL/NORMAL2-IM-0571-0001.jpeg',\n",
       " '/home/aekanun/input/chest_xray/train/NORMAL/NORMAL2-IM-0572-0001.jpeg',\n",
       " '/home/aekanun/input/chest_xray/train/NORMAL/NORMAL2-IM-0573-0001.jpeg',\n",
       " '/home/aekanun/input/chest_xray/train/NORMAL/NORMAL2-IM-0575-0001.jpeg',\n",
       " '/home/aekanun/input/chest_xray/train/NORMAL/NORMAL2-IM-0576-0001.jpeg',\n",
       " '/home/aekanun/input/chest_xray/train/NORMAL/NORMAL2-IM-0577-0001.jpeg',\n",
       " '/home/aekanun/input/chest_xray/train/NORMAL/NORMAL2-IM-0578-0001.jpeg',\n",
       " '/home/aekanun/input/chest_xray/train/NORMAL/NORMAL2-IM-0579-0001.jpeg',\n",
       " '/home/aekanun/input/chest_xray/train/NORMAL/NORMAL2-IM-0580-0001.jpeg',\n",
       " '/home/aekanun/input/chest_xray/train/NORMAL/NORMAL2-IM-0582-0001.jpeg',\n",
       " '/home/aekanun/input/chest_xray/train/NORMAL/NORMAL2-IM-0583-0001.jpeg',\n",
       " '/home/aekanun/input/chest_xray/train/NORMAL/NORMAL2-IM-0585-0001.jpeg',\n",
       " '/home/aekanun/input/chest_xray/train/NORMAL/NORMAL2-IM-0587-0001-0001.jpeg',\n",
       " '/home/aekanun/input/chest_xray/train/NORMAL/NORMAL2-IM-0587-0001-0002.jpeg',\n",
       " '/home/aekanun/input/chest_xray/train/NORMAL/NORMAL2-IM-0587-0001.jpeg',\n",
       " '/home/aekanun/input/chest_xray/train/NORMAL/NORMAL2-IM-0588-0001.jpeg',\n",
       " '/home/aekanun/input/chest_xray/train/NORMAL/NORMAL2-IM-0589-0001.jpeg',\n",
       " '/home/aekanun/input/chest_xray/train/NORMAL/NORMAL2-IM-0592-0001.jpeg',\n",
       " '/home/aekanun/input/chest_xray/train/NORMAL/NORMAL2-IM-0594-0001.jpeg',\n",
       " '/home/aekanun/input/chest_xray/train/NORMAL/NORMAL2-IM-0595-0001.jpeg',\n",
       " '/home/aekanun/input/chest_xray/train/NORMAL/NORMAL2-IM-0596-0001.jpeg',\n",
       " '/home/aekanun/input/chest_xray/train/NORMAL/NORMAL2-IM-0599-0001.jpeg',\n",
       " '/home/aekanun/input/chest_xray/train/NORMAL/NORMAL2-IM-0600-0001.jpeg',\n",
       " '/home/aekanun/input/chest_xray/train/NORMAL/NORMAL2-IM-0601-0001.jpeg',\n",
       " '/home/aekanun/input/chest_xray/train/NORMAL/NORMAL2-IM-0602-0001.jpeg',\n",
       " '/home/aekanun/input/chest_xray/train/NORMAL/NORMAL2-IM-0603-0001.jpeg',\n",
       " '/home/aekanun/input/chest_xray/train/NORMAL/NORMAL2-IM-0604-0001.jpeg',\n",
       " '/home/aekanun/input/chest_xray/train/NORMAL/NORMAL2-IM-0609-0001.jpeg',\n",
       " '/home/aekanun/input/chest_xray/train/NORMAL/NORMAL2-IM-0611-0001.jpeg',\n",
       " '/home/aekanun/input/chest_xray/train/NORMAL/NORMAL2-IM-0616-0001.jpeg',\n",
       " '/home/aekanun/input/chest_xray/train/NORMAL/NORMAL2-IM-0617-0001.jpeg',\n",
       " '/home/aekanun/input/chest_xray/train/NORMAL/NORMAL2-IM-0618-0001.jpeg',\n",
       " '/home/aekanun/input/chest_xray/train/NORMAL/NORMAL2-IM-0619-0001.jpeg',\n",
       " '/home/aekanun/input/chest_xray/train/NORMAL/NORMAL2-IM-0620-0001.jpeg',\n",
       " '/home/aekanun/input/chest_xray/train/NORMAL/NORMAL2-IM-0621-0001.jpeg',\n",
       " '/home/aekanun/input/chest_xray/train/NORMAL/NORMAL2-IM-0622-0001.jpeg',\n",
       " '/home/aekanun/input/chest_xray/train/NORMAL/NORMAL2-IM-0623-0001.jpeg',\n",
       " '/home/aekanun/input/chest_xray/train/NORMAL/NORMAL2-IM-0626-0001.jpeg',\n",
       " '/home/aekanun/input/chest_xray/train/NORMAL/NORMAL2-IM-0627-0001.jpeg',\n",
       " '/home/aekanun/input/chest_xray/train/NORMAL/NORMAL2-IM-0629-0001.jpeg',\n",
       " '/home/aekanun/input/chest_xray/train/NORMAL/NORMAL2-IM-0630-0001.jpeg',\n",
       " '/home/aekanun/input/chest_xray/train/NORMAL/NORMAL2-IM-0633-0001.jpeg',\n",
       " '/home/aekanun/input/chest_xray/train/NORMAL/NORMAL2-IM-0634-0001.jpeg',\n",
       " '/home/aekanun/input/chest_xray/train/NORMAL/NORMAL2-IM-0635-0001.jpeg',\n",
       " '/home/aekanun/input/chest_xray/train/NORMAL/NORMAL2-IM-0636-0001.jpeg',\n",
       " '/home/aekanun/input/chest_xray/train/NORMAL/NORMAL2-IM-0637-0001.jpeg',\n",
       " '/home/aekanun/input/chest_xray/train/NORMAL/NORMAL2-IM-0640-0001.jpeg',\n",
       " '/home/aekanun/input/chest_xray/train/NORMAL/NORMAL2-IM-0641-0001.jpeg',\n",
       " '/home/aekanun/input/chest_xray/train/NORMAL/NORMAL2-IM-0642-0001.jpeg',\n",
       " '/home/aekanun/input/chest_xray/train/NORMAL/NORMAL2-IM-0643-0001.jpeg',\n",
       " '/home/aekanun/input/chest_xray/train/NORMAL/NORMAL2-IM-0645-0001.jpeg',\n",
       " '/home/aekanun/input/chest_xray/train/NORMAL/NORMAL2-IM-0647-0001.jpeg',\n",
       " '/home/aekanun/input/chest_xray/train/NORMAL/NORMAL2-IM-0648-0001.jpeg',\n",
       " '/home/aekanun/input/chest_xray/train/NORMAL/NORMAL2-IM-0649-0001.jpeg',\n",
       " '/home/aekanun/input/chest_xray/train/NORMAL/NORMAL2-IM-0650-0001.jpeg',\n",
       " '/home/aekanun/input/chest_xray/train/NORMAL/NORMAL2-IM-0651-0001.jpeg',\n",
       " '/home/aekanun/input/chest_xray/train/NORMAL/NORMAL2-IM-0651-0004.jpeg',\n",
       " '/home/aekanun/input/chest_xray/train/NORMAL/NORMAL2-IM-0652-0001.jpeg',\n",
       " '/home/aekanun/input/chest_xray/train/NORMAL/NORMAL2-IM-0653-0001.jpeg',\n",
       " '/home/aekanun/input/chest_xray/train/NORMAL/NORMAL2-IM-0654-0001.jpeg',\n",
       " '/home/aekanun/input/chest_xray/train/NORMAL/NORMAL2-IM-0655-0001.jpeg',\n",
       " '/home/aekanun/input/chest_xray/train/NORMAL/NORMAL2-IM-0657-0001.jpeg',\n",
       " '/home/aekanun/input/chest_xray/train/NORMAL/NORMAL2-IM-0659-0001.jpeg',\n",
       " '/home/aekanun/input/chest_xray/train/NORMAL/NORMAL2-IM-0660-0001.jpeg',\n",
       " '/home/aekanun/input/chest_xray/train/NORMAL/NORMAL2-IM-0661-0001.jpeg',\n",
       " '/home/aekanun/input/chest_xray/train/NORMAL/NORMAL2-IM-0662-0001.jpeg',\n",
       " '/home/aekanun/input/chest_xray/train/NORMAL/NORMAL2-IM-0663-0001.jpeg',\n",
       " '/home/aekanun/input/chest_xray/train/NORMAL/NORMAL2-IM-0664-0001.jpeg',\n",
       " '/home/aekanun/input/chest_xray/train/NORMAL/NORMAL2-IM-0665-0001.jpeg',\n",
       " '/home/aekanun/input/chest_xray/train/NORMAL/NORMAL2-IM-0666-0001.jpeg',\n",
       " '/home/aekanun/input/chest_xray/train/NORMAL/NORMAL2-IM-0667-0001.jpeg',\n",
       " '/home/aekanun/input/chest_xray/train/NORMAL/NORMAL2-IM-0668-0001.jpeg',\n",
       " '/home/aekanun/input/chest_xray/train/NORMAL/NORMAL2-IM-0669-0001.jpeg',\n",
       " '/home/aekanun/input/chest_xray/train/NORMAL/NORMAL2-IM-0671-0001.jpeg',\n",
       " '/home/aekanun/input/chest_xray/train/NORMAL/NORMAL2-IM-0672-0001.jpeg',\n",
       " '/home/aekanun/input/chest_xray/train/NORMAL/NORMAL2-IM-0673-0001.jpeg',\n",
       " '/home/aekanun/input/chest_xray/train/NORMAL/NORMAL2-IM-0675-0001.jpeg',\n",
       " '/home/aekanun/input/chest_xray/train/NORMAL/NORMAL2-IM-0678-0001.jpeg',\n",
       " '/home/aekanun/input/chest_xray/train/NORMAL/NORMAL2-IM-0680-0001.jpeg',\n",
       " '/home/aekanun/input/chest_xray/train/NORMAL/NORMAL2-IM-0682-0001.jpeg',\n",
       " '/home/aekanun/input/chest_xray/train/NORMAL/NORMAL2-IM-0683-0001.jpeg',\n",
       " '/home/aekanun/input/chest_xray/train/NORMAL/NORMAL2-IM-0684-0001-0001.jpeg',\n",
       " '/home/aekanun/input/chest_xray/train/NORMAL/NORMAL2-IM-0686-0001.jpeg',\n",
       " '/home/aekanun/input/chest_xray/train/NORMAL/NORMAL2-IM-0687-0001.jpeg',\n",
       " '/home/aekanun/input/chest_xray/train/NORMAL/NORMAL2-IM-0689-0001.jpeg',\n",
       " '/home/aekanun/input/chest_xray/train/NORMAL/NORMAL2-IM-0690-0001.jpeg',\n",
       " '/home/aekanun/input/chest_xray/train/NORMAL/NORMAL2-IM-0692-0001.jpeg',\n",
       " '/home/aekanun/input/chest_xray/train/NORMAL/NORMAL2-IM-0693-0001.jpeg',\n",
       " '/home/aekanun/input/chest_xray/train/NORMAL/NORMAL2-IM-0694-0001.jpeg',\n",
       " '/home/aekanun/input/chest_xray/train/NORMAL/NORMAL2-IM-0695-0001.jpeg',\n",
       " '/home/aekanun/input/chest_xray/train/NORMAL/NORMAL2-IM-0696-0001.jpeg',\n",
       " '/home/aekanun/input/chest_xray/train/NORMAL/NORMAL2-IM-0698-0001.jpeg',\n",
       " '/home/aekanun/input/chest_xray/train/NORMAL/NORMAL2-IM-0699-0001.jpeg',\n",
       " '/home/aekanun/input/chest_xray/train/NORMAL/NORMAL2-IM-0700-0001.jpeg',\n",
       " '/home/aekanun/input/chest_xray/train/NORMAL/NORMAL2-IM-0702-0001.jpeg',\n",
       " '/home/aekanun/input/chest_xray/train/NORMAL/NORMAL2-IM-0705-0001.jpeg',\n",
       " '/home/aekanun/input/chest_xray/train/NORMAL/NORMAL2-IM-0707-0001.jpeg',\n",
       " '/home/aekanun/input/chest_xray/train/NORMAL/NORMAL2-IM-0718-0001.jpeg',\n",
       " '/home/aekanun/input/chest_xray/train/NORMAL/NORMAL2-IM-0719-0001.jpeg',\n",
       " '/home/aekanun/input/chest_xray/train/NORMAL/NORMAL2-IM-0723-0001.jpeg',\n",
       " '/home/aekanun/input/chest_xray/train/NORMAL/NORMAL2-IM-0725-0001.jpeg',\n",
       " '/home/aekanun/input/chest_xray/train/NORMAL/NORMAL2-IM-0727-0001.jpeg',\n",
       " '/home/aekanun/input/chest_xray/train/NORMAL/NORMAL2-IM-0730-0001.jpeg',\n",
       " '/home/aekanun/input/chest_xray/train/NORMAL/NORMAL2-IM-0736-0001.jpeg',\n",
       " '/home/aekanun/input/chest_xray/train/NORMAL/NORMAL2-IM-0741-0001.jpeg',\n",
       " '/home/aekanun/input/chest_xray/train/NORMAL/NORMAL2-IM-0744-0001.jpeg',\n",
       " '/home/aekanun/input/chest_xray/train/NORMAL/NORMAL2-IM-0746-0001.jpeg',\n",
       " '/home/aekanun/input/chest_xray/train/NORMAL/NORMAL2-IM-0749-0001.jpeg',\n",
       " '/home/aekanun/input/chest_xray/train/NORMAL/NORMAL2-IM-0753-0001.jpeg',\n",
       " '/home/aekanun/input/chest_xray/train/NORMAL/NORMAL2-IM-0757-0001.jpeg',\n",
       " '/home/aekanun/input/chest_xray/train/NORMAL/NORMAL2-IM-0765-0001.jpeg',\n",
       " '/home/aekanun/input/chest_xray/train/NORMAL/NORMAL2-IM-0771-0001.jpeg',\n",
       " '/home/aekanun/input/chest_xray/train/NORMAL/NORMAL2-IM-0772-0001.jpeg',\n",
       " '/home/aekanun/input/chest_xray/train/NORMAL/NORMAL2-IM-0774-0001.jpeg',\n",
       " '/home/aekanun/input/chest_xray/train/NORMAL/NORMAL2-IM-0775-0001.jpeg',\n",
       " '/home/aekanun/input/chest_xray/train/NORMAL/NORMAL2-IM-0776-0001.jpeg',\n",
       " '/home/aekanun/input/chest_xray/train/NORMAL/NORMAL2-IM-0777-0001.jpeg',\n",
       " '/home/aekanun/input/chest_xray/train/NORMAL/NORMAL2-IM-0780-0001.jpeg',\n",
       " '/home/aekanun/input/chest_xray/train/NORMAL/NORMAL2-IM-0781-0001.jpeg',\n",
       " '/home/aekanun/input/chest_xray/train/NORMAL/NORMAL2-IM-0790-0001.jpeg',\n",
       " '/home/aekanun/input/chest_xray/train/NORMAL/NORMAL2-IM-0793-0001.jpeg',\n",
       " '/home/aekanun/input/chest_xray/train/NORMAL/NORMAL2-IM-0796-0001.jpeg',\n",
       " '/home/aekanun/input/chest_xray/train/NORMAL/NORMAL2-IM-0797-0001.jpeg',\n",
       " '/home/aekanun/input/chest_xray/train/NORMAL/NORMAL2-IM-0798-0001.jpeg',\n",
       " '/home/aekanun/input/chest_xray/train/NORMAL/NORMAL2-IM-0799-0001.jpeg',\n",
       " '/home/aekanun/input/chest_xray/train/NORMAL/NORMAL2-IM-0803-0001.jpeg',\n",
       " '/home/aekanun/input/chest_xray/train/NORMAL/NORMAL2-IM-0804-0001.jpeg',\n",
       " '/home/aekanun/input/chest_xray/train/NORMAL/NORMAL2-IM-0806-0001.jpeg',\n",
       " '/home/aekanun/input/chest_xray/train/NORMAL/NORMAL2-IM-0807-0001.jpeg',\n",
       " '/home/aekanun/input/chest_xray/train/NORMAL/NORMAL2-IM-0808-0001.jpeg',\n",
       " '/home/aekanun/input/chest_xray/train/NORMAL/NORMAL2-IM-0809-0001.jpeg',\n",
       " '/home/aekanun/input/chest_xray/train/NORMAL/NORMAL2-IM-0810-0001.jpeg',\n",
       " '/home/aekanun/input/chest_xray/train/NORMAL/NORMAL2-IM-0811-0001.jpeg',\n",
       " '/home/aekanun/input/chest_xray/train/NORMAL/NORMAL2-IM-0812-0001.jpeg',\n",
       " '/home/aekanun/input/chest_xray/train/NORMAL/NORMAL2-IM-0814-0001.jpeg',\n",
       " '/home/aekanun/input/chest_xray/train/NORMAL/NORMAL2-IM-0815-0001.jpeg',\n",
       " '/home/aekanun/input/chest_xray/train/NORMAL/NORMAL2-IM-0816-0001.jpeg',\n",
       " '/home/aekanun/input/chest_xray/train/NORMAL/NORMAL2-IM-0818-0001-0002.jpeg',\n",
       " '/home/aekanun/input/chest_xray/train/NORMAL/NORMAL2-IM-0818-0001.jpeg',\n",
       " '/home/aekanun/input/chest_xray/train/NORMAL/NORMAL2-IM-0819-0001.jpeg',\n",
       " '/home/aekanun/input/chest_xray/train/NORMAL/NORMAL2-IM-0820-0001.jpeg',\n",
       " '/home/aekanun/input/chest_xray/train/NORMAL/NORMAL2-IM-0821-0001.jpeg',\n",
       " '/home/aekanun/input/chest_xray/train/NORMAL/NORMAL2-IM-0822-0001.jpeg',\n",
       " '/home/aekanun/input/chest_xray/train/NORMAL/NORMAL2-IM-0824-0001.jpeg',\n",
       " '/home/aekanun/input/chest_xray/train/NORMAL/NORMAL2-IM-0825-0001.jpeg',\n",
       " '/home/aekanun/input/chest_xray/train/NORMAL/NORMAL2-IM-0826-0001.jpeg',\n",
       " '/home/aekanun/input/chest_xray/train/NORMAL/NORMAL2-IM-0827-0001.jpeg',\n",
       " '/home/aekanun/input/chest_xray/train/NORMAL/NORMAL2-IM-0828-0001.jpeg',\n",
       " '/home/aekanun/input/chest_xray/train/NORMAL/NORMAL2-IM-0829-0001.jpeg',\n",
       " '/home/aekanun/input/chest_xray/train/NORMAL/NORMAL2-IM-0830-0001.jpeg',\n",
       " '/home/aekanun/input/chest_xray/train/NORMAL/NORMAL2-IM-0831-0001.jpeg',\n",
       " '/home/aekanun/input/chest_xray/train/NORMAL/NORMAL2-IM-0832-0001-0001.jpeg',\n",
       " '/home/aekanun/input/chest_xray/train/NORMAL/NORMAL2-IM-0832-0001-0002.jpeg',\n",
       " '/home/aekanun/input/chest_xray/train/NORMAL/NORMAL2-IM-0832-0001.jpeg',\n",
       " '/home/aekanun/input/chest_xray/train/NORMAL/NORMAL2-IM-0833-0001.jpeg',\n",
       " '/home/aekanun/input/chest_xray/train/NORMAL/NORMAL2-IM-0834-0001.jpeg',\n",
       " '/home/aekanun/input/chest_xray/train/NORMAL/NORMAL2-IM-0836-0001.jpeg',\n",
       " '/home/aekanun/input/chest_xray/train/NORMAL/NORMAL2-IM-0837-0001.jpeg',\n",
       " '/home/aekanun/input/chest_xray/train/NORMAL/NORMAL2-IM-0838-0001.jpeg',\n",
       " '/home/aekanun/input/chest_xray/train/NORMAL/NORMAL2-IM-0839-0001.jpeg',\n",
       " '/home/aekanun/input/chest_xray/train/NORMAL/NORMAL2-IM-0840-0001.jpeg',\n",
       " '/home/aekanun/input/chest_xray/train/NORMAL/NORMAL2-IM-0841-0001.jpeg',\n",
       " '/home/aekanun/input/chest_xray/train/NORMAL/NORMAL2-IM-0842-0001.jpeg',\n",
       " '/home/aekanun/input/chest_xray/train/NORMAL/NORMAL2-IM-0843-0001.jpeg',\n",
       " '/home/aekanun/input/chest_xray/train/NORMAL/NORMAL2-IM-0845-0001.jpeg',\n",
       " '/home/aekanun/input/chest_xray/train/NORMAL/NORMAL2-IM-0846-0001.jpeg',\n",
       " '/home/aekanun/input/chest_xray/train/NORMAL/NORMAL2-IM-0847-0001.jpeg',\n",
       " '/home/aekanun/input/chest_xray/train/NORMAL/NORMAL2-IM-0848-0001.jpeg',\n",
       " '/home/aekanun/input/chest_xray/train/NORMAL/NORMAL2-IM-0849-0001.jpeg',\n",
       " '/home/aekanun/input/chest_xray/train/NORMAL/NORMAL2-IM-0851-0001-0001.jpeg',\n",
       " '/home/aekanun/input/chest_xray/train/NORMAL/NORMAL2-IM-0851-0001-0002.jpeg',\n",
       " '/home/aekanun/input/chest_xray/train/NORMAL/NORMAL2-IM-0851-0001.jpeg',\n",
       " '/home/aekanun/input/chest_xray/train/NORMAL/NORMAL2-IM-0852-0001.jpeg',\n",
       " '/home/aekanun/input/chest_xray/train/NORMAL/NORMAL2-IM-0853-0001.jpeg',\n",
       " '/home/aekanun/input/chest_xray/train/NORMAL/NORMAL2-IM-0854-0001.jpeg',\n",
       " '/home/aekanun/input/chest_xray/train/NORMAL/NORMAL2-IM-0855-0001.jpeg',\n",
       " '/home/aekanun/input/chest_xray/train/NORMAL/NORMAL2-IM-0856-0001.jpeg',\n",
       " '/home/aekanun/input/chest_xray/train/NORMAL/NORMAL2-IM-0857-0001.jpeg',\n",
       " '/home/aekanun/input/chest_xray/train/NORMAL/NORMAL2-IM-0858-0001.jpeg',\n",
       " '/home/aekanun/input/chest_xray/train/NORMAL/NORMAL2-IM-0859-0001.jpeg',\n",
       " '/home/aekanun/input/chest_xray/train/NORMAL/NORMAL2-IM-0860-0001.jpeg',\n",
       " '/home/aekanun/input/chest_xray/train/NORMAL/NORMAL2-IM-0862-0001.jpeg',\n",
       " '/home/aekanun/input/chest_xray/train/NORMAL/NORMAL2-IM-0863-0001.jpeg',\n",
       " '/home/aekanun/input/chest_xray/train/NORMAL/NORMAL2-IM-0865-0001.jpeg',\n",
       " '/home/aekanun/input/chest_xray/train/NORMAL/NORMAL2-IM-0866-0001.jpeg',\n",
       " '/home/aekanun/input/chest_xray/train/NORMAL/NORMAL2-IM-0867-0001.jpeg',\n",
       " '/home/aekanun/input/chest_xray/train/NORMAL/NORMAL2-IM-0868-0001.jpeg',\n",
       " '/home/aekanun/input/chest_xray/train/NORMAL/NORMAL2-IM-0869-0001.jpeg',\n",
       " '/home/aekanun/input/chest_xray/train/NORMAL/NORMAL2-IM-0870-0001.jpeg',\n",
       " '/home/aekanun/input/chest_xray/train/NORMAL/NORMAL2-IM-0871-0001.jpeg',\n",
       " '/home/aekanun/input/chest_xray/train/NORMAL/NORMAL2-IM-0872-0001.jpeg',\n",
       " '/home/aekanun/input/chest_xray/train/NORMAL/NORMAL2-IM-0873-0001.jpeg',\n",
       " '/home/aekanun/input/chest_xray/train/NORMAL/NORMAL2-IM-0874-0001.jpeg',\n",
       " '/home/aekanun/input/chest_xray/train/NORMAL/NORMAL2-IM-0875-0001.jpeg',\n",
       " '/home/aekanun/input/chest_xray/train/NORMAL/NORMAL2-IM-0876-0001.jpeg',\n",
       " '/home/aekanun/input/chest_xray/train/NORMAL/NORMAL2-IM-0877-0001.jpeg',\n",
       " '/home/aekanun/input/chest_xray/train/NORMAL/NORMAL2-IM-0879-0001.jpeg',\n",
       " '/home/aekanun/input/chest_xray/train/NORMAL/NORMAL2-IM-0880-0001.jpeg',\n",
       " '/home/aekanun/input/chest_xray/train/NORMAL/NORMAL2-IM-0881-0001.jpeg',\n",
       " '/home/aekanun/input/chest_xray/train/NORMAL/NORMAL2-IM-0882-0001.jpeg',\n",
       " '/home/aekanun/input/chest_xray/train/NORMAL/NORMAL2-IM-0885-0001.jpeg',\n",
       " '/home/aekanun/input/chest_xray/train/NORMAL/NORMAL2-IM-0886-0001.jpeg',\n",
       " '/home/aekanun/input/chest_xray/train/NORMAL/NORMAL2-IM-0887-0001.jpeg',\n",
       " '/home/aekanun/input/chest_xray/train/NORMAL/NORMAL2-IM-0888-0001.jpeg',\n",
       " '/home/aekanun/input/chest_xray/train/NORMAL/NORMAL2-IM-0890-0001.jpeg',\n",
       " '/home/aekanun/input/chest_xray/train/NORMAL/NORMAL2-IM-0892-0001.jpeg',\n",
       " '/home/aekanun/input/chest_xray/train/NORMAL/NORMAL2-IM-0893-0001.jpeg',\n",
       " '/home/aekanun/input/chest_xray/train/NORMAL/NORMAL2-IM-0894-0001.jpeg',\n",
       " '/home/aekanun/input/chest_xray/train/NORMAL/NORMAL2-IM-0895-0001.jpeg',\n",
       " '/home/aekanun/input/chest_xray/train/NORMAL/NORMAL2-IM-0896-0001.jpeg',\n",
       " '/home/aekanun/input/chest_xray/train/NORMAL/NORMAL2-IM-0897-0001.jpeg',\n",
       " '/home/aekanun/input/chest_xray/train/NORMAL/NORMAL2-IM-0898-0001.jpeg',\n",
       " '/home/aekanun/input/chest_xray/train/NORMAL/NORMAL2-IM-0899-0001.jpeg',\n",
       " '/home/aekanun/input/chest_xray/train/NORMAL/NORMAL2-IM-0900-0001.jpeg',\n",
       " '/home/aekanun/input/chest_xray/train/NORMAL/NORMAL2-IM-0903-0001.jpeg',\n",
       " '/home/aekanun/input/chest_xray/train/NORMAL/NORMAL2-IM-0904-0001.jpeg',\n",
       " '/home/aekanun/input/chest_xray/train/NORMAL/NORMAL2-IM-0905-0001.jpeg',\n",
       " '/home/aekanun/input/chest_xray/train/NORMAL/NORMAL2-IM-0906-0001.jpeg',\n",
       " '/home/aekanun/input/chest_xray/train/NORMAL/NORMAL2-IM-0907-0001.jpeg',\n",
       " '/home/aekanun/input/chest_xray/train/NORMAL/NORMAL2-IM-0908-0001.jpeg',\n",
       " '/home/aekanun/input/chest_xray/train/NORMAL/NORMAL2-IM-0909-0001.jpeg',\n",
       " '/home/aekanun/input/chest_xray/train/NORMAL/NORMAL2-IM-0910-0001.jpeg',\n",
       " '/home/aekanun/input/chest_xray/train/NORMAL/NORMAL2-IM-0911-0001.jpeg',\n",
       " '/home/aekanun/input/chest_xray/train/NORMAL/NORMAL2-IM-0912-0001.jpeg',\n",
       " '/home/aekanun/input/chest_xray/train/NORMAL/NORMAL2-IM-0913-0001.jpeg',\n",
       " '/home/aekanun/input/chest_xray/train/NORMAL/NORMAL2-IM-0914-0001.jpeg',\n",
       " '/home/aekanun/input/chest_xray/train/NORMAL/NORMAL2-IM-0915-0001.jpeg',\n",
       " '/home/aekanun/input/chest_xray/train/NORMAL/NORMAL2-IM-0917-0001.jpeg',\n",
       " '/home/aekanun/input/chest_xray/train/NORMAL/NORMAL2-IM-0918-0001.jpeg',\n",
       " '/home/aekanun/input/chest_xray/train/NORMAL/NORMAL2-IM-0919-0001.jpeg',\n",
       " '/home/aekanun/input/chest_xray/train/NORMAL/NORMAL2-IM-0922-0001.jpeg',\n",
       " '/home/aekanun/input/chest_xray/train/NORMAL/NORMAL2-IM-0923-0001.jpeg',\n",
       " '/home/aekanun/input/chest_xray/train/NORMAL/NORMAL2-IM-0924-0001.jpeg',\n",
       " '/home/aekanun/input/chest_xray/train/NORMAL/NORMAL2-IM-0925-0001.jpeg',\n",
       " '/home/aekanun/input/chest_xray/train/NORMAL/NORMAL2-IM-0926-0001.jpeg',\n",
       " '/home/aekanun/input/chest_xray/train/NORMAL/NORMAL2-IM-0927-0001.jpeg',\n",
       " '/home/aekanun/input/chest_xray/train/NORMAL/NORMAL2-IM-0929-0001.jpeg',\n",
       " '/home/aekanun/input/chest_xray/train/NORMAL/NORMAL2-IM-0930-0001.jpeg',\n",
       " '/home/aekanun/input/chest_xray/train/NORMAL/NORMAL2-IM-0931-0001.jpeg',\n",
       " '/home/aekanun/input/chest_xray/train/NORMAL/NORMAL2-IM-0932-0001.jpeg',\n",
       " '/home/aekanun/input/chest_xray/train/NORMAL/NORMAL2-IM-0933-0001.jpeg',\n",
       " '/home/aekanun/input/chest_xray/train/NORMAL/NORMAL2-IM-0934-0001.jpeg',\n",
       " '/home/aekanun/input/chest_xray/train/NORMAL/NORMAL2-IM-0935-0001.jpeg',\n",
       " '/home/aekanun/input/chest_xray/train/NORMAL/NORMAL2-IM-0936-0001.jpeg',\n",
       " '/home/aekanun/input/chest_xray/train/NORMAL/NORMAL2-IM-0937-0001.jpeg',\n",
       " '/home/aekanun/input/chest_xray/train/NORMAL/NORMAL2-IM-0939-0001.jpeg',\n",
       " '/home/aekanun/input/chest_xray/train/NORMAL/NORMAL2-IM-0941-0001.jpeg',\n",
       " '/home/aekanun/input/chest_xray/train/NORMAL/NORMAL2-IM-0942-0001.jpeg',\n",
       " '/home/aekanun/input/chest_xray/train/NORMAL/NORMAL2-IM-0944-0001.jpeg',\n",
       " '/home/aekanun/input/chest_xray/train/NORMAL/NORMAL2-IM-0945-0001.jpeg',\n",
       " '/home/aekanun/input/chest_xray/train/NORMAL/NORMAL2-IM-0946-0001.jpeg',\n",
       " '/home/aekanun/input/chest_xray/train/NORMAL/NORMAL2-IM-0947-0001.jpeg',\n",
       " '/home/aekanun/input/chest_xray/train/NORMAL/NORMAL2-IM-0948-0001.jpeg',\n",
       " '/home/aekanun/input/chest_xray/train/NORMAL/NORMAL2-IM-0949-0001.jpeg',\n",
       " '/home/aekanun/input/chest_xray/train/NORMAL/NORMAL2-IM-0950-0001.jpeg',\n",
       " '/home/aekanun/input/chest_xray/train/NORMAL/NORMAL2-IM-0951-0001.jpeg',\n",
       " '/home/aekanun/input/chest_xray/train/NORMAL/NORMAL2-IM-0952-0001.jpeg',\n",
       " '/home/aekanun/input/chest_xray/train/NORMAL/NORMAL2-IM-0954-0001.jpeg',\n",
       " '/home/aekanun/input/chest_xray/train/NORMAL/NORMAL2-IM-0955-0001.jpeg',\n",
       " ...]"
      ]
     },
     "execution_count": 26,
     "metadata": {},
     "output_type": "execute_result"
    }
   ],
   "source": [
    "normal_files"
   ]
  },
  {
   "cell_type": "code",
   "execution_count": 27,
   "metadata": {
    "collapsed": true
   },
   "outputs": [],
   "source": [
    "from pyspark.sql.functions import lit\n",
    "from sparkdl.image import imageIO\n",
    "import pyspark.ml.linalg as spla\n",
    "import pyspark.sql.types as sptyp\n",
    "import numpy as np\n",
    "\n",
    "def CreateTrainImageUriandLabels(image_uris, label, cardinality):\n",
    "  # Create image categorical labels (integer IDs)\n",
    "  local_rows = []\n",
    "  for uri in image_uris:\n",
    "    label_inds = np.zeros(cardinality)\n",
    "    label_inds[label] = 1.0\n",
    "    one_hot_vec = spla.Vectors.dense(label_inds.tolist())\n",
    "    _row_struct = {\"uri\": uri, \"one_hot_label\": one_hot_vec, \"label\": float(label)}\n",
    "    row = sptyp.Row(**_row_struct)\n",
    "    local_rows.append(row)\n",
    "\n",
    "  image_uri_df = sqlContext.createDataFrame(local_rows)\n",
    "  return image_uri_df"
   ]
  },
  {
   "cell_type": "code",
   "execution_count": 28,
   "metadata": {
    "collapsed": true
   },
   "outputs": [],
   "source": [
    "label_cardinality = 2"
   ]
  },
  {
   "cell_type": "code",
   "execution_count": 29,
   "metadata": {
    "collapsed": true
   },
   "outputs": [],
   "source": [
    "normal_uri_df = CreateTrainImageUriandLabels(normal_files,0,label_cardinality)"
   ]
  },
  {
   "cell_type": "code",
   "execution_count": 30,
   "metadata": {},
   "outputs": [
    {
     "data": {
      "text/plain": [
       "1349"
      ]
     },
     "execution_count": 30,
     "metadata": {},
     "output_type": "execute_result"
    }
   ],
   "source": [
    "normal_uri_df.count()"
   ]
  },
  {
   "cell_type": "code",
   "execution_count": 31,
   "metadata": {
    "collapsed": true
   },
   "outputs": [],
   "source": [
    "pneumonia_uri_df = CreateTrainImageUriandLabels(pneumonia_files,1,label_cardinality)"
   ]
  },
  {
   "cell_type": "code",
   "execution_count": 32,
   "metadata": {},
   "outputs": [
    {
     "data": {
      "text/plain": [
       "3883"
      ]
     },
     "execution_count": 32,
     "metadata": {},
     "output_type": "execute_result"
    }
   ],
   "source": [
    "pneumonia_uri_df.count()"
   ]
  },
  {
   "cell_type": "code",
   "execution_count": 33,
   "metadata": {},
   "outputs": [
    {
     "data": {
      "text/plain": [
       "1349"
      ]
     },
     "execution_count": 33,
     "metadata": {},
     "output_type": "execute_result"
    }
   ],
   "source": [
    "normal_uri_df.count()"
   ]
  },
  {
   "cell_type": "code",
   "execution_count": 34,
   "metadata": {
    "collapsed": true
   },
   "outputs": [],
   "source": [
    "normal_train, normal_test, normal_dummy = normal_uri_df.randomSplit([0.01, 0.19, 0.8])"
   ]
  },
  {
   "cell_type": "code",
   "execution_count": 35,
   "metadata": {
    "collapsed": true
   },
   "outputs": [],
   "source": [
    "pneumonia_train, pneumonia_test, pneumonia_dummy = pneumonia_uri_df.randomSplit([0.004, 0.096, 0.9])"
   ]
  },
  {
   "cell_type": "code",
   "execution_count": 36,
   "metadata": {},
   "outputs": [
    {
     "data": {
      "text/plain": [
       "DataFrame[label: double, one_hot_label: vector, uri: string]"
      ]
     },
     "execution_count": 36,
     "metadata": {},
     "output_type": "execute_result"
    }
   ],
   "source": [
    "normal_train"
   ]
  },
  {
   "cell_type": "code",
   "execution_count": 37,
   "metadata": {},
   "outputs": [
    {
     "data": {
      "text/plain": [
       "12"
      ]
     },
     "execution_count": 37,
     "metadata": {},
     "output_type": "execute_result"
    }
   ],
   "source": [
    "normal_train.count()"
   ]
  },
  {
   "cell_type": "code",
   "execution_count": 38,
   "metadata": {},
   "outputs": [
    {
     "data": {
      "text/plain": [
       "[Row(label=0.0, one_hot_label=DenseVector([1.0, 0.0]), uri='/home/aekanun/input/chest_xray/train/NORMAL/IM-0133-0001.jpeg')]"
      ]
     },
     "execution_count": 38,
     "metadata": {},
     "output_type": "execute_result"
    }
   ],
   "source": [
    "normal_train.take(1)"
   ]
  },
  {
   "cell_type": "code",
   "execution_count": 39,
   "metadata": {},
   "outputs": [
    {
     "data": {
      "text/plain": [
       "[Row(label=1.0, one_hot_label=DenseVector([0.0, 1.0]), uri='/home/aekanun/input/chest_xray/train/PNEUMONIA/person1365_virus_2348.jpeg')]"
      ]
     },
     "execution_count": 39,
     "metadata": {},
     "output_type": "execute_result"
    }
   ],
   "source": [
    "pneumonia_train.take(1)"
   ]
  },
  {
   "cell_type": "code",
   "execution_count": 40,
   "metadata": {},
   "outputs": [
    {
     "data": {
      "text/plain": [
       "[Row(label=1.0, one_hot_label=DenseVector([0.0, 1.0]), uri='/home/aekanun/input/chest_xray/train/PNEUMONIA/person1001_bacteria_2932.jpeg')]"
      ]
     },
     "execution_count": 40,
     "metadata": {},
     "output_type": "execute_result"
    }
   ],
   "source": [
    "pneumonia_test.take(1)"
   ]
  },
  {
   "cell_type": "code",
   "execution_count": 41,
   "metadata": {},
   "outputs": [
    {
     "data": {
      "text/plain": [
       "9"
      ]
     },
     "execution_count": 41,
     "metadata": {},
     "output_type": "execute_result"
    }
   ],
   "source": [
    "pneumonia_train.count()"
   ]
  },
  {
   "cell_type": "code",
   "execution_count": 42,
   "metadata": {},
   "outputs": [
    {
     "data": {
      "text/plain": [
       "[Row(label=1.0, one_hot_label=DenseVector([0.0, 1.0]), uri='/home/aekanun/input/chest_xray/train/PNEUMONIA/person1365_virus_2348.jpeg'),\n",
       " Row(label=1.0, one_hot_label=DenseVector([0.0, 1.0]), uri='/home/aekanun/input/chest_xray/train/PNEUMONIA/person1481_bacteria_3864.jpeg'),\n",
       " Row(label=1.0, one_hot_label=DenseVector([0.0, 1.0]), uri='/home/aekanun/input/chest_xray/train/PNEUMONIA/person1595_virus_2771.jpeg'),\n",
       " Row(label=1.0, one_hot_label=DenseVector([0.0, 1.0]), uri='/home/aekanun/input/chest_xray/train/PNEUMONIA/person337_bacteria_1564.jpeg'),\n",
       " Row(label=1.0, one_hot_label=DenseVector([0.0, 1.0]), uri='/home/aekanun/input/chest_xray/train/PNEUMONIA/person38_bacteria_195.jpeg'),\n",
       " Row(label=1.0, one_hot_label=DenseVector([0.0, 1.0]), uri='/home/aekanun/input/chest_xray/train/PNEUMONIA/person462_bacteria_1961.jpeg'),\n",
       " Row(label=1.0, one_hot_label=DenseVector([0.0, 1.0]), uri='/home/aekanun/input/chest_xray/train/PNEUMONIA/person470_bacteria_2003.jpeg'),\n",
       " Row(label=1.0, one_hot_label=DenseVector([0.0, 1.0]), uri='/home/aekanun/input/chest_xray/train/PNEUMONIA/person506_bacteria_2138.jpeg'),\n",
       " Row(label=1.0, one_hot_label=DenseVector([0.0, 1.0]), uri='/home/aekanun/input/chest_xray/train/PNEUMONIA/person510_bacteria_2148.jpeg')]"
      ]
     },
     "execution_count": 42,
     "metadata": {},
     "output_type": "execute_result"
    }
   ],
   "source": [
    "pneumonia_train.take(10)"
   ]
  },
  {
   "cell_type": "code",
   "execution_count": 43,
   "metadata": {
    "collapsed": true
   },
   "outputs": [],
   "source": [
    "train_df = normal_train.unionAll(pneumonia_train)\n",
    "test_df = normal_test.unionAll(pneumonia_test)"
   ]
  },
  {
   "cell_type": "code",
   "execution_count": 44,
   "metadata": {},
   "outputs": [
    {
     "data": {
      "text/plain": [
       "21"
      ]
     },
     "execution_count": 44,
     "metadata": {},
     "output_type": "execute_result"
    }
   ],
   "source": [
    "train_df.count()"
   ]
  },
  {
   "cell_type": "code",
   "execution_count": 45,
   "metadata": {},
   "outputs": [
    {
     "data": {
      "text/plain": [
       "645"
      ]
     },
     "execution_count": 45,
     "metadata": {},
     "output_type": "execute_result"
    }
   ],
   "source": [
    "test_df.count()"
   ]
  },
  {
   "cell_type": "code",
   "execution_count": 46,
   "metadata": {
    "collapsed": true
   },
   "outputs": [],
   "source": [
    "train_df = train_df.repartition(80000)\n",
    "test_df = test_df.repartition(80000)"
   ]
  },
  {
   "cell_type": "code",
   "execution_count": 47,
   "metadata": {
    "collapsed": true
   },
   "outputs": [],
   "source": [
    "! rm -rf /tmp/*.h5"
   ]
  },
  {
   "cell_type": "code",
   "execution_count": 48,
   "metadata": {
    "collapsed": true
   },
   "outputs": [],
   "source": [
    "#Import Keras Model and Customize it with Keras Layers\n",
    "from keras.layers import *\n",
    "from keras.models import Sequential\n",
    "\n",
    "model = Sequential()"
   ]
  },
  {
   "cell_type": "code",
   "execution_count": 49,
   "metadata": {
    "collapsed": true
   },
   "outputs": [],
   "source": [
    "#conv-1\n",
    "model.add(ZeroPadding2D((1,1),input_shape=(226, 226, 3)))\n",
    "model.add(Conv2D(96, (24,24), strides=(2, 2),activation='relu'))  \n",
    "\n",
    "#conv-2\n",
    "model.add(ZeroPadding2D((1,1)))\n",
    "model.add(Conv2D(16, (1,1),activation='relu'))  \n",
    "model.add(ZeroPadding2D((1,1)))\n",
    "model.add(Conv2D(256,(16,16),activation='relu'))\n",
    "\n",
    "#max pool-1\n",
    "model.add(MaxPooling2D((2,2),strides=(2,2))) "
   ]
  },
  {
   "cell_type": "code",
   "execution_count": 50,
   "metadata": {
    "collapsed": true
   },
   "outputs": [],
   "source": [
    "#conv-3\n",
    "model.add(ZeroPadding2D((1,1)))\n",
    "model.add(Conv2D(16, (1,1),activation='relu'))  \n",
    "model.add(ZeroPadding2D((1,1)))\n",
    "model.add(Conv2D(384, (3,3),activation='relu'))  \n",
    "\n",
    "#conv-4\n",
    "model.add(ZeroPadding2D((1,1)))\n",
    "model.add(Conv2D(256,(16,16),activation='relu')) "
   ]
  },
  {
   "cell_type": "code",
   "execution_count": 51,
   "metadata": {
    "collapsed": true
   },
   "outputs": [],
   "source": [
    "#conv-5\n",
    "model.add(ZeroPadding2D((1,1)))\n",
    "model.add(Conv2D(96, (24,24),activation='relu'))  \n",
    "\n",
    "#max pool-2\n",
    "model.add(ZeroPadding2D((1,1)))\n",
    "model.add(MaxPooling2D((3,3),strides=(1,1))) \n"
   ]
  },
  {
   "cell_type": "code",
   "execution_count": 52,
   "metadata": {
    "collapsed": true
   },
   "outputs": [],
   "source": [
    "model.add(Flatten(input_shape=(11, 11, 96)))\n",
    "model.add(Dense(2))\n",
    "model.add(Activation(\"softmax\"))\n",
    "model.save('/tmp/model-small.h5')  # saves to the local filesystem"
   ]
  },
  {
   "cell_type": "code",
   "execution_count": 53,
   "metadata": {},
   "outputs": [
    {
     "name": "stdout",
     "output_type": "stream",
     "text": [
      "-rw-rw-r-- 1 aekanun aekanun 156M Aug  7 07:31 /tmp/model-small.h5\r\n"
     ]
    }
   ],
   "source": [
    "! ls -lh /tmp/model-small.h5"
   ]
  },
  {
   "cell_type": "code",
   "execution_count": 54,
   "metadata": {
    "collapsed": true
   },
   "outputs": [],
   "source": [
    "import PIL.Image\n",
    "import numpy as np\n",
    "from keras.applications.imagenet_utils import preprocess_input\n",
    "\n",
    "def load_image_from_uri(local_uri):\n",
    "  img = (PIL.Image.open(local_uri).convert('RGB').resize((226, 226), PIL.Image.ANTIALIAS))\n",
    "  img_arr = np.array(img).astype(np.float32)\n",
    "  img_tnsr = preprocess_input(img_arr[np.newaxis, :])\n",
    "  return img_tnsr"
   ]
  },
  {
   "cell_type": "code",
   "execution_count": 55,
   "metadata": {},
   "outputs": [
    {
     "data": {
      "text/plain": [
       "DataFrame[label: double, one_hot_label: vector, uri: string]"
      ]
     },
     "execution_count": 55,
     "metadata": {},
     "output_type": "execute_result"
    }
   ],
   "source": [
    "train_df"
   ]
  },
  {
   "cell_type": "code",
   "execution_count": 56,
   "metadata": {},
   "outputs": [
    {
     "data": {
      "text/plain": [
       "[Row(one_hot_label=DenseVector([0.0, 1.0])),\n",
       " Row(one_hot_label=DenseVector([1.0, 0.0])),\n",
       " Row(one_hot_label=DenseVector([1.0, 0.0])),\n",
       " Row(one_hot_label=DenseVector([1.0, 0.0])),\n",
       " Row(one_hot_label=DenseVector([1.0, 0.0]))]"
      ]
     },
     "execution_count": 56,
     "metadata": {},
     "output_type": "execute_result"
    }
   ],
   "source": [
    "train_df.select('one_hot_label').take(5)"
   ]
  },
  {
   "cell_type": "code",
   "execution_count": 57,
   "metadata": {},
   "outputs": [
    {
     "name": "stdout",
     "output_type": "stream",
     "text": [
      "_________________________________________________________________\n",
      "Layer (type)                 Output Shape              Param #   \n",
      "=================================================================\n",
      "zero_padding2d_1 (ZeroPaddin (None, 228, 228, 3)       0         \n",
      "_________________________________________________________________\n",
      "conv2d_1 (Conv2D)            (None, 103, 103, 96)      165984    \n",
      "_________________________________________________________________\n",
      "zero_padding2d_2 (ZeroPaddin (None, 105, 105, 96)      0         \n",
      "_________________________________________________________________\n",
      "conv2d_2 (Conv2D)            (None, 105, 105, 16)      1552      \n",
      "_________________________________________________________________\n",
      "zero_padding2d_3 (ZeroPaddin (None, 107, 107, 16)      0         \n",
      "_________________________________________________________________\n",
      "conv2d_3 (Conv2D)            (None, 92, 92, 256)       1048832   \n",
      "_________________________________________________________________\n",
      "max_pooling2d_1 (MaxPooling2 (None, 46, 46, 256)       0         \n",
      "_________________________________________________________________\n",
      "zero_padding2d_4 (ZeroPaddin (None, 48, 48, 256)       0         \n",
      "_________________________________________________________________\n",
      "conv2d_4 (Conv2D)            (None, 48, 48, 16)        4112      \n",
      "_________________________________________________________________\n",
      "zero_padding2d_5 (ZeroPaddin (None, 50, 50, 16)        0         \n",
      "_________________________________________________________________\n",
      "conv2d_5 (Conv2D)            (None, 48, 48, 384)       55680     \n",
      "_________________________________________________________________\n",
      "zero_padding2d_6 (ZeroPaddin (None, 50, 50, 384)       0         \n",
      "_________________________________________________________________\n",
      "conv2d_6 (Conv2D)            (None, 35, 35, 256)       25166080  \n",
      "_________________________________________________________________\n",
      "zero_padding2d_7 (ZeroPaddin (None, 37, 37, 256)       0         \n",
      "_________________________________________________________________\n",
      "conv2d_7 (Conv2D)            (None, 14, 14, 96)        14155872  \n",
      "_________________________________________________________________\n",
      "zero_padding2d_8 (ZeroPaddin (None, 16, 16, 96)        0         \n",
      "_________________________________________________________________\n",
      "max_pooling2d_2 (MaxPooling2 (None, 14, 14, 96)        0         \n",
      "_________________________________________________________________\n",
      "flatten_1 (Flatten)          (None, 18816)             0         \n",
      "_________________________________________________________________\n",
      "dense_1 (Dense)              (None, 2)                 37634     \n",
      "_________________________________________________________________\n",
      "activation_1 (Activation)    (None, 2)                 0         \n",
      "=================================================================\n",
      "Total params: 40,635,746\n",
      "Trainable params: 40,635,746\n",
      "Non-trainable params: 0\n",
      "_________________________________________________________________\n"
     ]
    }
   ],
   "source": [
    "model.summary()"
   ]
  },
  {
   "cell_type": "code",
   "execution_count": 58,
   "metadata": {
    "collapsed": true
   },
   "outputs": [],
   "source": [
    "#load_image_from_uri('/home/aekanun/input/chest_xray/train/PNEUMONIA/person30_bacteria_152.jpeg')"
   ]
  },
  {
   "cell_type": "code",
   "execution_count": 59,
   "metadata": {},
   "outputs": [
    {
     "name": "stdout",
     "output_type": "stream",
     "text": [
      "-rw-rw-r-- 1 aekanun aekanun 162589648 Aug  7 07:31 /tmp/model-small.h5\r\n"
     ]
    }
   ],
   "source": [
    "! ls -l /tmp/model-small.h5"
   ]
  },
  {
   "cell_type": "code",
   "execution_count": 60,
   "metadata": {
    "collapsed": true
   },
   "outputs": [],
   "source": [
    "from sparkdl.estimators.keras_image_file_estimator import KerasImageFileEstimator\n",
    "\n",
    "#dbutils.fs.cp(dbfs_model_small_path, 'file:/tmp/model-small-tmp.h5')\n",
    "estimator = KerasImageFileEstimator(inputCol=\"uri\",\n",
    "                                    outputCol=\"prediction\",\n",
    "                                    labelCol=\"one_hot_label\",\n",
    "                                    imageLoader=load_image_from_uri,\n",
    "                                    kerasOptimizer='adam',\n",
    "                                    kerasLoss='categorical_crossentropy',\n",
    "                                    kerasFitParams={'verbose':2,'epochs':25},\n",
    "                                    modelFile='/tmp/model-small.h5')"
   ]
  },
  {
   "cell_type": "code",
   "execution_count": 61,
   "metadata": {},
   "outputs": [
    {
     "data": {
      "text/plain": [
       "[Row(label=1.0, one_hot_label=DenseVector([0.0, 1.0]), uri='/home/aekanun/input/chest_xray/train/PNEUMONIA/person337_bacteria_1564.jpeg'),\n",
       " Row(label=0.0, one_hot_label=DenseVector([1.0, 0.0]), uri='/home/aekanun/input/chest_xray/train/NORMAL/NORMAL2-IM-0898-0001.jpeg'),\n",
       " Row(label=0.0, one_hot_label=DenseVector([1.0, 0.0]), uri='/home/aekanun/input/chest_xray/train/NORMAL/NORMAL2-IM-0619-0001.jpeg')]"
      ]
     },
     "execution_count": 61,
     "metadata": {},
     "output_type": "execute_result"
    }
   ],
   "source": [
    "train_df.take(3)"
   ]
  },
  {
   "cell_type": "code",
   "execution_count": 62,
   "metadata": {},
   "outputs": [
    {
     "name": "stdout",
     "output_type": "stream",
     "text": [
      "-rw-r--r-- 1 aekanun aekanun 87371 Jan  5  2018 /home/aekanun/input/chest_xray/train/PNEUMONIA/person25_bacteria_116.jpeg\r\n"
     ]
    }
   ],
   "source": [
    "! ls -l /home/aekanun/input/chest_xray/train/PNEUMONIA/person25_bacteria_116.jpeg"
   ]
  },
  {
   "cell_type": "code",
   "execution_count": 63,
   "metadata": {},
   "outputs": [
    {
     "data": {
      "text/plain": [
       "21"
      ]
     },
     "execution_count": 63,
     "metadata": {},
     "output_type": "execute_result"
    }
   ],
   "source": [
    "train_df.dropna().count()"
   ]
  },
  {
   "cell_type": "code",
   "execution_count": 64,
   "metadata": {
    "collapsed": true
   },
   "outputs": [],
   "source": [
    "from pyspark.ml.classification import LogisticRegression\n",
    "from pyspark.ml import Pipeline"
   ]
  },
  {
   "cell_type": "code",
   "execution_count": 65,
   "metadata": {},
   "outputs": [
    {
     "data": {
      "text/plain": [
       "AutoBatchedSerializer(PickleSerializer())"
      ]
     },
     "execution_count": 65,
     "metadata": {},
     "output_type": "execute_result"
    }
   ],
   "source": [
    "sc.serializer"
   ]
  },
  {
   "cell_type": "code",
   "execution_count": 66,
   "metadata": {},
   "outputs": [
    {
     "data": {
      "text/plain": [
       "65536"
      ]
     },
     "execution_count": 66,
     "metadata": {},
     "output_type": "execute_result"
    }
   ],
   "source": [
    "sc.serializer.bestSize"
   ]
  },
  {
   "cell_type": "code",
   "execution_count": 67,
   "metadata": {
    "collapsed": true
   },
   "outputs": [],
   "source": [
    "import time as t"
   ]
  },
  {
   "cell_type": "code",
   "execution_count": 68,
   "metadata": {
    "collapsed": true
   },
   "outputs": [],
   "source": [
    "start_train_timer = t.time()"
   ]
  },
  {
   "cell_type": "code",
   "execution_count": 69,
   "metadata": {
    "collapsed": true
   },
   "outputs": [],
   "source": [
    "from pyspark.ml.evaluation import BinaryClassificationEvaluator\n",
    "from pyspark.ml.tuning import CrossValidator, ParamGridBuilder\n",
    "\n",
    "\n",
    "\n",
    "cvModel = estimator.fit(train_df)"
   ]
  },
  {
   "cell_type": "code",
   "execution_count": 70,
   "metadata": {},
   "outputs": [
    {
     "data": {
      "text/plain": [
       "1457.2406022548676"
      ]
     },
     "execution_count": 70,
     "metadata": {},
     "output_type": "execute_result"
    }
   ],
   "source": [
    "t.time() - start_train_timer"
   ]
  },
  {
   "cell_type": "code",
   "execution_count": 71,
   "metadata": {},
   "outputs": [
    {
     "data": {
      "text/plain": [
       "KerasImageFileTransformer_4d66793a4103"
      ]
     },
     "execution_count": 71,
     "metadata": {},
     "output_type": "execute_result"
    }
   ],
   "source": [
    "cvModel"
   ]
  },
  {
   "cell_type": "code",
   "execution_count": 72,
   "metadata": {},
   "outputs": [
    {
     "data": {
      "text/plain": [
       "21"
      ]
     },
     "execution_count": 72,
     "metadata": {},
     "output_type": "execute_result"
    }
   ],
   "source": [
    "train_df.count()"
   ]
  },
  {
   "cell_type": "code",
   "execution_count": 73,
   "metadata": {},
   "outputs": [
    {
     "data": {
      "text/plain": [
       "<bound method Params.set of KerasImageFileTransformer_4d66793a4103>"
      ]
     },
     "execution_count": 73,
     "metadata": {},
     "output_type": "execute_result"
    }
   ],
   "source": [
    "cvModel.set"
   ]
  },
  {
   "cell_type": "code",
   "execution_count": 74,
   "metadata": {},
   "outputs": [
    {
     "data": {
      "text/plain": [
       "645"
      ]
     },
     "execution_count": 74,
     "metadata": {},
     "output_type": "execute_result"
    }
   ],
   "source": [
    "test_df.count()"
   ]
  },
  {
   "cell_type": "code",
   "execution_count": 75,
   "metadata": {
    "collapsed": true
   },
   "outputs": [],
   "source": [
    "start_test_timer = t.time()"
   ]
  },
  {
   "cell_type": "code",
   "execution_count": 76,
   "metadata": {
    "collapsed": true
   },
   "outputs": [],
   "source": [
    "mc = BinaryClassificationEvaluator(rawPredictionCol=\"prediction\", labelCol=\"label\" )"
   ]
  },
  {
   "cell_type": "code",
   "execution_count": 77,
   "metadata": {},
   "outputs": [
    {
     "name": "stdout",
     "output_type": "stream",
     "text": [
      "INFO:tensorflow:Froze 16 variables.\n"
     ]
    },
    {
     "name": "stderr",
     "output_type": "stream",
     "text": [
      "/home/aekanun/.local/lib/python3.6/site-packages/keras/models.py:255: UserWarning: No training configuration found in save file: the model was *not* compiled. Compile it manually.\n",
      "  warnings.warn('No training configuration found in save file: '\n"
     ]
    },
    {
     "name": "stdout",
     "output_type": "stream",
     "text": [
      "Converted 16 variables to const ops.\n",
      "INFO:tensorflow:Froze 0 variables.\n",
      "Converted 0 variables to const ops.\n"
     ]
    }
   ],
   "source": [
    "eval_result = mc.evaluate(cvModel.transform(test_df))"
   ]
  },
  {
   "cell_type": "code",
   "execution_count": 78,
   "metadata": {},
   "outputs": [
    {
     "data": {
      "text/plain": [
       "1397.2492926120758"
      ]
     },
     "execution_count": 78,
     "metadata": {},
     "output_type": "execute_result"
    }
   ],
   "source": [
    "t.time() - start_test_timer"
   ]
  },
  {
   "cell_type": "code",
   "execution_count": 79,
   "metadata": {},
   "outputs": [
    {
     "data": {
      "text/plain": [
       "0.6440057190982625"
      ]
     },
     "execution_count": 79,
     "metadata": {},
     "output_type": "execute_result"
    }
   ],
   "source": [
    "eval_result"
   ]
  },
  {
   "cell_type": "code",
   "execution_count": 80,
   "metadata": {},
   "outputs": [
    {
     "data": {
      "text/plain": [
       "KerasImageFileTransformer_4d66793a4103"
      ]
     },
     "execution_count": 80,
     "metadata": {},
     "output_type": "execute_result"
    }
   ],
   "source": [
    "cvModel"
   ]
  },
  {
   "cell_type": "code",
   "execution_count": 81,
   "metadata": {},
   "outputs": [
    {
     "name": "stdout",
     "output_type": "stream",
     "text": [
      "INFO:tensorflow:Froze 16 variables.\n"
     ]
    },
    {
     "name": "stderr",
     "output_type": "stream",
     "text": [
      "/home/aekanun/.local/lib/python3.6/site-packages/keras/models.py:255: UserWarning: No training configuration found in save file: the model was *not* compiled. Compile it manually.\n",
      "  warnings.warn('No training configuration found in save file: '\n"
     ]
    },
    {
     "name": "stdout",
     "output_type": "stream",
     "text": [
      "Converted 16 variables to const ops.\n",
      "INFO:tensorflow:Froze 0 variables.\n",
      "Converted 0 variables to const ops.\n"
     ]
    }
   ],
   "source": [
    "performance_df = cvModel.transform(test_df)"
   ]
  },
  {
   "cell_type": "code",
   "execution_count": 82,
   "metadata": {
    "collapsed": true
   },
   "outputs": [],
   "source": [
    "from pyspark.sql.functions import col"
   ]
  },
  {
   "cell_type": "code",
   "execution_count": 83,
   "metadata": {},
   "outputs": [
    {
     "data": {
      "text/plain": [
       "[Row(uri='/home/aekanun/input/chest_xray/train/NORMAL/NORMAL2-IM-0874-0001.jpeg', label=0.0, one_hot_label=DenseVector([1.0, 0.0]), prediction=DenseVector([0.3839, 0.6161])),\n",
       " Row(uri='/home/aekanun/input/chest_xray/train/NORMAL/NORMAL2-IM-0753-0001.jpeg', label=0.0, one_hot_label=DenseVector([1.0, 0.0]), prediction=DenseVector([0.4976, 0.5024])),\n",
       " Row(uri='/home/aekanun/input/chest_xray/train/NORMAL/NORMAL2-IM-1310-0001.jpeg', label=0.0, one_hot_label=DenseVector([1.0, 0.0]), prediction=DenseVector([0.356, 0.644])),\n",
       " Row(uri='/home/aekanun/input/chest_xray/train/NORMAL/NORMAL2-IM-1160-0001.jpeg', label=0.0, one_hot_label=DenseVector([1.0, 0.0]), prediction=DenseVector([0.3177, 0.6823])),\n",
       " Row(uri='/home/aekanun/input/chest_xray/train/NORMAL/NORMAL2-IM-0550-0001.jpeg', label=0.0, one_hot_label=DenseVector([1.0, 0.0]), prediction=DenseVector([0.3449, 0.6551])),\n",
       " Row(uri='/home/aekanun/input/chest_xray/train/NORMAL/NORMAL2-IM-1365-0001.jpeg', label=0.0, one_hot_label=DenseVector([1.0, 0.0]), prediction=DenseVector([0.3739, 0.6261])),\n",
       " Row(uri='/home/aekanun/input/chest_xray/train/NORMAL/NORMAL2-IM-0508-0001.jpeg', label=0.0, one_hot_label=DenseVector([1.0, 0.0]), prediction=DenseVector([0.3739, 0.6261])),\n",
       " Row(uri='/home/aekanun/input/chest_xray/train/NORMAL/NORMAL2-IM-1247-0001.jpeg', label=0.0, one_hot_label=DenseVector([1.0, 0.0]), prediction=DenseVector([0.3695, 0.6305])),\n",
       " Row(uri='/home/aekanun/input/chest_xray/train/NORMAL/NORMAL2-IM-0814-0001.jpeg', label=0.0, one_hot_label=DenseVector([1.0, 0.0]), prediction=DenseVector([0.3823, 0.6177])),\n",
       " Row(uri='/home/aekanun/input/chest_xray/train/NORMAL/NORMAL2-IM-0636-0001.jpeg', label=0.0, one_hot_label=DenseVector([1.0, 0.0]), prediction=DenseVector([0.3362, 0.6638])),\n",
       " Row(uri='/home/aekanun/input/chest_xray/train/NORMAL/NORMAL2-IM-0626-0001.jpeg', label=0.0, one_hot_label=DenseVector([1.0, 0.0]), prediction=DenseVector([0.4847, 0.5153])),\n",
       " Row(uri='/home/aekanun/input/chest_xray/train/NORMAL/NORMAL2-IM-1123-0001.jpeg', label=0.0, one_hot_label=DenseVector([1.0, 0.0]), prediction=DenseVector([0.3983, 0.6017])),\n",
       " Row(uri='/home/aekanun/input/chest_xray/train/NORMAL/NORMAL2-IM-0849-0001.jpeg', label=0.0, one_hot_label=DenseVector([1.0, 0.0]), prediction=DenseVector([0.4462, 0.5538])),\n",
       " Row(uri='/home/aekanun/input/chest_xray/train/NORMAL/NORMAL2-IM-0875-0001.jpeg', label=0.0, one_hot_label=DenseVector([1.0, 0.0]), prediction=DenseVector([0.4018, 0.5982])),\n",
       " Row(uri='/home/aekanun/input/chest_xray/train/NORMAL/NORMAL2-IM-1262-0001.jpeg', label=0.0, one_hot_label=DenseVector([1.0, 0.0]), prediction=DenseVector([0.4164, 0.5836])),\n",
       " Row(uri='/home/aekanun/input/chest_xray/train/NORMAL/NORMAL2-IM-0971-0001-0002.jpeg', label=0.0, one_hot_label=DenseVector([1.0, 0.0]), prediction=DenseVector([0.3757, 0.6243])),\n",
       " Row(uri='/home/aekanun/input/chest_xray/train/NORMAL/NORMAL2-IM-1192-0001.jpeg', label=0.0, one_hot_label=DenseVector([1.0, 0.0]), prediction=DenseVector([0.4131, 0.5869])),\n",
       " Row(uri='/home/aekanun/input/chest_xray/train/NORMAL/NORMAL2-IM-1294-0001.jpeg', label=0.0, one_hot_label=DenseVector([1.0, 0.0]), prediction=DenseVector([0.3688, 0.6312])),\n",
       " Row(uri='/home/aekanun/input/chest_xray/train/NORMAL/NORMAL2-IM-1277-0001-0002.jpeg', label=0.0, one_hot_label=DenseVector([1.0, 0.0]), prediction=DenseVector([0.3544, 0.6456])),\n",
       " Row(uri='/home/aekanun/input/chest_xray/train/NORMAL/NORMAL2-IM-1329-0001.jpeg', label=0.0, one_hot_label=DenseVector([1.0, 0.0]), prediction=DenseVector([0.3739, 0.6261])),\n",
       " Row(uri='/home/aekanun/input/chest_xray/train/NORMAL/NORMAL2-IM-0851-0001-0001.jpeg', label=0.0, one_hot_label=DenseVector([1.0, 0.0]), prediction=DenseVector([0.4501, 0.5499])),\n",
       " Row(uri='/home/aekanun/input/chest_xray/train/NORMAL/NORMAL2-IM-0602-0001.jpeg', label=0.0, one_hot_label=DenseVector([1.0, 0.0]), prediction=DenseVector([0.3615, 0.6385])),\n",
       " Row(uri='/home/aekanun/input/chest_xray/train/NORMAL/NORMAL2-IM-0501-0001.jpeg', label=0.0, one_hot_label=DenseVector([1.0, 0.0]), prediction=DenseVector([0.4441, 0.5559])),\n",
       " Row(uri='/home/aekanun/input/chest_xray/train/NORMAL/NORMAL2-IM-0775-0001.jpeg', label=0.0, one_hot_label=DenseVector([1.0, 0.0]), prediction=DenseVector([0.4003, 0.5997])),\n",
       " Row(uri='/home/aekanun/input/chest_xray/train/NORMAL/NORMAL2-IM-0695-0001.jpeg', label=0.0, one_hot_label=DenseVector([1.0, 0.0]), prediction=DenseVector([0.3246, 0.6754])),\n",
       " Row(uri='/home/aekanun/input/chest_xray/train/NORMAL/NORMAL2-IM-0833-0001.jpeg', label=0.0, one_hot_label=DenseVector([1.0, 0.0]), prediction=DenseVector([0.4018, 0.5982])),\n",
       " Row(uri='/home/aekanun/input/chest_xray/train/NORMAL/NORMAL2-IM-1050-0001.jpeg', label=0.0, one_hot_label=DenseVector([1.0, 0.0]), prediction=DenseVector([0.3993, 0.6007])),\n",
       " Row(uri='/home/aekanun/input/chest_xray/train/NORMAL/NORMAL2-IM-0765-0001.jpeg', label=0.0, one_hot_label=DenseVector([1.0, 0.0]), prediction=DenseVector([0.4349, 0.5651])),\n",
       " Row(uri='/home/aekanun/input/chest_xray/train/NORMAL/NORMAL2-IM-0980-0001.jpeg', label=0.0, one_hot_label=DenseVector([1.0, 0.0]), prediction=DenseVector([0.4025, 0.5975])),\n",
       " Row(uri='/home/aekanun/input/chest_xray/train/NORMAL/NORMAL2-IM-1337-0001.jpeg', label=0.0, one_hot_label=DenseVector([1.0, 0.0]), prediction=DenseVector([0.486, 0.514])),\n",
       " Row(uri='/home/aekanun/input/chest_xray/train/NORMAL/NORMAL2-IM-1134-0001.jpeg', label=0.0, one_hot_label=DenseVector([1.0, 0.0]), prediction=DenseVector([0.366, 0.634])),\n",
       " Row(uri='/home/aekanun/input/chest_xray/train/NORMAL/NORMAL2-IM-1204-0001.jpeg', label=0.0, one_hot_label=DenseVector([1.0, 0.0]), prediction=DenseVector([0.389, 0.611])),\n",
       " Row(uri='/home/aekanun/input/chest_xray/train/NORMAL/NORMAL2-IM-1194-0001.jpeg', label=0.0, one_hot_label=DenseVector([1.0, 0.0]), prediction=DenseVector([0.3097, 0.6903])),\n",
       " Row(uri='/home/aekanun/input/chest_xray/train/NORMAL/NORMAL2-IM-1044-0001.jpeg', label=0.0, one_hot_label=DenseVector([1.0, 0.0]), prediction=DenseVector([0.4554, 0.5446])),\n",
       " Row(uri='/home/aekanun/input/chest_xray/train/NORMAL/NORMAL2-IM-0970-0001.jpeg', label=0.0, one_hot_label=DenseVector([1.0, 0.0]), prediction=DenseVector([0.3961, 0.6039])),\n",
       " Row(uri='/home/aekanun/input/chest_xray/train/NORMAL/NORMAL2-IM-0640-0001.jpeg', label=0.0, one_hot_label=DenseVector([1.0, 0.0]), prediction=DenseVector([0.4434, 0.5566])),\n",
       " Row(uri='/home/aekanun/input/chest_xray/train/NORMAL/NORMAL2-IM-0969-0001.jpeg', label=0.0, one_hot_label=DenseVector([1.0, 0.0]), prediction=DenseVector([0.343, 0.657])),\n",
       " Row(uri='/home/aekanun/input/chest_xray/train/NORMAL/NORMAL2-IM-1269-0001.jpeg', label=0.0, one_hot_label=DenseVector([1.0, 0.0]), prediction=DenseVector([0.2892, 0.7108])),\n",
       " Row(uri='/home/aekanun/input/chest_xray/train/NORMAL/NORMAL2-IM-0616-0001.jpeg', label=0.0, one_hot_label=DenseVector([1.0, 0.0]), prediction=DenseVector([0.3414, 0.6586])),\n",
       " Row(uri='/home/aekanun/input/chest_xray/train/NORMAL/NORMAL2-IM-0528-0001.jpeg', label=0.0, one_hot_label=DenseVector([1.0, 0.0]), prediction=DenseVector([0.4575, 0.5425])),\n",
       " Row(uri='/home/aekanun/input/chest_xray/train/NORMAL/NORMAL2-IM-0905-0001.jpeg', label=0.0, one_hot_label=DenseVector([1.0, 0.0]), prediction=DenseVector([0.3293, 0.6707])),\n",
       " Row(uri='/home/aekanun/input/chest_xray/train/NORMAL/NORMAL2-IM-0587-0001-0002.jpeg', label=0.0, one_hot_label=DenseVector([1.0, 0.0]), prediction=DenseVector([0.2957, 0.7043])),\n",
       " Row(uri='/home/aekanun/input/chest_xray/train/NORMAL/NORMAL2-IM-0507-0001.jpeg', label=0.0, one_hot_label=DenseVector([1.0, 0.0]), prediction=DenseVector([0.3656, 0.6344])),\n",
       " Row(uri='/home/aekanun/input/chest_xray/train/NORMAL/NORMAL2-IM-1177-0001.jpeg', label=0.0, one_hot_label=DenseVector([1.0, 0.0]), prediction=DenseVector([0.3754, 0.6246])),\n",
       " Row(uri='/home/aekanun/input/chest_xray/train/NORMAL/NORMAL2-IM-0645-0001.jpeg', label=0.0, one_hot_label=DenseVector([1.0, 0.0]), prediction=DenseVector([0.3699, 0.6301])),\n",
       " Row(uri='/home/aekanun/input/chest_xray/train/NORMAL/NORMAL2-IM-0904-0001.jpeg', label=0.0, one_hot_label=DenseVector([1.0, 0.0]), prediction=DenseVector([0.3145, 0.6855])),\n",
       " Row(uri='/home/aekanun/input/chest_xray/train/NORMAL/NORMAL2-IM-0966-0001.jpeg', label=0.0, one_hot_label=DenseVector([1.0, 0.0]), prediction=DenseVector([0.4331, 0.5669])),\n",
       " Row(uri='/home/aekanun/input/chest_xray/train/NORMAL/NORMAL2-IM-1258-0001-0001.jpeg', label=0.0, one_hot_label=DenseVector([1.0, 0.0]), prediction=DenseVector([0.3778, 0.6222])),\n",
       " Row(uri='/home/aekanun/input/chest_xray/train/NORMAL/NORMAL2-IM-1024-0001.jpeg', label=0.0, one_hot_label=DenseVector([1.0, 0.0]), prediction=DenseVector([0.3571, 0.6429])),\n",
       " Row(uri='/home/aekanun/input/chest_xray/train/NORMAL/NORMAL2-IM-1110-0001.jpeg', label=0.0, one_hot_label=DenseVector([1.0, 0.0]), prediction=DenseVector([0.384, 0.616])),\n",
       " Row(uri='/home/aekanun/input/chest_xray/train/NORMAL/NORMAL2-IM-1254-0001.jpeg', label=0.0, one_hot_label=DenseVector([1.0, 0.0]), prediction=DenseVector([0.3676, 0.6324])),\n",
       " Row(uri='/home/aekanun/input/chest_xray/train/NORMAL/NORMAL2-IM-1128-0001-0002.jpeg', label=0.0, one_hot_label=DenseVector([1.0, 0.0]), prediction=DenseVector([0.3168, 0.6832])),\n",
       " Row(uri='/home/aekanun/input/chest_xray/train/NORMAL/NORMAL2-IM-1017-0001.jpeg', label=0.0, one_hot_label=DenseVector([1.0, 0.0]), prediction=DenseVector([0.3704, 0.6296])),\n",
       " Row(uri='/home/aekanun/input/chest_xray/train/NORMAL/NORMAL2-IM-0569-0001.jpeg', label=0.0, one_hot_label=DenseVector([1.0, 0.0]), prediction=DenseVector([0.3737, 0.6263])),\n",
       " Row(uri='/home/aekanun/input/chest_xray/train/NORMAL/NORMAL2-IM-0643-0001.jpeg', label=0.0, one_hot_label=DenseVector([1.0, 0.0]), prediction=DenseVector([0.389, 0.611])),\n",
       " Row(uri='/home/aekanun/input/chest_xray/train/NORMAL/NORMAL2-IM-0661-0001.jpeg', label=0.0, one_hot_label=DenseVector([1.0, 0.0]), prediction=DenseVector([0.3637, 0.6363])),\n",
       " Row(uri='/home/aekanun/input/chest_xray/train/NORMAL/NORMAL2-IM-0939-0001.jpeg', label=0.0, one_hot_label=DenseVector([1.0, 0.0]), prediction=DenseVector([0.3494, 0.6506])),\n",
       " Row(uri='/home/aekanun/input/chest_xray/train/NORMAL/NORMAL2-IM-0545-0001.jpeg', label=0.0, one_hot_label=DenseVector([1.0, 0.0]), prediction=DenseVector([0.3558, 0.6442])),\n",
       " Row(uri='/home/aekanun/input/chest_xray/train/NORMAL/NORMAL2-IM-0555-0001-0002.jpeg', label=0.0, one_hot_label=DenseVector([1.0, 0.0]), prediction=DenseVector([0.4482, 0.5518])),\n",
       " Row(uri='/home/aekanun/input/chest_xray/train/NORMAL/NORMAL2-IM-1104-0001.jpeg', label=0.0, one_hot_label=DenseVector([1.0, 0.0]), prediction=DenseVector([0.4101, 0.5899])),\n",
       " Row(uri='/home/aekanun/input/chest_xray/train/NORMAL/NORMAL2-IM-0539-0001.jpeg', label=0.0, one_hot_label=DenseVector([1.0, 0.0]), prediction=DenseVector([0.3378, 0.6622])),\n",
       " Row(uri='/home/aekanun/input/chest_xray/train/NORMAL/NORMAL2-IM-1307-0001.jpeg', label=0.0, one_hot_label=DenseVector([1.0, 0.0]), prediction=DenseVector([0.3293, 0.6707])),\n",
       " Row(uri='/home/aekanun/input/chest_xray/train/NORMAL/NORMAL2-IM-0815-0001.jpeg', label=0.0, one_hot_label=DenseVector([1.0, 0.0]), prediction=DenseVector([0.4026, 0.5974])),\n",
       " Row(uri='/home/aekanun/input/chest_xray/train/NORMAL/NORMAL2-IM-0521-0001.jpeg', label=0.0, one_hot_label=DenseVector([1.0, 0.0]), prediction=DenseVector([0.3777, 0.6223])),\n",
       " Row(uri='/home/aekanun/input/chest_xray/train/NORMAL/NORMAL2-IM-0831-0001.jpeg', label=0.0, one_hot_label=DenseVector([1.0, 0.0]), prediction=DenseVector([0.3861, 0.6139])),\n",
       " Row(uri='/home/aekanun/input/chest_xray/train/NORMAL/NORMAL2-IM-0897-0001.jpeg', label=0.0, one_hot_label=DenseVector([1.0, 0.0]), prediction=DenseVector([0.2821, 0.7179])),\n",
       " Row(uri='/home/aekanun/input/chest_xray/train/NORMAL/NORMAL2-IM-0506-0001.jpeg', label=0.0, one_hot_label=DenseVector([1.0, 0.0]), prediction=DenseVector([0.3466, 0.6534])),\n",
       " Row(uri='/home/aekanun/input/chest_xray/train/NORMAL/NORMAL2-IM-1305-0001.jpeg', label=0.0, one_hot_label=DenseVector([1.0, 0.0]), prediction=DenseVector([0.4982, 0.5018])),\n",
       " Row(uri='/home/aekanun/input/chest_xray/train/NORMAL/NORMAL2-IM-0486-0001.jpeg', label=0.0, one_hot_label=DenseVector([1.0, 0.0]), prediction=DenseVector([0.4082, 0.5918])),\n",
       " Row(uri='/home/aekanun/input/chest_xray/train/NORMAL/NORMAL2-IM-0934-0001.jpeg', label=0.0, one_hot_label=DenseVector([1.0, 0.0]), prediction=DenseVector([0.4234, 0.5766])),\n",
       " Row(uri='/home/aekanun/input/chest_xray/train/NORMAL/NORMAL2-IM-1224-0001.jpeg', label=0.0, one_hot_label=DenseVector([1.0, 0.0]), prediction=DenseVector([0.3683, 0.6317])),\n",
       " Row(uri='/home/aekanun/input/chest_xray/train/NORMAL/NORMAL2-IM-1300-0001.jpeg', label=0.0, one_hot_label=DenseVector([1.0, 0.0]), prediction=DenseVector([0.378, 0.622])),\n",
       " Row(uri='/home/aekanun/input/chest_xray/train/NORMAL/NORMAL2-IM-0974-0001.jpeg', label=0.0, one_hot_label=DenseVector([1.0, 0.0]), prediction=DenseVector([0.4278, 0.5722])),\n",
       " Row(uri='/home/aekanun/input/chest_xray/train/NORMAL/NORMAL2-IM-1001-0001.jpeg', label=0.0, one_hot_label=DenseVector([1.0, 0.0]), prediction=DenseVector([0.3568, 0.6432])),\n",
       " Row(uri='/home/aekanun/input/chest_xray/train/NORMAL/NORMAL2-IM-0718-0001.jpeg', label=0.0, one_hot_label=DenseVector([1.0, 0.0]), prediction=DenseVector([0.386, 0.614])),\n",
       " Row(uri='/home/aekanun/input/chest_xray/train/NORMAL/NORMAL2-IM-0869-0001.jpeg', label=0.0, one_hot_label=DenseVector([1.0, 0.0]), prediction=DenseVector([0.4134, 0.5866])),\n",
       " Row(uri='/home/aekanun/input/chest_xray/train/NORMAL/NORMAL2-IM-0819-0001.jpeg', label=0.0, one_hot_label=DenseVector([1.0, 0.0]), prediction=DenseVector([0.3856, 0.6144])),\n",
       " Row(uri='/home/aekanun/input/chest_xray/train/NORMAL/NORMAL2-IM-0559-0001.jpeg', label=0.0, one_hot_label=DenseVector([1.0, 0.0]), prediction=DenseVector([0.3753, 0.6247])),\n",
       " Row(uri='/home/aekanun/input/chest_xray/train/NORMAL/NORMAL2-IM-1145-0001.jpeg', label=0.0, one_hot_label=DenseVector([1.0, 0.0]), prediction=DenseVector([0.4002, 0.5998])),\n",
       " Row(uri='/home/aekanun/input/chest_xray/train/NORMAL/NORMAL2-IM-0932-0001.jpeg', label=0.0, one_hot_label=DenseVector([1.0, 0.0]), prediction=DenseVector([0.3682, 0.6318])),\n",
       " Row(uri='/home/aekanun/input/chest_xray/train/NORMAL/NORMAL2-IM-1167-0001.jpeg', label=0.0, one_hot_label=DenseVector([1.0, 0.0]), prediction=DenseVector([0.3764, 0.6236])),\n",
       " Row(uri='/home/aekanun/input/chest_xray/train/NORMAL/NORMAL2-IM-1096-0001-0001.jpeg', label=0.0, one_hot_label=DenseVector([1.0, 0.0]), prediction=DenseVector([0.3783, 0.6217])),\n",
       " Row(uri='/home/aekanun/input/chest_xray/train/NORMAL/NORMAL2-IM-0781-0001.jpeg', label=0.0, one_hot_label=DenseVector([1.0, 0.0]), prediction=DenseVector([0.3403, 0.6597])),\n",
       " Row(uri='/home/aekanun/input/chest_xray/train/NORMAL/NORMAL2-IM-0981-0001.jpeg', label=0.0, one_hot_label=DenseVector([1.0, 0.0]), prediction=DenseVector([0.4176, 0.5824])),\n",
       " Row(uri='/home/aekanun/input/chest_xray/train/NORMAL/NORMAL2-IM-0868-0001.jpeg', label=0.0, one_hot_label=DenseVector([1.0, 0.0]), prediction=DenseVector([0.3881, 0.6119])),\n",
       " Row(uri='/home/aekanun/input/chest_xray/train/NORMAL/NORMAL2-IM-0675-0001.jpeg', label=0.0, one_hot_label=DenseVector([1.0, 0.0]), prediction=DenseVector([0.4267, 0.5733])),\n",
       " Row(uri='/home/aekanun/input/chest_xray/train/NORMAL/NORMAL2-IM-1326-0001.jpeg', label=0.0, one_hot_label=DenseVector([1.0, 0.0]), prediction=DenseVector([0.418, 0.582])),\n",
       " Row(uri='/home/aekanun/input/chest_xray/train/NORMAL/NORMAL2-IM-1287-0001.jpeg', label=0.0, one_hot_label=DenseVector([1.0, 0.0]), prediction=DenseVector([0.4384, 0.5616])),\n",
       " Row(uri='/home/aekanun/input/chest_xray/train/NORMAL/NORMAL2-IM-1245-0001.jpeg', label=0.0, one_hot_label=DenseVector([1.0, 0.0]), prediction=DenseVector([0.3827, 0.6173])),\n",
       " Row(uri='/home/aekanun/input/chest_xray/train/NORMAL/NORMAL2-IM-0870-0001.jpeg', label=0.0, one_hot_label=DenseVector([1.0, 0.0]), prediction=DenseVector([0.3877, 0.6123])),\n",
       " Row(uri='/home/aekanun/input/chest_xray/train/NORMAL/NORMAL2-IM-0918-0001.jpeg', label=0.0, one_hot_label=DenseVector([1.0, 0.0]), prediction=DenseVector([0.3919, 0.6081])),\n",
       " Row(uri='/home/aekanun/input/chest_xray/train/NORMAL/NORMAL2-IM-1158-0001.jpeg', label=0.0, one_hot_label=DenseVector([1.0, 0.0]), prediction=DenseVector([0.4583, 0.5417])),\n",
       " Row(uri='/home/aekanun/input/chest_xray/train/NORMAL/NORMAL2-IM-0841-0001.jpeg', label=0.0, one_hot_label=DenseVector([1.0, 0.0]), prediction=DenseVector([0.4003, 0.5997])),\n",
       " Row(uri='/home/aekanun/input/chest_xray/train/NORMAL/NORMAL2-IM-0723-0001.jpeg', label=0.0, one_hot_label=DenseVector([1.0, 0.0]), prediction=DenseVector([0.4145, 0.5855])),\n",
       " Row(uri='/home/aekanun/input/chest_xray/train/NORMAL/NORMAL2-IM-1347-0001.jpeg', label=0.0, one_hot_label=DenseVector([1.0, 0.0]), prediction=DenseVector([0.4588, 0.5412])),\n",
       " Row(uri='/home/aekanun/input/chest_xray/train/NORMAL/NORMAL2-IM-1090-0001.jpeg', label=0.0, one_hot_label=DenseVector([1.0, 0.0]), prediction=DenseVector([0.3191, 0.6809])),\n",
       " Row(uri='/home/aekanun/input/chest_xray/train/NORMAL/NORMAL2-IM-0491-0001.jpeg', label=0.0, one_hot_label=DenseVector([1.0, 0.0]), prediction=DenseVector([0.4127, 0.5873])),\n",
       " Row(uri='/home/aekanun/input/chest_xray/train/NORMAL/NORMAL2-IM-0623-0001.jpeg', label=0.0, one_hot_label=DenseVector([1.0, 0.0]), prediction=DenseVector([0.4044, 0.5956])),\n",
       " Row(uri='/home/aekanun/input/chest_xray/train/NORMAL/NORMAL2-IM-0526-0001.jpeg', label=0.0, one_hot_label=DenseVector([1.0, 0.0]), prediction=DenseVector([0.4409, 0.5591])),\n",
       " Row(uri='/home/aekanun/input/chest_xray/train/NORMAL/NORMAL2-IM-1019-0001.jpeg', label=0.0, one_hot_label=DenseVector([1.0, 0.0]), prediction=DenseVector([0.4783, 0.5217]))]"
      ]
     },
     "execution_count": 83,
     "metadata": {},
     "output_type": "execute_result"
    }
   ],
   "source": [
    "performance_df.select(['uri','label','one_hot_label','prediction']).filter(col('uri').like('%NORMAL%')).take(100)"
   ]
  },
  {
   "cell_type": "code",
   "execution_count": 84,
   "metadata": {},
   "outputs": [
    {
     "data": {
      "text/plain": [
       "[Row(uri='/home/aekanun/input/chest_xray/train/PNEUMONIA/person267_bacteria_1253.jpeg', label=1.0, one_hot_label=DenseVector([0.0, 1.0]), prediction=DenseVector([0.2868, 0.7132])),\n",
       " Row(uri='/home/aekanun/input/chest_xray/train/PNEUMONIA/person258_bacteria_1208.jpeg', label=1.0, one_hot_label=DenseVector([0.0, 1.0]), prediction=DenseVector([0.388, 0.612])),\n",
       " Row(uri='/home/aekanun/input/chest_xray/train/PNEUMONIA/person278_bacteria_1311.jpeg', label=1.0, one_hot_label=DenseVector([0.0, 1.0]), prediction=DenseVector([0.35, 0.65])),\n",
       " Row(uri='/home/aekanun/input/chest_xray/train/PNEUMONIA/person292_virus_598.jpeg', label=1.0, one_hot_label=DenseVector([0.0, 1.0]), prediction=DenseVector([0.3207, 0.6793])),\n",
       " Row(uri='/home/aekanun/input/chest_xray/train/PNEUMONIA/person276_bacteria_1299.jpeg', label=1.0, one_hot_label=DenseVector([0.0, 1.0]), prediction=DenseVector([0.3519, 0.6481])),\n",
       " Row(uri='/home/aekanun/input/chest_xray/train/PNEUMONIA/person266_bacteria_1248.jpeg', label=1.0, one_hot_label=DenseVector([0.0, 1.0]), prediction=DenseVector([0.3608, 0.6392])),\n",
       " Row(uri='/home/aekanun/input/chest_xray/train/PNEUMONIA/person258_bacteria_1206.jpeg', label=1.0, one_hot_label=DenseVector([0.0, 1.0]), prediction=DenseVector([0.3782, 0.6218])),\n",
       " Row(uri='/home/aekanun/input/chest_xray/train/PNEUMONIA/person292_virus_597.jpeg', label=1.0, one_hot_label=DenseVector([0.0, 1.0]), prediction=DenseVector([0.354, 0.646])),\n",
       " Row(uri='/home/aekanun/input/chest_xray/train/PNEUMONIA/person26_bacteria_129.jpeg', label=1.0, one_hot_label=DenseVector([0.0, 1.0]), prediction=DenseVector([0.2577, 0.7423])),\n",
       " Row(uri='/home/aekanun/input/chest_xray/train/PNEUMONIA/person303_virus_624.jpeg', label=1.0, one_hot_label=DenseVector([0.0, 1.0]), prediction=DenseVector([0.3723, 0.6277])),\n",
       " Row(uri='/home/aekanun/input/chest_xray/train/PNEUMONIA/person287_bacteria_1354.jpeg', label=1.0, one_hot_label=DenseVector([0.0, 1.0]), prediction=DenseVector([0.3845, 0.6155])),\n",
       " Row(uri='/home/aekanun/input/chest_xray/train/PNEUMONIA/person266_bacteria_1247.jpeg', label=1.0, one_hot_label=DenseVector([0.0, 1.0]), prediction=DenseVector([0.361, 0.639])),\n",
       " Row(uri='/home/aekanun/input/chest_xray/train/PNEUMONIA/person277_bacteria_1301.jpeg', label=1.0, one_hot_label=DenseVector([0.0, 1.0]), prediction=DenseVector([0.3937, 0.6063])),\n",
       " Row(uri='/home/aekanun/input/chest_xray/train/PNEUMONIA/person278_bacteria_1314.jpeg', label=1.0, one_hot_label=DenseVector([0.0, 1.0]), prediction=DenseVector([0.336, 0.664])),\n",
       " Row(uri='/home/aekanun/input/chest_xray/train/PNEUMONIA/person294_virus_611.jpeg', label=1.0, one_hot_label=DenseVector([0.0, 1.0]), prediction=DenseVector([0.3843, 0.6157])),\n",
       " Row(uri='/home/aekanun/input/chest_xray/train/PNEUMONIA/person25_bacteria_119.jpeg', label=1.0, one_hot_label=DenseVector([0.0, 1.0]), prediction=DenseVector([0.357, 0.643])),\n",
       " Row(uri='/home/aekanun/input/chest_xray/train/PNEUMONIA/person266_bacteria_1240.jpeg', label=1.0, one_hot_label=DenseVector([0.0, 1.0]), prediction=DenseVector([0.384, 0.616])),\n",
       " Row(uri='/home/aekanun/input/chest_xray/train/PNEUMONIA/person281_bacteria_1333.jpeg', label=1.0, one_hot_label=DenseVector([0.0, 1.0]), prediction=DenseVector([0.3675, 0.6325])),\n",
       " Row(uri='/home/aekanun/input/chest_xray/train/PNEUMONIA/person294_bacteria_1381.jpeg', label=1.0, one_hot_label=DenseVector([0.0, 1.0]), prediction=DenseVector([0.3766, 0.6234])),\n",
       " Row(uri='/home/aekanun/input/chest_xray/train/PNEUMONIA/person279_bacteria_1316.jpeg', label=1.0, one_hot_label=DenseVector([0.0, 1.0]), prediction=DenseVector([0.3432, 0.6568])),\n",
       " Row(uri='/home/aekanun/input/chest_xray/train/PNEUMONIA/person279_virus_576.jpeg', label=1.0, one_hot_label=DenseVector([0.0, 1.0]), prediction=DenseVector([0.4202, 0.5798])),\n",
       " Row(uri='/home/aekanun/input/chest_xray/train/PNEUMONIA/person290_virus_594.jpeg', label=1.0, one_hot_label=DenseVector([0.0, 1.0]), prediction=DenseVector([0.3976, 0.6024])),\n",
       " Row(uri='/home/aekanun/input/chest_xray/train/PNEUMONIA/person287_bacteria_1355.jpeg', label=1.0, one_hot_label=DenseVector([0.0, 1.0]), prediction=DenseVector([0.3799, 0.6201])),\n",
       " Row(uri='/home/aekanun/input/chest_xray/train/PNEUMONIA/person258_bacteria_1210.jpeg', label=1.0, one_hot_label=DenseVector([0.0, 1.0]), prediction=DenseVector([0.3782, 0.6218])),\n",
       " Row(uri='/home/aekanun/input/chest_xray/train/PNEUMONIA/person281_bacteria_1327.jpeg', label=1.0, one_hot_label=DenseVector([0.0, 1.0]), prediction=DenseVector([0.4011, 0.5989])),\n",
       " Row(uri='/home/aekanun/input/chest_xray/train/PNEUMONIA/person296_bacteria_1394.jpeg', label=1.0, one_hot_label=DenseVector([0.0, 1.0]), prediction=DenseVector([0.3743, 0.6257])),\n",
       " Row(uri='/home/aekanun/input/chest_xray/train/PNEUMONIA/person1314_virus_2266.jpeg', label=1.0, one_hot_label=DenseVector([0.0, 1.0]), prediction=DenseVector([0.3697, 0.6303])),\n",
       " Row(uri='/home/aekanun/input/chest_xray/train/PNEUMONIA/person1324_virus_2284.jpeg', label=1.0, one_hot_label=DenseVector([0.0, 1.0]), prediction=DenseVector([0.3686, 0.6314])),\n",
       " Row(uri='/home/aekanun/input/chest_xray/train/PNEUMONIA/person1328_virus_2293.jpeg', label=1.0, one_hot_label=DenseVector([0.0, 1.0]), prediction=DenseVector([0.4197, 0.5803])),\n",
       " Row(uri='/home/aekanun/input/chest_xray/train/PNEUMONIA/person1278_virus_2201.jpeg', label=1.0, one_hot_label=DenseVector([0.0, 1.0]), prediction=DenseVector([0.3195, 0.6805])),\n",
       " Row(uri='/home/aekanun/input/chest_xray/train/PNEUMONIA/person1317_virus_2273.jpeg', label=1.0, one_hot_label=DenseVector([0.0, 1.0]), prediction=DenseVector([0.3313, 0.6687])),\n",
       " Row(uri='/home/aekanun/input/chest_xray/train/PNEUMONIA/person1258_virus_2138.jpeg', label=1.0, one_hot_label=DenseVector([0.0, 1.0]), prediction=DenseVector([0.3119, 0.6881])),\n",
       " Row(uri='/home/aekanun/input/chest_xray/train/PNEUMONIA/person1338_bacteria_3397.jpeg', label=1.0, one_hot_label=DenseVector([0.0, 1.0]), prediction=DenseVector([0.2454, 0.7546])),\n",
       " Row(uri='/home/aekanun/input/chest_xray/train/PNEUMONIA/person1287_virus_2210.jpeg', label=1.0, one_hot_label=DenseVector([0.0, 1.0]), prediction=DenseVector([0.3386, 0.6614])),\n",
       " Row(uri='/home/aekanun/input/chest_xray/train/PNEUMONIA/person1343_bacteria_3417.jpeg', label=1.0, one_hot_label=DenseVector([0.0, 1.0]), prediction=DenseVector([0.3705, 0.6295])),\n",
       " Row(uri='/home/aekanun/input/chest_xray/train/PNEUMONIA/person1291_virus_2217.jpeg', label=1.0, one_hot_label=DenseVector([0.0, 1.0]), prediction=DenseVector([0.3446, 0.6554])),\n",
       " Row(uri='/home/aekanun/input/chest_xray/train/PNEUMONIA/person1298_virus_2228.jpeg', label=1.0, one_hot_label=DenseVector([0.0, 1.0]), prediction=DenseVector([0.2534, 0.7466])),\n",
       " Row(uri='/home/aekanun/input/chest_xray/train/PNEUMONIA/person1306_bacteria_3275.jpeg', label=1.0, one_hot_label=DenseVector([0.0, 1.0]), prediction=DenseVector([0.3704, 0.6296])),\n",
       " Row(uri='/home/aekanun/input/chest_xray/train/PNEUMONIA/person1265_bacteria_3223.jpeg', label=1.0, one_hot_label=DenseVector([0.0, 1.0]), prediction=DenseVector([0.4029, 0.5971])),\n",
       " Row(uri='/home/aekanun/input/chest_xray/train/PNEUMONIA/person1294_virus_2222.jpeg', label=1.0, one_hot_label=DenseVector([0.0, 1.0]), prediction=DenseVector([0.3307, 0.6693])),\n",
       " Row(uri='/home/aekanun/input/chest_xray/train/PNEUMONIA/person1343_virus_2317.jpeg', label=1.0, one_hot_label=DenseVector([0.0, 1.0]), prediction=DenseVector([0.3467, 0.6533])),\n",
       " Row(uri='/home/aekanun/input/chest_xray/train/PNEUMONIA/person1320_bacteria_3347.jpeg', label=1.0, one_hot_label=DenseVector([0.0, 1.0]), prediction=DenseVector([0.3381, 0.6619])),\n",
       " Row(uri='/home/aekanun/input/chest_xray/train/PNEUMONIA/person1345_bacteria_3427.jpeg', label=1.0, one_hot_label=DenseVector([0.0, 1.0]), prediction=DenseVector([0.3862, 0.6138])),\n",
       " Row(uri='/home/aekanun/input/chest_xray/train/PNEUMONIA/person1320_bacteria_3355.jpeg', label=1.0, one_hot_label=DenseVector([0.0, 1.0]), prediction=DenseVector([0.3457, 0.6543])),\n",
       " Row(uri='/home/aekanun/input/chest_xray/train/PNEUMONIA/person1283_bacteria_3246.jpeg', label=1.0, one_hot_label=DenseVector([0.0, 1.0]), prediction=DenseVector([0.2467, 0.7533])),\n",
       " Row(uri='/home/aekanun/input/chest_xray/train/PNEUMONIA/person1343_bacteria_3415.jpeg', label=1.0, one_hot_label=DenseVector([0.0, 1.0]), prediction=DenseVector([0.3246, 0.6754])),\n",
       " Row(uri='/home/aekanun/input/chest_xray/train/PNEUMONIA/person1308_virus_2253.jpeg', label=1.0, one_hot_label=DenseVector([0.0, 1.0]), prediction=DenseVector([0.3619, 0.6381])),\n",
       " Row(uri='/home/aekanun/input/chest_xray/train/PNEUMONIA/person1311_virus_2259.jpeg', label=1.0, one_hot_label=DenseVector([0.0, 1.0]), prediction=DenseVector([0.4005, 0.5995])),\n",
       " Row(uri='/home/aekanun/input/chest_xray/train/PNEUMONIA/person1328_virus_2295.jpeg', label=1.0, one_hot_label=DenseVector([0.0, 1.0]), prediction=DenseVector([0.3809, 0.6191])),\n",
       " Row(uri='/home/aekanun/input/chest_xray/train/PNEUMONIA/person1338_bacteria_3394.jpeg', label=1.0, one_hot_label=DenseVector([0.0, 1.0]), prediction=DenseVector([0.2598, 0.7402])),\n",
       " Row(uri='/home/aekanun/input/chest_xray/train/PNEUMONIA/person1266_bacteria_3224.jpeg', label=1.0, one_hot_label=DenseVector([0.0, 1.0]), prediction=DenseVector([0.3938, 0.6062])),\n",
       " Row(uri='/home/aekanun/input/chest_xray/train/PNEUMONIA/person1220_bacteria_3173.jpeg', label=1.0, one_hot_label=DenseVector([0.0, 1.0]), prediction=DenseVector([0.355, 0.645])),\n",
       " Row(uri='/home/aekanun/input/chest_xray/train/PNEUMONIA/person1141_bacteria_3084.jpeg', label=1.0, one_hot_label=DenseVector([0.0, 1.0]), prediction=DenseVector([0.3628, 0.6372])),\n",
       " Row(uri='/home/aekanun/input/chest_xray/train/PNEUMONIA/person1180_virus_2015.jpeg', label=1.0, one_hot_label=DenseVector([0.0, 1.0]), prediction=DenseVector([0.2647, 0.7353])),\n",
       " Row(uri='/home/aekanun/input/chest_xray/train/PNEUMONIA/person1147_virus_1917.jpeg', label=1.0, one_hot_label=DenseVector([0.0, 1.0]), prediction=DenseVector([0.3445, 0.6555])),\n",
       " Row(uri='/home/aekanun/input/chest_xray/train/PNEUMONIA/person1167_bacteria_3113.jpeg', label=1.0, one_hot_label=DenseVector([0.0, 1.0]), prediction=DenseVector([0.3624, 0.6376])),\n",
       " Row(uri='/home/aekanun/input/chest_xray/train/PNEUMONIA/person1215_bacteria_3167.jpeg', label=1.0, one_hot_label=DenseVector([0.0, 1.0]), prediction=DenseVector([0.3499, 0.6501])),\n",
       " Row(uri='/home/aekanun/input/chest_xray/train/PNEUMONIA/person1147_virus_1920.jpeg', label=1.0, one_hot_label=DenseVector([0.0, 1.0]), prediction=DenseVector([0.3504, 0.6496])),\n",
       " Row(uri='/home/aekanun/input/chest_xray/train/PNEUMONIA/person1212_bacteria_3164.jpeg', label=1.0, one_hot_label=DenseVector([0.0, 1.0]), prediction=DenseVector([0.3936, 0.6064])),\n",
       " Row(uri='/home/aekanun/input/chest_xray/train/PNEUMONIA/person1194_bacteria_3143.jpeg', label=1.0, one_hot_label=DenseVector([0.0, 1.0]), prediction=DenseVector([0.4258, 0.5742])),\n",
       " Row(uri='/home/aekanun/input/chest_xray/train/PNEUMONIA/person1165_virus_1959.jpeg', label=1.0, one_hot_label=DenseVector([0.0, 1.0]), prediction=DenseVector([0.404, 0.596])),\n",
       " Row(uri='/home/aekanun/input/chest_xray/train/PNEUMONIA/person119_virus_225.jpeg', label=1.0, one_hot_label=DenseVector([0.0, 1.0]), prediction=DenseVector([0.3596, 0.6404])),\n",
       " Row(uri='/home/aekanun/input/chest_xray/train/PNEUMONIA/person1234_virus_2093.jpeg', label=1.0, one_hot_label=DenseVector([0.0, 1.0]), prediction=DenseVector([0.3147, 0.6853])),\n",
       " Row(uri='/home/aekanun/input/chest_xray/train/PNEUMONIA/person1202_bacteria_3152.jpeg', label=1.0, one_hot_label=DenseVector([0.0, 1.0]), prediction=DenseVector([0.391, 0.609])),\n",
       " Row(uri='/home/aekanun/input/chest_xray/train/PNEUMONIA/person1202_virus_2045.jpeg', label=1.0, one_hot_label=DenseVector([0.0, 1.0]), prediction=DenseVector([0.3386, 0.6614])),\n",
       " Row(uri='/home/aekanun/input/chest_xray/train/PNEUMONIA/person1172_virus_1977.jpeg', label=1.0, one_hot_label=DenseVector([0.0, 1.0]), prediction=DenseVector([0.4456, 0.5544])),\n",
       " Row(uri='/home/aekanun/input/chest_xray/train/PNEUMONIA/person1159_virus_1946.jpeg', label=1.0, one_hot_label=DenseVector([0.0, 1.0]), prediction=DenseVector([0.2727, 0.7273])),\n",
       " Row(uri='/home/aekanun/input/chest_xray/train/PNEUMONIA/person1241_bacteria_3197.jpeg', label=1.0, one_hot_label=DenseVector([0.0, 1.0]), prediction=DenseVector([0.3465, 0.6535])),\n",
       " Row(uri='/home/aekanun/input/chest_xray/train/PNEUMONIA/person122_virus_229.jpeg', label=1.0, one_hot_label=DenseVector([0.0, 1.0]), prediction=DenseVector([0.3863, 0.6137])),\n",
       " Row(uri='/home/aekanun/input/chest_xray/train/PNEUMONIA/person1158_virus_1942.jpeg', label=1.0, one_hot_label=DenseVector([0.0, 1.0]), prediction=DenseVector([0.347, 0.653])),\n",
       " Row(uri='/home/aekanun/input/chest_xray/train/PNEUMONIA/person1149_virus_1925.jpeg', label=1.0, one_hot_label=DenseVector([0.0, 1.0]), prediction=DenseVector([0.3561, 0.6439])),\n",
       " Row(uri='/home/aekanun/input/chest_xray/train/PNEUMONIA/person1154_virus_1933.jpeg', label=1.0, one_hot_label=DenseVector([0.0, 1.0]), prediction=DenseVector([0.3533, 0.6467])),\n",
       " Row(uri='/home/aekanun/input/chest_xray/train/PNEUMONIA/person1206_bacteria_3158.jpeg', label=1.0, one_hot_label=DenseVector([0.0, 1.0]), prediction=DenseVector([0.3988, 0.6012])),\n",
       " Row(uri='/home/aekanun/input/chest_xray/train/PNEUMONIA/person76_bacteria_371.jpeg', label=1.0, one_hot_label=DenseVector([0.0, 1.0]), prediction=DenseVector([0.3764, 0.6236])),\n",
       " Row(uri='/home/aekanun/input/chest_xray/train/PNEUMONIA/person75_bacteria_369.jpeg', label=1.0, one_hot_label=DenseVector([0.0, 1.0]), prediction=DenseVector([0.3818, 0.6182])),\n",
       " Row(uri='/home/aekanun/input/chest_xray/train/PNEUMONIA/person855_bacteria_2777.jpeg', label=1.0, one_hot_label=DenseVector([0.0, 1.0]), prediction=DenseVector([0.3005, 0.6995])),\n",
       " Row(uri='/home/aekanun/input/chest_xray/train/PNEUMONIA/person735_virus_1356.jpeg', label=1.0, one_hot_label=DenseVector([0.0, 1.0]), prediction=DenseVector([0.4518, 0.5482])),\n",
       " Row(uri='/home/aekanun/input/chest_xray/train/PNEUMONIA/person818_bacteria_2729.jpeg', label=1.0, one_hot_label=DenseVector([0.0, 1.0]), prediction=DenseVector([0.4412, 0.5588])),\n",
       " Row(uri='/home/aekanun/input/chest_xray/train/PNEUMONIA/person843_bacteria_2763.jpeg', label=1.0, one_hot_label=DenseVector([0.0, 1.0]), prediction=DenseVector([0.3349, 0.6651])),\n",
       " Row(uri='/home/aekanun/input/chest_xray/train/PNEUMONIA/person842_bacteria_2762.jpeg', label=1.0, one_hot_label=DenseVector([0.0, 1.0]), prediction=DenseVector([0.4287, 0.5713])),\n",
       " Row(uri='/home/aekanun/input/chest_xray/train/PNEUMONIA/person734_virus_1355.jpeg', label=1.0, one_hot_label=DenseVector([0.0, 1.0]), prediction=DenseVector([0.309, 0.691])),\n",
       " Row(uri='/home/aekanun/input/chest_xray/train/PNEUMONIA/person853_bacteria_2774.jpeg', label=1.0, one_hot_label=DenseVector([0.0, 1.0]), prediction=DenseVector([0.3839, 0.6161])),\n",
       " Row(uri='/home/aekanun/input/chest_xray/train/PNEUMONIA/person836_virus_1473.jpeg', label=1.0, one_hot_label=DenseVector([0.0, 1.0]), prediction=DenseVector([0.3269, 0.6731])),\n",
       " Row(uri='/home/aekanun/input/chest_xray/train/PNEUMONIA/person840_bacteria_2758.jpeg', label=1.0, one_hot_label=DenseVector([0.0, 1.0]), prediction=DenseVector([0.4074, 0.5926])),\n",
       " Row(uri='/home/aekanun/input/chest_xray/train/PNEUMONIA/person740_virus_1362.jpeg', label=1.0, one_hot_label=DenseVector([0.0, 1.0]), prediction=DenseVector([0.4288, 0.5712])),\n",
       " Row(uri='/home/aekanun/input/chest_xray/train/PNEUMONIA/person728_bacteria_2630.jpeg', label=1.0, one_hot_label=DenseVector([0.0, 1.0]), prediction=DenseVector([0.3645, 0.6355])),\n",
       " Row(uri='/home/aekanun/input/chest_xray/train/PNEUMONIA/person747_virus_1370.jpeg', label=1.0, one_hot_label=DenseVector([0.0, 1.0]), prediction=DenseVector([0.3761, 0.6239])),\n",
       " Row(uri='/home/aekanun/input/chest_xray/train/PNEUMONIA/person771_bacteria_2675.jpeg', label=1.0, one_hot_label=DenseVector([0.0, 1.0]), prediction=DenseVector([0.4129, 0.5871])),\n",
       " Row(uri='/home/aekanun/input/chest_xray/train/PNEUMONIA/person75_bacteria_367.jpeg', label=1.0, one_hot_label=DenseVector([0.0, 1.0]), prediction=DenseVector([0.372, 0.628])),\n",
       " Row(uri='/home/aekanun/input/chest_xray/train/PNEUMONIA/person743_virus_1366.jpeg', label=1.0, one_hot_label=DenseVector([0.0, 1.0]), prediction=DenseVector([0.3741, 0.6259])),\n",
       " Row(uri='/home/aekanun/input/chest_xray/train/PNEUMONIA/person735_bacteria_2638.jpeg', label=1.0, one_hot_label=DenseVector([0.0, 1.0]), prediction=DenseVector([0.4117, 0.5883])),\n",
       " Row(uri='/home/aekanun/input/chest_xray/train/PNEUMONIA/person815_bacteria_2726.jpeg', label=1.0, one_hot_label=DenseVector([0.0, 1.0]), prediction=DenseVector([0.3578, 0.6422])),\n",
       " Row(uri='/home/aekanun/input/chest_xray/train/PNEUMONIA/person768_bacteria_2672.jpeg', label=1.0, one_hot_label=DenseVector([0.0, 1.0]), prediction=DenseVector([0.3497, 0.6503])),\n",
       " Row(uri='/home/aekanun/input/chest_xray/train/PNEUMONIA/person73_bacteria_356.jpeg', label=1.0, one_hot_label=DenseVector([0.0, 1.0]), prediction=DenseVector([0.3441, 0.6559])),\n",
       " Row(uri='/home/aekanun/input/chest_xray/train/PNEUMONIA/person610_bacteria_2475.jpeg', label=1.0, one_hot_label=DenseVector([0.0, 1.0]), prediction=DenseVector([0.4578, 0.5422])),\n",
       " Row(uri='/home/aekanun/input/chest_xray/train/PNEUMONIA/person705_virus_1303.jpeg', label=1.0, one_hot_label=DenseVector([0.0, 1.0]), prediction=DenseVector([0.305, 0.695])),\n",
       " Row(uri='/home/aekanun/input/chest_xray/train/PNEUMONIA/person70_bacteria_346.jpeg', label=1.0, one_hot_label=DenseVector([0.0, 1.0]), prediction=DenseVector([0.3468, 0.6532])),\n",
       " Row(uri='/home/aekanun/input/chest_xray/train/PNEUMONIA/person637_bacteria_2529.jpeg', label=1.0, one_hot_label=DenseVector([0.0, 1.0]), prediction=DenseVector([0.404, 0.596])),\n",
       " Row(uri='/home/aekanun/input/chest_xray/train/PNEUMONIA/person612_bacteria_2478.jpeg', label=1.0, one_hot_label=DenseVector([0.0, 1.0]), prediction=DenseVector([0.3189, 0.6811])),\n",
       " Row(uri='/home/aekanun/input/chest_xray/train/PNEUMONIA/person640_bacteria_2532.jpeg', label=1.0, one_hot_label=DenseVector([0.0, 1.0]), prediction=DenseVector([0.3645, 0.6355]))]"
      ]
     },
     "execution_count": 84,
     "metadata": {},
     "output_type": "execute_result"
    }
   ],
   "source": [
    "performance_df.select(['uri','label','one_hot_label','prediction']).filter(col('uri').like('%PNEUMONIA%')).take(100)"
   ]
  },
  {
   "cell_type": "code",
   "execution_count": null,
   "metadata": {
    "collapsed": true
   },
   "outputs": [],
   "source": []
  },
  {
   "cell_type": "code",
   "execution_count": 85,
   "metadata": {
    "collapsed": true
   },
   "outputs": [],
   "source": [
    "from pyspark.sql.functions import col"
   ]
  },
  {
   "cell_type": "code",
   "execution_count": 86,
   "metadata": {
    "collapsed": true
   },
   "outputs": [],
   "source": [
    "from pyspark.mllib.linalg import DenseVector"
   ]
  },
  {
   "cell_type": "code",
   "execution_count": 87,
   "metadata": {},
   "outputs": [
    {
     "data": {
      "text/plain": [
       "0.6440057190982625"
      ]
     },
     "execution_count": 87,
     "metadata": {},
     "output_type": "execute_result"
    }
   ],
   "source": [
    "eval_result"
   ]
  },
  {
   "cell_type": "code",
   "execution_count": 88,
   "metadata": {},
   "outputs": [
    {
     "data": {
      "text/plain": [
       "<bound method CanLoadImage.getImageLoader of KerasImageFileTransformer_4d66793a4103>"
      ]
     },
     "execution_count": 88,
     "metadata": {},
     "output_type": "execute_result"
    }
   ],
   "source": [
    "cvModel.getImageLoader"
   ]
  },
  {
   "cell_type": "code",
   "execution_count": 89,
   "metadata": {},
   "outputs": [
    {
     "data": {
      "text/plain": [
       "[Row(uri='/home/aekanun/input/chest_xray/train/PNEUMONIA/person267_bacteria_1253.jpeg', label=1.0, one_hot_label=DenseVector([0.0, 1.0]), prediction=DenseVector([0.2868, 0.7132])),\n",
       " Row(uri='/home/aekanun/input/chest_xray/train/PNEUMONIA/person258_bacteria_1208.jpeg', label=1.0, one_hot_label=DenseVector([0.0, 1.0]), prediction=DenseVector([0.388, 0.612])),\n",
       " Row(uri='/home/aekanun/input/chest_xray/train/PNEUMONIA/person278_bacteria_1311.jpeg', label=1.0, one_hot_label=DenseVector([0.0, 1.0]), prediction=DenseVector([0.35, 0.65])),\n",
       " Row(uri='/home/aekanun/input/chest_xray/train/PNEUMONIA/person276_bacteria_1299.jpeg', label=1.0, one_hot_label=DenseVector([0.0, 1.0]), prediction=DenseVector([0.3519, 0.6481])),\n",
       " Row(uri='/home/aekanun/input/chest_xray/train/PNEUMONIA/person266_bacteria_1248.jpeg', label=1.0, one_hot_label=DenseVector([0.0, 1.0]), prediction=DenseVector([0.3608, 0.6392])),\n",
       " Row(uri='/home/aekanun/input/chest_xray/train/PNEUMONIA/person258_bacteria_1206.jpeg', label=1.0, one_hot_label=DenseVector([0.0, 1.0]), prediction=DenseVector([0.3782, 0.6218])),\n",
       " Row(uri='/home/aekanun/input/chest_xray/train/PNEUMONIA/person26_bacteria_129.jpeg', label=1.0, one_hot_label=DenseVector([0.0, 1.0]), prediction=DenseVector([0.2577, 0.7423])),\n",
       " Row(uri='/home/aekanun/input/chest_xray/train/PNEUMONIA/person287_bacteria_1354.jpeg', label=1.0, one_hot_label=DenseVector([0.0, 1.0]), prediction=DenseVector([0.3845, 0.6155])),\n",
       " Row(uri='/home/aekanun/input/chest_xray/train/PNEUMONIA/person266_bacteria_1247.jpeg', label=1.0, one_hot_label=DenseVector([0.0, 1.0]), prediction=DenseVector([0.361, 0.639])),\n",
       " Row(uri='/home/aekanun/input/chest_xray/train/PNEUMONIA/person277_bacteria_1301.jpeg', label=1.0, one_hot_label=DenseVector([0.0, 1.0]), prediction=DenseVector([0.3937, 0.6063]))]"
      ]
     },
     "execution_count": 89,
     "metadata": {},
     "output_type": "execute_result"
    }
   ],
   "source": [
    "performance_df.select(['uri','label','one_hot_label','prediction'])\\\n",
    ".filter(col('uri').like('%bacteria%')).take(10)"
   ]
  },
  {
   "cell_type": "code",
   "execution_count": 90,
   "metadata": {},
   "outputs": [
    {
     "data": {
      "text/plain": [
       "[Row(uri='/home/aekanun/input/chest_xray/train/PNEUMONIA/person292_virus_598.jpeg', label=1.0, one_hot_label=DenseVector([0.0, 1.0]), prediction=DenseVector([0.3207, 0.6793])),\n",
       " Row(uri='/home/aekanun/input/chest_xray/train/PNEUMONIA/person292_virus_597.jpeg', label=1.0, one_hot_label=DenseVector([0.0, 1.0]), prediction=DenseVector([0.354, 0.646])),\n",
       " Row(uri='/home/aekanun/input/chest_xray/train/PNEUMONIA/person303_virus_624.jpeg', label=1.0, one_hot_label=DenseVector([0.0, 1.0]), prediction=DenseVector([0.3723, 0.6277])),\n",
       " Row(uri='/home/aekanun/input/chest_xray/train/PNEUMONIA/person294_virus_611.jpeg', label=1.0, one_hot_label=DenseVector([0.0, 1.0]), prediction=DenseVector([0.3843, 0.6157])),\n",
       " Row(uri='/home/aekanun/input/chest_xray/train/PNEUMONIA/person279_virus_576.jpeg', label=1.0, one_hot_label=DenseVector([0.0, 1.0]), prediction=DenseVector([0.4202, 0.5798])),\n",
       " Row(uri='/home/aekanun/input/chest_xray/train/PNEUMONIA/person290_virus_594.jpeg', label=1.0, one_hot_label=DenseVector([0.0, 1.0]), prediction=DenseVector([0.3976, 0.6024])),\n",
       " Row(uri='/home/aekanun/input/chest_xray/train/PNEUMONIA/person1314_virus_2266.jpeg', label=1.0, one_hot_label=DenseVector([0.0, 1.0]), prediction=DenseVector([0.3697, 0.6303])),\n",
       " Row(uri='/home/aekanun/input/chest_xray/train/PNEUMONIA/person1324_virus_2284.jpeg', label=1.0, one_hot_label=DenseVector([0.0, 1.0]), prediction=DenseVector([0.3686, 0.6314])),\n",
       " Row(uri='/home/aekanun/input/chest_xray/train/PNEUMONIA/person1328_virus_2293.jpeg', label=1.0, one_hot_label=DenseVector([0.0, 1.0]), prediction=DenseVector([0.4197, 0.5803])),\n",
       " Row(uri='/home/aekanun/input/chest_xray/train/PNEUMONIA/person1278_virus_2201.jpeg', label=1.0, one_hot_label=DenseVector([0.0, 1.0]), prediction=DenseVector([0.3195, 0.6805]))]"
      ]
     },
     "execution_count": 90,
     "metadata": {},
     "output_type": "execute_result"
    }
   ],
   "source": [
    "performance_df.select(['uri','label','one_hot_label','prediction'])\\\n",
    ".filter(col('uri').like('%virus%')).take(10)"
   ]
  },
  {
   "cell_type": "code",
   "execution_count": null,
   "metadata": {
    "collapsed": true
   },
   "outputs": [],
   "source": []
  },
  {
   "cell_type": "code",
   "execution_count": 91,
   "metadata": {
    "collapsed": true
   },
   "outputs": [],
   "source": [
    "from pyspark.sql import functions as F"
   ]
  },
  {
   "cell_type": "code",
   "execution_count": 92,
   "metadata": {
    "collapsed": true
   },
   "outputs": [],
   "source": [
    "result_list = performance_df.groupBy('one_hot_label').agg(F.collect_list('prediction')).take(10)"
   ]
  },
  {
   "cell_type": "code",
   "execution_count": 93,
   "metadata": {},
   "outputs": [
    {
     "name": "stdout",
     "output_type": "stream",
     "text": [
      "TN:  0.0\n",
      "ALL normal:  279\n"
     ]
    }
   ],
   "source": [
    "true_neg_count = 0\n",
    "for predicted_label in result_list[0][1]:\n",
    "    \n",
    "    if predicted_label[0]>predicted_label[1]:\n",
    "        print(predicted_label)\n",
    "        true_neg_count = true_neg_count+1\n",
    "print (\"TN: \",true_neg_count/len(result_list[0][1]))\n",
    "print (\"ALL normal: \" ,len(result_list[0][1]))"
   ]
  },
  {
   "cell_type": "code",
   "execution_count": 94,
   "metadata": {},
   "outputs": [
    {
     "name": "stdout",
     "output_type": "stream",
     "text": [
      "[0.349954158068,0.650045871735]\n",
      "[0.353981763124,0.646018266678]\n",
      "[0.343228816986,0.656771183014]\n",
      "[0.331317394972,0.668682575226]\n",
      "[0.393786102533,0.606213867664]\n",
      "[0.360962629318,0.639037370682]\n",
      "[0.356967777014,0.643032193184]\n",
      "[0.40395963192,0.59604036808]\n",
      "[0.376577049494,0.623423039913]\n",
      "[0.319472491741,0.680527508259]\n",
      "[0.38428735733,0.61571264267]\n",
      "[0.346989542246,0.653010427952]\n",
      "[0.372314602137,0.627685427666]\n",
      "[0.286773741245,0.71322619915]\n",
      "[0.38624984026,0.61375015974]\n",
      "[0.264702916145,0.735297083855]\n",
      "[0.367546826601,0.632453203201]\n",
      "[0.379941165447,0.620058834553]\n",
      "[0.253414273262,0.746585786343]\n",
      "[0.257693707943,0.742306351662]\n",
      "[0.383998781443,0.61600124836]\n",
      "[0.387971550226,0.612028360367]\n",
      "[0.371990591288,0.62800937891]\n",
      "[0.353287100792,0.646712899208]\n",
      "[0.3705278337,0.629472196102]\n",
      "[0.259782165289,0.740217864513]\n",
      "[0.450548648834,0.549451351166]\n",
      "[0.391029506922,0.608970522881]\n",
      "[0.338641017675,0.661359071732]\n",
      "[0.303541600704,0.6964584589]\n",
      "[0.420215725899,0.579784274101]\n",
      "[0.336034446955,0.663965642452]\n",
      "[0.401133060455,0.598866939545]\n",
      "[0.300503253937,0.699496746063]\n",
      "[0.365801244974,0.634198784828]\n",
      "[0.337951600552,0.662048339844]\n",
      "[0.359157532454,0.640842437744]\n",
      "[0.320708215237,0.679291844368]\n",
      "[0.351903647184,0.648096382618]\n",
      "[0.378175348043,0.621824681759]\n",
      "[0.245389416814,0.754610538483]\n",
      "[0.345726162195,0.654273808002]\n",
      "[0.394997239113,0.605002760887]\n",
      "[0.366023898125,0.633976101875]\n",
      "[0.391761600971,0.608238458633]\n",
      "[0.325482189655,0.67451775074]\n",
      "[0.369689643383,0.630310356617]\n",
      "[0.361891508102,0.638108432293]\n",
      "[0.445567727089,0.554432272911]\n",
      "[0.356129229069,0.643870711327]\n",
      "[0.32689037919,0.673109650612]\n",
      "[0.311882078648,0.688117921352]\n",
      "[0.330712944269,0.669287025928]\n",
      "[0.359562158585,0.640437841415]\n",
      "[0.42872017622,0.57127982378]\n",
      "[0.41165626049,0.588343679905]\n",
      "[0.422468215227,0.577531754971]\n",
      "[0.33562323451,0.664376735687]\n",
      "[0.369452446699,0.630547583103]\n",
      "[0.386282682419,0.613717377186]\n",
      "[0.451767653227,0.548232376575]\n",
      "[0.318400293589,0.681599736214]\n",
      "[0.375921875238,0.624078094959]\n",
      "[0.370375394821,0.629624605179]\n",
      "[0.380932658911,0.619067311287]\n",
      "[0.354990929365,0.645009100437]\n",
      "[0.338605344296,0.6613945961]\n",
      "[0.44119015336,0.558809876442]\n",
      "[0.373818665743,0.626181304455]\n",
      "[0.402850806713,0.597149133682]\n",
      "[0.346661537886,0.653338491917]\n",
      "[0.393624305725,0.606375694275]\n",
      "[0.407355517149,0.592644393444]\n",
      "[0.328368514776,0.671631455421]\n",
      "[0.342890709639,0.657109320164]\n",
      "[0.360805660486,0.639194369316]\n",
      "[0.324625998735,0.675373971462]\n",
      "[0.457758426666,0.542241573334]\n",
      "[0.322018653154,0.677981317043]\n",
      "[0.373407393694,0.626592576504]\n",
      "[0.302060544491,0.697939455509]\n",
      "[0.350976258516,0.649023771286]\n",
      "[0.342163860798,0.657836139202]\n",
      "[0.378236085176,0.621763885021]\n",
      "[0.374358832836,0.625641167164]\n",
      "[0.349894523621,0.650105416775]\n",
      "[0.335518687963,0.664481341839]\n",
      "[0.425864607096,0.574135363102]\n",
      "[0.317777693272,0.682222306728]\n",
      "[0.27266728878,0.72733271122]\n",
      "[0.346534103155,0.653465867043]\n",
      "[0.405059099197,0.594940900803]\n",
      "[0.323196202517,0.676803767681]\n",
      "[0.291007846594,0.708992183208]\n",
      "[0.351720929146,0.648279070854]\n",
      "[0.325453817844,0.674546182156]\n",
      "[0.405272066593,0.594727933407]\n",
      "[0.351720511913,0.648279488087]\n",
      "[0.334880173206,0.665119826794]\n",
      "[0.374335825443,0.625664114952]\n",
      "[0.428769767284,0.57123029232]\n",
      "[0.388579756021,0.611420273781]\n",
      "[0.413959264755,0.586040735245]\n",
      "[0.419696211815,0.58030384779]\n",
      "[0.395273178816,0.604726791382]\n",
      "[0.362713783979,0.637286186218]\n",
      "[0.343198359013,0.656801700592]\n",
      "[0.400603294373,0.599396765232]\n",
      "[0.315608799458,0.684391200542]\n",
      "[0.36695766449,0.633042275906]\n",
      "[0.400459676981,0.599540352821]\n",
      "[0.383018493652,0.616981506348]\n",
      "[0.347066223621,0.652933716774]\n",
      "[0.360082894564,0.639917075634]\n",
      "[0.308326393366,0.691673636436]\n",
      "[0.33889400959,0.66110599041]\n",
      "[0.344547569752,0.655452370644]\n",
      "[0.402139335871,0.597860634327]\n",
      "[0.276696652174,0.723303377628]\n",
      "[0.41871714592,0.58128285408]\n",
      "[0.333537936211,0.666462123394]\n",
      "[0.452094823122,0.54790520668]\n",
      "[0.405596762896,0.594403207302]\n",
      "[0.355722814798,0.644277095795]\n",
      "[0.341573625803,0.658426344395]\n",
      "[0.325675457716,0.674324512482]\n",
      "[0.389701157808,0.610298812389]\n",
      "[0.417484760284,0.582515239716]\n",
      "[0.416812568903,0.583187401295]\n",
      "[0.423097670078,0.576902389526]\n",
      "[0.378756135702,0.6212438941]\n",
      "[0.361457407475,0.638542592525]\n",
      "[0.427210450172,0.572789549828]\n",
      "[0.318212836981,0.681787192822]\n",
      "[0.31627613306,0.68372386694]\n",
      "[0.383676022291,0.616323947906]\n",
      "[0.354543834925,0.645456194878]\n",
      "[0.364061027765,0.635938942432]\n",
      "[0.393519550562,0.606480538845]\n",
      "[0.428094416857,0.571905553341]\n",
      "[0.308995515108,0.691004514694]\n",
      "[0.318919897079,0.681080162525]\n",
      "[0.36612573266,0.633874297142]\n",
      "[0.383187204599,0.616812884808]\n",
      "[0.403081446886,0.596918523312]\n",
      "[0.398434042931,0.601566016674]\n",
      "[0.361902087927,0.638097941875]\n",
      "[0.368791013956,0.631208956242]\n",
      "[0.383107960224,0.616892039776]\n",
      "[0.350066840649,0.649933159351]\n",
      "[0.301351815462,0.69864821434]\n",
      "[0.363020241261,0.636979758739]\n",
      "[0.342188358307,0.657811641693]\n",
      "[0.334468454123,0.665531635284]\n",
      "[0.337614089251,0.662385940552]\n",
      "[0.457050383091,0.542949557304]\n",
      "[0.336241751909,0.663758277893]\n",
      "[0.35706999898,0.642930030823]\n",
      "[0.30684274435,0.69315725565]\n",
      "[0.421284526587,0.578715443611]\n",
      "[0.383536607027,0.616463363171]\n",
      "[0.359779328108,0.640220701694]\n",
      "[0.306464403868,0.693535625935]\n",
      "[0.419064611197,0.580935359001]\n",
      "[0.432534903288,0.567465126514]\n",
      "[0.346570104361,0.653429865837]\n",
      "[0.30688303709,0.69311696291]\n",
      "[0.394949615002,0.605050444603]\n",
      "[0.37769189477,0.622308135033]\n",
      "[0.470274925232,0.529725015163]\n",
      "[0.36453384161,0.63546615839]\n",
      "[0.32633253932,0.673667430878]\n",
      "[0.347254961729,0.652745068073]\n",
      "[0.376452714205,0.623547315598]\n",
      "[0.384193867445,0.615806162357]\n",
      "[0.383913516998,0.616086483002]\n",
      "[0.349651157856,0.650348842144]\n",
      "[0.364505261183,0.635494709015]\n",
      "[0.410816073418,0.589183866978]\n",
      "[0.326301455498,0.673698484898]\n",
      "[0.312818944454,0.68718111515]\n",
      "[0.403337419033,0.596662580967]\n",
      "[0.353317320347,0.646682620049]\n",
      "[0.369810134172,0.63018989563]\n",
      "[0.378235667944,0.621764302254]\n",
      "[0.37937605381,0.62062394619]\n",
      "[0.403540104628,0.596459925175]\n",
      "[0.34733492136,0.65266507864]\n",
      "[0.390946805477,0.609053134918]\n",
      "[0.413279235363,0.586720705032]\n",
      "[0.35660380125,0.643396258354]\n",
      "[0.359659224749,0.640340745449]\n",
      "[0.40557423234,0.594425797462]\n",
      "[0.34751984477,0.652480125427]\n",
      "[0.430126428604,0.569873631001]\n",
      "[0.383015006781,0.616984963417]\n",
      "[0.436515390873,0.563484609127]\n",
      "[0.375162363052,0.624837636948]\n",
      "[0.395655959845,0.604344129562]\n",
      "[0.417369514704,0.582630455494]\n",
      "[0.31102257967,0.688977479935]\n",
      "[0.339278966188,0.660721004009]\n",
      "[0.414841264486,0.585158765316]\n",
      "[0.376152932644,0.623847067356]\n",
      "[0.310969561338,0.689030468464]\n",
      "[0.365254849195,0.634745180607]\n",
      "[0.389091730118,0.610908210278]\n",
      "[0.334195941687,0.665804088116]\n",
      "[0.364467293024,0.635532736778]\n",
      "[0.406575381756,0.593424618244]\n",
      "[0.400717437267,0.599282562733]\n",
      "[0.435577362776,0.564422607422]\n",
      "[0.37256154418,0.627438485622]\n",
      "[0.446452945471,0.553547024727]\n",
      "[0.406437516212,0.593562424183]\n",
      "[0.342433393002,0.657566666603]\n",
      "[0.367821604013,0.632178425789]\n",
      "[0.400448352098,0.599551558495]\n",
      "[0.26825734973,0.731742680073]\n",
      "[0.371081084013,0.628918945789]\n",
      "[0.425232619047,0.574767351151]\n",
      "[0.370295464993,0.629704535007]\n",
      "[0.339836865664,0.660163164139]\n",
      "[0.322657644749,0.677342355251]\n",
      "[0.433785647154,0.566214382648]\n",
      "[0.358596235514,0.641403734684]\n",
      "[0.364778161049,0.635221838951]\n",
      "[0.432633072138,0.56736689806]\n",
      "[0.325347214937,0.674652814865]\n",
      "[0.305276036263,0.694723904133]\n",
      "[0.440295606852,0.559704363346]\n",
      "[0.441808491945,0.558191478252]\n",
      "[0.383598834276,0.616401195526]\n",
      "[0.348508745432,0.65149128437]\n",
      "[0.404863327742,0.595136702061]\n",
      "[0.289438307285,0.710561692715]\n",
      "[0.399504423141,0.600495576859]\n",
      "[0.326235294342,0.673764646053]\n",
      "[0.380886822939,0.619113206863]\n",
      "[0.416377782822,0.583622276783]\n",
      "[0.367612212896,0.632387816906]\n",
      "[0.408661305904,0.591338694096]\n",
      "[0.347457170486,0.652542829514]\n",
      "[0.361323773861,0.638676226139]\n",
      "[0.424998700619,0.575001299381]\n",
      "[0.297397702932,0.70260232687]\n",
      "[0.404104322195,0.595895648003]\n",
      "[0.36788764596,0.632112383842]\n",
      "[0.393718451262,0.606281518936]\n",
      "[0.397586107254,0.602413892746]\n",
      "[0.368602246046,0.631397783756]\n",
      "[0.457050830126,0.542949140072]\n",
      "[0.363559782505,0.636440217495]\n",
      "[0.388203680515,0.61179625988]\n",
      "[0.346365958452,0.65363407135]\n",
      "[0.326937973499,0.673062086105]\n",
      "[0.338545352221,0.661454617977]\n",
      "[0.421332508326,0.578667461872]\n",
      "[0.307443499565,0.692556500435]\n",
      "[0.344572991133,0.655426979065]\n",
      "[0.246688455343,0.753311574459]\n",
      "[0.35044798255,0.649551987648]\n",
      "[0.362755566835,0.637244462967]\n",
      "[0.398811757565,0.601188242435]\n",
      "[0.412853509188,0.58714646101]\n",
      "[0.316060960293,0.683939039707]\n",
      "[0.338068306446,0.661931693554]\n",
      "[0.344076216221,0.655923783779]\n",
      "[0.376092761755,0.623907208443]\n",
      "[0.40404510498,0.595954835415]\n",
      "[0.41587972641,0.584120333195]\n",
      "[0.3141451478,0.685854792595]\n",
      "[0.374121695757,0.625878274441]\n",
      "[0.402172058821,0.597827911377]\n",
      "[0.364503890276,0.635496079922]\n",
      "[0.416225463152,0.58377456665]\n",
      "[0.362406015396,0.637593984604]\n",
      "[0.378720134497,0.621279895306]\n",
      "[0.420232176781,0.579767823219]\n",
      "[0.386628717184,0.613371312618]\n",
      "[0.32283899188,0.677161037922]\n",
      "[0.395312428474,0.60468763113]\n",
      "[0.348479270935,0.651520729065]\n",
      "[0.366296678782,0.633703291416]\n",
      "[0.380850166082,0.619149804115]\n",
      "[0.314674824476,0.685325205326]\n",
      "[0.350200474262,0.649799525738]\n",
      "[0.373627781868,0.626372158527]\n",
      "[0.44030842185,0.559691548347]\n",
      "[0.371683657169,0.628316402435]\n",
      "[0.350167691708,0.649832248688]\n",
      "[0.4135658741,0.5864341259]\n",
      "[0.372626155615,0.627373814583]\n",
      "[0.381777733564,0.618222236633]\n",
      "[0.322716712952,0.677283227444]\n",
      "[0.450607806444,0.549392223358]\n",
      "[0.345265448093,0.654734551907]\n",
      "[0.364260077477,0.635739982128]\n",
      "[0.384619563818,0.615380346775]\n",
      "[0.346807777882,0.653192222118]\n",
      "[0.456102818251,0.543897211552]\n",
      "[0.336093366146,0.663906633854]\n",
      "[0.318070888519,0.681929111481]\n",
      "[0.334090828896,0.665909171104]\n",
      "[0.329506903887,0.670493125916]\n",
      "[0.343855649233,0.656144320965]\n",
      "[0.355576723814,0.644423305988]\n",
      "[0.376931339502,0.623068630695]\n",
      "[0.433968424797,0.566031575203]\n",
      "[0.3081420362,0.691857933998]\n",
      "[0.434974342585,0.565025627613]\n",
      "[0.339111000299,0.660888969898]\n",
      "[0.355843454599,0.644156515598]\n",
      "[0.326195985079,0.673804044724]\n",
      "[0.408869683743,0.591130256653]\n",
      "[0.384544163942,0.615455806255]\n",
      "[0.359924703836,0.640075325966]\n",
      "[0.346361875534,0.653638064861]\n",
      "[0.425795406103,0.57420450449]\n",
      "[0.376428216696,0.623571753502]\n",
      "[0.368295043707,0.6317050457]\n",
      "[0.344739675522,0.655260324478]\n",
      "[0.332353800535,0.667646229267]\n",
      "[0.357796579599,0.642203330994]\n",
      "[0.305004000664,0.694995939732]\n",
      "[0.409329622984,0.590670347214]\n",
      "[0.273694187403,0.726305782795]\n",
      "[0.312673956156,0.687326014042]\n",
      "[0.333461880684,0.666538178921]\n",
      "[0.370491296053,0.629508733749]\n",
      "[0.27529284358,0.724707126617]\n",
      "[0.439414322376,0.560585618019]\n",
      "[0.424710392952,0.575289666653]\n",
      "[0.31149494648,0.68850505352]\n",
      "[0.291351556778,0.708648443222]\n",
      "[0.413066476583,0.586933493614]\n",
      "[0.42339193821,0.57660806179]\n",
      "[0.435279160738,0.564720869064]\n",
      "[0.410791933537,0.589208066463]\n",
      "[0.400351643562,0.599648356438]\n",
      "[0.408744245768,0.591255664825]\n",
      "[0.352506011724,0.647493958473]\n",
      "[0.398974627256,0.601025402546]\n",
      "[0.367063015699,0.632937014103]\n",
      "[0.315991491079,0.684008538723]\n",
      "[0.387724250555,0.612275779247]\n",
      "[0.400795221329,0.599204778671]\n",
      "[0.406487524509,0.593512475491]\n",
      "[0.409222692251,0.590777277946]\n",
      "[0.445919007063,0.554081022739]\n",
      "[0.367307335138,0.632692694664]\n",
      "[0.390219181776,0.609780848026]\n",
      "[0.394897311926,0.605102658272]\n",
      "[0.355850189924,0.644149780273]\n",
      "[0.310391962528,0.689608097076]\n",
      "[0.290716081858,0.709284007549]\n",
      "[0.272110641003,0.727889418602]\n",
      "[0.380553692579,0.619446337223]\n",
      "[0.340586721897,0.659413218498]\n",
      "[0.347745597363,0.652254402637]\n",
      "[0.336437284946,0.663562655449]\n",
      "[0.293810606003,0.706189393997]\n",
      "[0.376846194267,0.623153805733]\n",
      "[0.424599319696,0.575400650501]\n",
      "[0.413925021887,0.586075007915]\n",
      "[0.382015287876,0.617984712124]\n",
      "TP:  1.0\n",
      "ALL positive:  366\n"
     ]
    }
   ],
   "source": [
    "true_pos_count = 0\n",
    "for predicted_label in result_list[1][1]:\n",
    "    \n",
    "    if predicted_label[0]<predicted_label[1]:\n",
    "        print(predicted_label)\n",
    "        true_pos_count = true_pos_count+1\n",
    "print (\"TP: \",true_pos_count/len(result_list[1][1]))\n",
    "print (\"ALL positive: \" ,len(result_list[1][1]))"
   ]
  },
  {
   "cell_type": "code",
   "execution_count": null,
   "metadata": {
    "collapsed": true
   },
   "outputs": [],
   "source": []
  }
 ],
 "metadata": {
  "kernelspec": {
   "display_name": "Python 3",
   "language": "python",
   "name": "python3"
  },
  "language_info": {
   "codemirror_mode": {
    "name": "ipython",
    "version": 3
   },
   "file_extension": ".py",
   "mimetype": "text/x-python",
   "name": "python",
   "nbconvert_exporter": "python",
   "pygments_lexer": "ipython3",
   "version": "3.6.1"
  }
 },
 "nbformat": 4,
 "nbformat_minor": 2
}
